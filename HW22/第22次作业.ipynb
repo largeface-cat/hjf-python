{
 "cells": [
  {
   "cell_type": "markdown",
   "metadata": {},
   "source": [
    "# 第二十二次作业 模型攻击与防御\n",
    "\n",
    "指导教师：胡俊峰\n",
    "\n",
    "负责助教：陈滨琪、杨礼铭\n",
    "\n",
    "注意：仅需要提交.ipynb文件。\n",
    "\n",
    "截止日期：6月7日24点"
   ]
  },
  {
   "attachments": {},
   "cell_type": "markdown",
   "metadata": {},
   "source": [
    "# 第零题：Transformer\n",
    "# Transformer工作原理演示\n",
    "\n",
    "本notebook演示了Transformer模型的工作原理。Transformer模型是由Vaswani等人在\"Attention is All You Need\"一文中提出的，用于处理序列到序列（seq2seq）任务，如机器翻译。\n",
    "\n",
    "这个模型主要有两个组成部分：Encoder和Decoder，每个部分都由多层的self-attention和feed forward neural network组成。\n",
    "\n",
    "我们将创建一个简化的Transformer模型，并使用一个固定的句子和词汇表，通过可视化attention来演示其工作原理。\n",
    "\n"
   ]
  },
  {
   "cell_type": "code",
   "execution_count": 105,
   "metadata": {
    "ExecuteTime": {
     "end_time": "2023-06-05T15:10:06.348473700Z",
     "start_time": "2023-06-05T15:10:06.237512100Z"
    }
   },
   "outputs": [],
   "source": [
    "import torch\n",
    "import torch.nn as nn\n",
    "import numpy as np\n",
    "import matplotlib.pyplot as plt\n",
    "import seaborn\n",
    "\n",
    "# 定义一个简化的Transformer模型\n",
    "class Transformer(nn.Module):\n",
    "    def __init__(self, k, heads):\n",
    "        super().__init__()\n",
    "\n",
    "        self.attention = nn.MultiheadAttention(embed_dim=k, num_heads=heads)\n",
    "\n",
    "    def forward(self, x, mask=None):\n",
    "        x = x.permute(1, 0, 2) # (batch_size, seq_len, embedding_dim) -> (seq_len, batch_size, embedding_dim)\n",
    "        attn_output, attn_output_weights = self.attention(x, x, x, attn_mask=mask)\n",
    "        return attn_output.permute(1, 0, 2), attn_output_weights\n",
    "\n",
    "# 创建一个简化版的位置编码函数\n",
    "def position_encoding(seq_len, d_model):\n",
    "    PE = torch.zeros((1, seq_len, d_model))\n",
    "    for pos in range(seq_len):\n",
    "        for i in range(d_model):\n",
    "            PE[:,pos,i] = pos / np.power(10000, (2 * (i // 2)) / np.float32(d_model))\n",
    "    return PE\n"
   ]
  },
  {
   "attachments": {},
   "cell_type": "markdown",
   "metadata": {},
   "source": [
    "# 创建一个固定的句子和词汇表\n",
    "\n",
    "我们将使用一个固定的句子：\"The cat sat on the mat\"。然后我们创建一个词汇表并将句子编码为一个整数序列。然后我们使用一个词嵌入层将这些整数转化为嵌入向量。最后，我们添加位置编码并将结果输入到我们的Transformer模型中。\n"
   ]
  },
  {
   "cell_type": "code",
   "execution_count": 106,
   "metadata": {
    "ExecuteTime": {
     "end_time": "2023-06-05T15:10:06.404777600Z",
     "start_time": "2023-06-05T15:10:06.246363700Z"
    }
   },
   "outputs": [
    {
     "name": "stdout",
     "output_type": "stream",
     "text": [
      "[2, 3, 4, 5, 2, 6]\n",
      "tensor([[[ 0.4345, -0.7919, -0.5739,  ..., -0.8268,  0.3546, -0.5414],\n",
      "         [ 1.0622, -0.4569,  0.7547,  ...,  1.0737,  0.7566, -1.5720],\n",
      "         [ 0.3657, -0.6277,  1.0910,  ..., -0.7818, -0.2664,  1.1476],\n",
      "         [-0.5866, -1.1816, -2.1346,  ...,  1.4386, -0.9925,  1.8619],\n",
      "         [ 0.4345, -0.7919, -0.5739,  ..., -0.8268,  0.3546, -0.5414],\n",
      "         [ 0.5309,  0.5234,  0.0546,  ..., -2.2316,  1.1309, -0.0317]]],\n",
      "       grad_fn=<EmbeddingBackward0>) torch.Size([1, 6, 512])\n",
      "tensor([[[ 0.4345, -0.7919, -0.5739,  ..., -0.8268,  0.3546, -0.5414],\n",
      "         [ 2.0622,  0.5431,  1.7194,  ...,  1.0738,  0.7567, -1.5719],\n",
      "         [ 2.3657,  1.3723,  3.0203,  ..., -0.7816, -0.2662,  1.1478],\n",
      "         [ 2.4134,  1.8184,  0.7594,  ...,  1.4389, -0.9922,  1.8622],\n",
      "         [ 4.4345,  3.2081,  3.2848,  ..., -0.8264,  0.3550, -0.5409],\n",
      "         [ 5.5309,  5.5234,  4.8779,  ..., -2.2311,  1.1314, -0.0312]]],\n",
      "       grad_fn=<AddBackward0>)\n"
     ]
    }
   ],
   "source": [
    "# 创建一个有限的词汇表和一个固定的句子\n",
    "vocab = [\"<PAD>\", \"<UNK>\", \"the\", \"cat\", \"sat\", \"on\", \"mat\"]\n",
    "sentence = \"the cat sat on the mat\"\n",
    "inputs = [vocab.index(word) if word in vocab else vocab.index(\"<UNK>\") for word in sentence.split()]\n",
    "print(inputs)\n",
    "# 对输入进行编码\n",
    "inputs = torch.tensor(inputs).unsqueeze(0)  # 增加batch维度\n",
    "word_embedding = nn.Embedding(len(vocab), 512)\n",
    "inputs = word_embedding(inputs)\n",
    "print(inputs, inputs.shape)\n",
    "inputs += position_encoding(inputs.shape[1], 512)\n",
    "print(inputs)\n",
    "# 创建并运行模型\n",
    "model = Transformer(k=512, heads=8)\n",
    "outputs, attention = model(inputs)\n"
   ]
  },
  {
   "attachments": {},
   "cell_type": "markdown",
   "metadata": {},
   "source": [
    "# 可视化Attention\n",
    "\n",
    "现在我们将注意力权重可视化。在下面的热力图中，行代表输入的每个单词，列代表这个单词对其他单词的注意力权重。\n"
   ]
  },
  {
   "cell_type": "code",
   "execution_count": 107,
   "metadata": {
    "ExecuteTime": {
     "end_time": "2023-06-05T15:10:06.413985600Z",
     "start_time": "2023-06-05T15:10:06.283704Z"
    }
   },
   "outputs": [
    {
     "data": {
      "text/plain": "<Figure size 1000x1000 with 2 Axes>",
      "image/png": "[encoded data removed]"
     },
     "metadata": {},
     "output_type": "display_data"
    }
   ],
   "source": [
    "# 画出注意力权重的热图\n",
    "plt.figure(figsize=(10,10))\n",
    "seaborn.heatmap(attention[0].detach().numpy(), cmap=\"YlGnBu\", xticklabels=sentence.split(), yticklabels=sentence.split())\n",
    "plt.show()\n"
   ]
  },
  {
   "attachments": {},
   "cell_type": "markdown",
   "metadata": {},
   "source": [
    "## 概述\n",
    "本次作业主要内容为：在CIFAR10图像分类数据集上训练卷积神经网络，使用PGD对网络进行对抗攻击。\n",
    "\n",
    "**注:本次作业中若没有GPU环境，将代码中的‘cuda’全部替换为‘cpu’，可以减小训练的epoch**\n",
    "\n",
    "### 对抗攻击\n",
    "神经网络在图片分类任务上取得了很高的准确率，但研究表明它们的鲁棒性往往很差。通过对输入图片进行一个微小的扰动，可以在不影响图片视觉效果的前提下，让神经网络的分类准确率大幅下降。这种对模型进行攻击的方式称为**对抗攻击**，对应的扰动后的图片称为**对抗样本**。\n",
    "\n",
    "根据模型是否可见，对抗攻击可以分为\n",
    "- 白盒攻击（white-box attack）：攻击者知道模型的内部结构与参数，可以对输入数据求梯度来寻找对抗样本。\n",
    "- 黑盒攻击（black-box attack）：攻击者不知道模型的内部结构与参数，仅可以调用模型获取对于给定输入的输出结果。\n",
    "\n",
    "根据是否指定攻击后的分类类别，对抗攻击又可以分为\n",
    "- 指向性攻击（labeled attack）：使模型将扰动后的输入分类为指定的错误类别。\n",
    "- 非指向性攻击（unlabeled attack）：使模型将扰动后的输入分类为任一错误类别。\n",
    "\n",
    "本次作业，我们主要研究白盒非指向性攻击。\n",
    "\n",
    "大多数白盒攻击算法基于模型关于输入的梯度对输入进行扰动。这些算法将对抗攻击转化为求解这样一个优化问题：给定扰动量的限制$\\epsilon$，最大化扰动后的损失函数$\\mathcal{L}(x,y;\\theta)$。例如，Fast Gradient Sign Method (FGSM) 沿着梯度的$l_{\\infty}$范数方向进行一步扰动\n",
    "$$x' = x + \\epsilon \\cdot \\mathrm{sign}(\\nabla_x \\mathcal{L}(x,y;\\theta))$$\n",
    "Projected Gradient Descent (PGD) 可以看作是FGSM的多步迭代版本，其攻击方法为\n",
    "$$x'_{t+1} = \\mathrm{Clip}_{x,\\epsilon}(x'_t + \\alpha \\cdot \\mathrm{sign}(\\nabla_x \\mathcal{L}(x'_t,y;\\theta))$$\n",
    "其中$\\mathrm{Clip}$操作限制扰动的无穷范数不超过$\\epsilon$。"
   ]
  },
  {
   "cell_type": "code",
   "execution_count": 144,
   "metadata": {
    "ExecuteTime": {
     "end_time": "2023-06-05T15:23:40.648576200Z",
     "start_time": "2023-06-05T15:23:40.558180Z"
    }
   },
   "outputs": [],
   "source": [
    "# 导入需要的包\n",
    "import numpy as np\n",
    "import random\n",
    "from tqdm import tqdm\n",
    "\n",
    "\n",
    "import torch\n",
    "import torch.nn as nn\n",
    "import torch.nn.functional as F\n",
    "import torch.optim as optim\n",
    "from torch.utils.data import DataLoader\n",
    "from torch.utils.data import Dataset\n",
    "\n",
    "import torchvision\n",
    "import torchvision.transforms as transforms"
   ]
  },
  {
   "attachments": {},
   "cell_type": "markdown",
   "metadata": {},
   "source": [
    "导入CIFAR10数据集"
   ]
  },
  {
   "cell_type": "code",
   "execution_count": 145,
   "metadata": {
    "ExecuteTime": {
     "end_time": "2023-06-05T15:23:40.649572300Z",
     "start_time": "2023-06-05T15:23:40.568529600Z"
    }
   },
   "outputs": [],
   "source": [
    "class CIFAR10():\n",
    "    NUM_CLASSES = 10\n",
    "    IMAGE_SIZE = [32, 32]\n",
    "    IMAGE_CHANNELS = 3\n",
    "    \n",
    "    def __init__(self):\n",
    "        transform = transforms.Compose([transforms.ToTensor()])\n",
    "        self.load_dataset(transform)\n",
    "    \n",
    "    def load_dataset(self, transform):\n",
    "        self.trainset = torchvision.datasets.CIFAR10(root=\"./data\", transform=transform, download=True)\n",
    "        self.testset = torchvision.datasets.CIFAR10(root=\"./data\", train=False, transform=transform, download=True)"
   ]
  },
  {
   "attachments": {},
   "cell_type": "markdown",
   "metadata": {},
   "source": [
    "## 1.1 实现卷积神经网络(2分)\n",
    "注：实现一个简单的卷积神经网络，有基本的分类能力即可，不要求很高的准确率，本次作业的重点在对抗攻击上。"
   ]
  },
  {
   "cell_type": "code",
   "execution_count": 152,
   "metadata": {
    "ExecuteTime": {
     "end_time": "2023-06-05T15:24:14.584712800Z",
     "start_time": "2023-06-05T15:24:14.509067700Z"
    }
   },
   "outputs": [],
   "source": [
    "# TODO: 搭建卷积神经网络\n",
    "class ConvNet(nn.Module):\n",
    "    def __init__(self, **kwargs):\n",
    "        super(ConvNet, self).__init__()\n",
    "        self.conv1 = nn.Conv2d(3, 32, 3, padding=1)\n",
    "        self.maxpooling = nn.MaxPool2d(2, 2)\n",
    "        self.conv2 = nn.Conv2d(32, 64, 3, padding=1)\n",
    "        self.fc1 = nn.Linear(64 * 8 * 8, 128)\n",
    "        self.fc2 = nn.Linear(128, 10)\n",
    "        self.dropout = nn.Dropout(0.5)\n",
    "\n",
    "        \n",
    "    def forward(self, x):\n",
    "        \"\"\"\n",
    "            x: 输入图片\n",
    "        \"\"\"\n",
    "        x = self.maxpooling(F.relu(self.conv1(x)))\n",
    "        x = self.maxpooling(F.relu(self.conv2(x)))\n",
    "        x = x.view(-1, 64 * 8 * 8)\n",
    "        x = self.dropout(x)\n",
    "        x = F.relu(self.fc1(x))\n",
    "        x = self.dropout(x)\n",
    "        x = self.fc2(x)\n",
    "\n",
    "        return x\n",
    "        "
   ]
  },
  {
   "attachments": {},
   "cell_type": "markdown",
   "metadata": {},
   "source": [
    "## 1.2 补全训练函数(2分)"
   ]
  },
  {
   "cell_type": "code",
   "execution_count": 153,
   "metadata": {
    "ExecuteTime": {
     "end_time": "2023-06-05T15:24:14.585714600Z",
     "start_time": "2023-06-05T15:24:14.517262600Z"
    }
   },
   "outputs": [],
   "source": [
    "def train_step(model, train_loader, optimizer, criterion, device='cpu'):\n",
    "    model.train()\n",
    "    train_loss = 0\n",
    "    for (data, label) in tqdm(train_loader):\n",
    "        data, label = data.to(device), label.to(device)\n",
    "        # TODO: 补全train_step函数\n",
    "        pred = model(data)\n",
    "        loss = criterion(pred, label)\n",
    "        optimizer.zero_grad()\n",
    "        loss.backward()\n",
    "        optimizer.step()\n",
    "        train_loss += loss.item()\n",
    "\n",
    "        \n",
    "    return train_loss / len(train_loader)\n",
    "\n",
    "def test_step(model, test_loader, criterion, device='cpu'):\n",
    "    model.eval()\n",
    "    test_loss = 0\n",
    "    correct = 0\n",
    "    with torch.no_grad():\n",
    "        for data, label in test_loader:\n",
    "            data, label = data.to(device), label.to(device)\n",
    "            # TODO: 补全test_step函数\n",
    "            pred = model(data)\n",
    "            loss = criterion(pred, label)\n",
    "            test_loss += loss.item()\n",
    "            pred = pred.argmax(dim=1, keepdim=True)\n",
    "            correct += pred.eq(label.view_as(pred)).sum().item()\n",
    "\n",
    "            \n",
    "    test_loss /= len(test_loader.dataset)\n",
    "    print(\"Test Loss: {}, Accuracy: {}\".format(test_loss, correct / len(test_loader.dataset)))\n",
    "\n",
    "def train(model, train_loader, test_loader, optimizer, criterion, device='cpu', epochs=10):\n",
    "    for epoch in range(epochs):\n",
    "        train_loss = train_step(model, train_loader, optimizer, criterion, device)\n",
    "        print(\"Epoch: {}, Train Loss: {}\".format(epoch+1, train_loss))\n",
    "        test_step(model, test_loader, criterion, device)"
   ]
  },
  {
   "attachments": {},
   "cell_type": "markdown",
   "metadata": {},
   "source": [
    "## 模型训练\n",
    "可以自行调整学习率或者更换optimizer（不要消耗太多时间用来调参）"
   ]
  },
  {
   "cell_type": "code",
   "execution_count": 154,
   "metadata": {
    "ExecuteTime": {
     "end_time": "2023-06-05T15:24:36.289974100Z",
     "start_time": "2023-06-05T15:24:14.521764300Z"
    }
   },
   "outputs": [
    {
     "name": "stdout",
     "output_type": "stream",
     "text": [
      "Files already downloaded and verified\n",
      "Files already downloaded and verified\n"
     ]
    },
    {
     "name": "stderr",
     "output_type": "stream",
     "text": [
      "100%|██████████| 782/782 [00:03<00:00, 220.68it/s]\n"
     ]
    },
    {
     "name": "stdout",
     "output_type": "stream",
     "text": [
      "Epoch: 1, Train Loss: 1.8452433550449283\n",
      "Test Loss: 0.023762927222251894, Accuracy: 0.4661\n"
     ]
    },
    {
     "name": "stderr",
     "output_type": "stream",
     "text": [
      "100%|██████████| 782/782 [00:03<00:00, 231.31it/s]\n"
     ]
    },
    {
     "name": "stdout",
     "output_type": "stream",
     "text": [
      "Epoch: 2, Train Loss: 1.5412452056279877\n",
      "Test Loss: 0.021449998331069947, Accuracy: 0.518\n"
     ]
    },
    {
     "name": "stderr",
     "output_type": "stream",
     "text": [
      "100%|██████████| 782/782 [00:03<00:00, 222.90it/s]\n"
     ]
    },
    {
     "name": "stdout",
     "output_type": "stream",
     "text": [
      "Epoch: 3, Train Loss: 1.4354652619117971\n",
      "Test Loss: 0.02023727595806122, Accuracy: 0.5508\n"
     ]
    },
    {
     "name": "stderr",
     "output_type": "stream",
     "text": [
      "100%|██████████| 782/782 [00:03<00:00, 217.03it/s]\n"
     ]
    },
    {
     "name": "stdout",
     "output_type": "stream",
     "text": [
      "Epoch: 4, Train Loss: 1.3727683109395645\n",
      "Test Loss: 0.01975631926059723, Accuracy: 0.5501\n"
     ]
    },
    {
     "name": "stderr",
     "output_type": "stream",
     "text": [
      "100%|██████████| 782/782 [00:03<00:00, 225.10it/s]\n"
     ]
    },
    {
     "name": "stdout",
     "output_type": "stream",
     "text": [
      "Epoch: 5, Train Loss: 1.3257104824571049\n",
      "Test Loss: 0.018995205795764924, Accuracy: 0.5711\n"
     ]
    }
   ],
   "source": [
    "dataset = CIFAR10()\n",
    "train_dataloader = DataLoader(dataset.trainset, batch_size=64, shuffle=True)\n",
    "test_dataloader = DataLoader(dataset.testset, batch_size=64, shuffle=False)\n",
    "#print(\"Train Size: {}, Test Size: {}\".format(len(train_dataloader.dataset), len(test_dataloader.dataset)))\n",
    "model = ConvNet().to('cuda')\n",
    "lr = 0.0002\n",
    "optimizer = optim.Adam(model.parameters(), lr=lr)\n",
    "criterion = nn.CrossEntropyLoss()\n",
    "train(model, train_dataloader, test_dataloader, optimizer, criterion, device='cuda', epochs=5)"
   ]
  },
  {
   "attachments": {},
   "cell_type": "markdown",
   "metadata": {},
   "source": [
    "## 1.3 PGD对抗攻击(4分)\n",
    "按照介绍中的公式，补全PGD攻击的函数\n",
    "\n",
    "`实在写不出来可以参考`[链接](https://muyuuuu.github.io/2021/04/26/DNN-safe-basic/)"
   ]
  },
  {
   "cell_type": "code",
   "execution_count": 155,
   "metadata": {
    "ExecuteTime": {
     "end_time": "2023-06-05T15:24:36.289974100Z",
     "start_time": "2023-06-05T15:24:36.287978600Z"
    }
   },
   "outputs": [],
   "source": [
    "class PGD():\n",
    "    \"\"\"The PGD attack class\n",
    "    \"\"\"\n",
    "    def __init__(self, model, eps=8 / 255, alpha=2 / 255, steps=4):\n",
    "        \"\"\"The init function of the PGD attack class\n",
    "\n",
    "        Args:\n",
    "            model (nn.Model): The model.\n",
    "            eps (float, optional): The limit of the disturbance. Defaults to 8/255.\n",
    "            alpha (float, optional): The magnitude of the disturbance. Defaults to 2/255.\n",
    "            steps (int, optional): Number of iterations of the disturbance. Defaults to 4.\n",
    "        \"\"\"\n",
    "        self.model = model\n",
    "        self.eps = eps\n",
    "        self.alpha = alpha\n",
    "        self.steps = steps\n",
    "\n",
    "    def forward(self, images, labels, loss_fn, device='cpu'):\n",
    "        \"\"\"The forward function of the PGD attack class\n",
    "\n",
    "        Args:\n",
    "            images (Tensor): The images.\n",
    "            labels (Tensor): The labels.\n",
    "            loss_fn (nn.function): The loss function.\n",
    "            device (str, optional): The device to use. Defaults to 'cpu'.\n",
    "\n",
    "        Returns:\n",
    "            Tensor: Images that are used as attacks after adding scrambling.\n",
    "        \"\"\"\n",
    "        self.images = images.to(device)\n",
    "        self.labels = labels.to(device)\n",
    "        original_images = images.data.to(device)\n",
    "        # TODO: 补全对抗攻击的函数，返回添加扰动后的图片\n",
    "        for step in range(self.steps):\n",
    "            self.images.requires_grad = True\n",
    "            outputs = self.model(self.images)\n",
    "            model.zero_grad()\n",
    "            loss = loss_fn(outputs, self.labels).to(device)\n",
    "            loss.backward()\n",
    "            self.images = self.images + self.alpha * self.images.grad.sign()\n",
    "            eta = torch.clamp(self.images - original_images, min=-self.eps, max=self.eps)\n",
    "            self.images = torch.clamp(original_images + eta, min=0, max=1).detach()\n",
    "        return self.images"
   ]
  },
  {
   "attachments": {},
   "cell_type": "markdown",
   "metadata": {},
   "source": [
    "## 生成对抗样本\n",
    "使用PGD生成对抗样本，调用Adversarial_example类生成对抗样本，注意指定dataloader，model，loss_fn参数"
   ]
  },
  {
   "cell_type": "code",
   "execution_count": 156,
   "metadata": {
    "ExecuteTime": {
     "end_time": "2023-06-05T15:24:36.289974100Z",
     "start_time": "2023-06-05T15:24:36.288978100Z"
    }
   },
   "outputs": [],
   "source": [
    "class Adversarial_examples(Dataset):\n",
    "    \"\"\"The Adversarial_examples Dataset.\n",
    "    \"\"\"\n",
    "    def __init__(self, dataloader, model, loss_fn, eps=8 / 255, alpha=2 / 255, steps=4, device='cpu'):\n",
    "        \"\"\"The __init__ function of the Adversarial_examples Dataset.\n",
    "\n",
    "        Args:\n",
    "            test_dataloader (DataLoader): The dataloader of test dataset.\n",
    "            model (nn.Module): The model to attack.\n",
    "            loss_fn (_type_): The loss function.\n",
    "            eps (float, optional): The limit of the disturbance. Defaults to 8/255.\n",
    "            alpha (float, optional): The magnitude of the disturbance. Defaults to 2/255.\n",
    "            steps (int, optional): Number of iterations of the disturbance. Defaults to 4.\n",
    "            device (str, optional): The device to use. Defaults to 'cpu'.\n",
    "        \"\"\"\n",
    "        self.adversarial_data = None\n",
    "        self.lables = None\n",
    "        pgd = PGD(model, eps=eps, alpha=alpha, steps=steps)\n",
    "        for image, lable in tqdm(dataloader):\n",
    "            data = pgd.forward(images=image, labels=lable,\n",
    "                               loss_fn=loss_fn, device=device)\n",
    "            if self.adversarial_data is None:\n",
    "                self.adversarial_data = data.cpu()\n",
    "            else:\n",
    "                self.adversarial_data = torch.concat(\n",
    "                    (self.adversarial_data, data.cpu()), dim=0)\n",
    "            if self.lables is None:\n",
    "                self.lables = lable.cpu()\n",
    "            else:\n",
    "                self.lables = torch.concat((self.lables, lable.cpu()), dim=0)\n",
    "\n",
    "    def __len__(self):\n",
    "        return len(self.adversarial_data)\n",
    "\n",
    "    def __getitem__(self, index):\n",
    "        return self.adversarial_data[index], self.lables[index]"
   ]
  },
  {
   "attachments": {},
   "cell_type": "markdown",
   "metadata": {},
   "source": [
    "使用test_data生成对抗样本，并创建对应的dataloader"
   ]
  },
  {
   "cell_type": "code",
   "execution_count": 157,
   "metadata": {
    "ExecuteTime": {
     "end_time": "2023-06-05T15:24:38.480437400Z",
     "start_time": "2023-06-05T15:24:36.288978100Z"
    }
   },
   "outputs": [
    {
     "name": "stderr",
     "output_type": "stream",
     "text": [
      "100%|██████████| 157/157 [00:02<00:00, 71.36it/s]\n"
     ]
    }
   ],
   "source": [
    "Adversarial_examples_test_dataset = Adversarial_examples(test_dataloader, model, criterion, device='cuda')\n",
    "Adversarial_examples_test_dataloader = DataLoader(Adversarial_examples_test_dataset, batch_size=64, shuffle=False)"
   ]
  },
  {
   "attachments": {},
   "cell_type": "markdown",
   "metadata": {},
   "source": [
    "查看生成的对抗样本和原始图片，可以看出对抗样本的视觉效果基本没有变化，但是模型的分类结果却发生了改变"
   ]
  },
  {
   "cell_type": "code",
   "execution_count": 158,
   "metadata": {
    "ExecuteTime": {
     "end_time": "2023-06-05T15:24:38.732522800Z",
     "start_time": "2023-06-05T15:24:38.483428300Z"
    }
   },
   "outputs": [
    {
     "data": {
      "text/plain": "<Figure size 3000x1000 with 10 Axes>",
      "image/png": "[encoded data removed]"
     },
     "metadata": {},
     "output_type": "display_data"
    }
   ],
   "source": [
    "import matplotlib.pyplot as plt\n",
    "import numpy as np\n",
    "text_labels = ['airplane', 'automobile', 'bird', 'cat', 'deer', 'dog', 'frog', 'horse', 'ship', 'truck']\n",
    "adv_images, adv_labels = next(iter(Adversarial_examples_test_dataloader))\n",
    "pred_labels = model(adv_images.to('cuda')).argmax(dim=1)\n",
    "adv_images = adv_images.numpy()\n",
    "adv_labels = adv_labels.numpy()\n",
    "adv_images = np.transpose(adv_images, (0, 2, 3, 1))\n",
    "adv_labels = np.squeeze(adv_labels)\n",
    "img, labels = next(iter(test_dataloader))\n",
    "img = img.numpy()\n",
    "img = np.clip(img, 0, 1)\n",
    "labels = labels.numpy()\n",
    "img = np.transpose(img, (0, 2, 3, 1))\n",
    "labels = np.squeeze(labels)\n",
    "plt.figure(figsize=(30, 10))\n",
    "for i in range(5):\n",
    "    plt.subplot(2, 5, i+1)\n",
    "    plt.xticks([])\n",
    "    plt.yticks([])\n",
    "    plt.grid(False)\n",
    "    plt.imshow(img[i])\n",
    "    plt.xlabel(text_labels[labels[i]], fontsize=20)\n",
    "for i in range(5):\n",
    "    plt.subplot(2, 5, 5+i+1)\n",
    "    plt.xticks([])\n",
    "    plt.yticks([])\n",
    "    plt.grid(False)\n",
    "    plt.imshow(adv_images[i])\n",
    "    plt.xlabel(text_labels[pred_labels[i]], fontsize=20)\n",
    "plt.show()"
   ]
  },
  {
   "attachments": {},
   "cell_type": "markdown",
   "metadata": {},
   "source": [
    "## 测试\n",
    "使用对抗样本测试模型的准确率，可以看到准确率大幅下降"
   ]
  },
  {
   "cell_type": "code",
   "execution_count": 159,
   "metadata": {
    "ExecuteTime": {
     "end_time": "2023-06-05T15:24:39.487462Z",
     "start_time": "2023-06-05T15:24:38.732522800Z"
    }
   },
   "outputs": [
    {
     "name": "stdout",
     "output_type": "stream",
     "text": [
      "Test Loss: 0.018995205795764924, Accuracy: 0.5711\n",
      "Test Loss: 0.04958844609260559, Accuracy: 0.0754\n"
     ]
    }
   ],
   "source": [
    "test_step(model, test_dataloader, criterion, device='cuda')\n",
    "test_step(model, Adversarial_examples_test_dataloader, criterion, device='cuda')"
   ]
  },
  {
   "attachments": {},
   "cell_type": "markdown",
   "metadata": {},
   "source": [
    "## 1.4 计算attack成功率(2分)\n",
    "补全evaluate函数，计算攻击成功率"
   ]
  },
  {
   "cell_type": "code",
   "execution_count": 160,
   "metadata": {
    "ExecuteTime": {
     "end_time": "2023-06-05T15:24:40.160958500Z",
     "start_time": "2023-06-05T15:24:39.489816900Z"
    }
   },
   "outputs": [
    {
     "name": "stdout",
     "output_type": "stream",
     "text": [
      "Attack Accuracy: 86 %\n"
     ]
    }
   ],
   "source": [
    "# 计算attack成功率\n",
    "def evaluate(model, test_loader, adv_loader, device='cpu'):\n",
    "    model.eval()\n",
    "    correct = 0\n",
    "    attack_success = 0\n",
    "    for (images, labels), (adv_images, adv_labels) in zip(test_loader, adv_loader):\n",
    "        images = images.to(device)\n",
    "        labels = labels.to(device)\n",
    "        adv_images = adv_images.to(device)\n",
    "        adv_labels = adv_labels.to(device)\n",
    "        # TODO: 分别计算预测正确的数量和原来预测正确，攻击后预测错误的数量\n",
    "        pred_original = model(images).argmax(dim=1)\n",
    "        pred_adv = model(adv_images).argmax(dim=1)\n",
    "        correct += (pred_original == labels).sum().item()\n",
    "        attack_success += ((pred_original == labels) * (pred_adv != labels)).sum().item()\n",
    "\n",
    "    print('Attack Accuracy: %d %%' % (100 * attack_success/ correct))\n",
    "\n",
    "evaluate(model, test_dataloader, Adversarial_examples_test_dataloader, device='cuda')"
   ]
  },
  {
   "attachments": {},
   "cell_type": "markdown",
   "metadata": {},
   "source": [
    "## 1.5 附加题: 防御措施(2分)\n",
    "选择课件上的一种防御措施，或者自己认为有效的防御措施，实现防御措施并测试攻击成功率"
   ]
  },
  {
   "cell_type": "code",
   "execution_count": 161,
   "outputs": [
    {
     "name": "stderr",
     "output_type": "stream",
     "text": [
      "100%|██████████| 157/157 [00:00<00:00, 504.28it/s]\n"
     ]
    },
    {
     "name": "stdout",
     "output_type": "stream",
     "text": [
      "Epoch: 1, Train Loss: 2.1046194642972034\n"
     ]
    },
    {
     "name": "stderr",
     "output_type": "stream",
     "text": [
      "100%|██████████| 157/157 [00:00<00:00, 497.72it/s]\n"
     ]
    },
    {
     "name": "stdout",
     "output_type": "stream",
     "text": [
      "Epoch: 2, Train Loss: 1.9304087420178067\n"
     ]
    },
    {
     "name": "stderr",
     "output_type": "stream",
     "text": [
      "100%|██████████| 157/157 [00:00<00:00, 503.13it/s]\n"
     ]
    },
    {
     "name": "stdout",
     "output_type": "stream",
     "text": [
      "Epoch: 3, Train Loss: 1.8687791998978633\n"
     ]
    },
    {
     "name": "stderr",
     "output_type": "stream",
     "text": [
      "100%|██████████| 157/157 [00:00<00:00, 483.13it/s]\n"
     ]
    },
    {
     "name": "stdout",
     "output_type": "stream",
     "text": [
      "Epoch: 4, Train Loss: 1.833371296809737\n"
     ]
    },
    {
     "name": "stderr",
     "output_type": "stream",
     "text": [
      "100%|██████████| 157/157 [00:00<00:00, 478.73it/s]\n"
     ]
    },
    {
     "name": "stdout",
     "output_type": "stream",
     "text": [
      "Epoch: 5, Train Loss: 1.7905550967356203\n",
      "Attack Accuracy: 20 %\n"
     ]
    }
   ],
   "source": [
    "# TODO:\n",
    "# 1. 实现防御措施，用对抗数据扩充训练集\n",
    "def defense(model, attacker):\n",
    "    train2(model, attacker, optimizer, criterion, device='cuda', epochs=5)\n",
    "# 重写训练函数\n",
    "def train_step2(model, train_loader, optimizer, criterion, device='cpu'):\n",
    "    model.train()\n",
    "    train_loss = 0\n",
    "    for (data, label) in tqdm(train_loader):\n",
    "        data, label = data.to(device), label.to(device)\n",
    "        data.requires_grad = True\n",
    "        pred = model(data)\n",
    "        loss = criterion(pred, label)\n",
    "        optimizer.zero_grad()\n",
    "        loss.backward()\n",
    "        optimizer.step()\n",
    "        train_loss += loss.item()\n",
    "    return train_loss / len(train_loader)\n",
    "def train2(model, train_loader, optimizer, criterion, device='cpu', epochs=10):\n",
    "    for epoch in range(epochs):\n",
    "        train_loss = train_step2(model, train_loader, optimizer, criterion, device)\n",
    "        print(\"Epoch: {}, Train Loss: {}\".format(epoch+1, train_loss))\n",
    "defense(model, Adversarial_examples_test_dataloader)\n",
    "# 2. 测试攻击成功率\n",
    "evaluate(model, test_dataloader, Adversarial_examples_test_dataloader, device='cuda')"
   ],
   "metadata": {
    "collapsed": false,
    "ExecuteTime": {
     "end_time": "2023-06-05T15:24:42.428278800Z",
     "start_time": "2023-06-05T15:24:40.163735100Z"
    }
   }
  },
  {
   "cell_type": "markdown",
   "source": [
    "防御效果显著"
   ],
   "metadata": {
    "collapsed": false
   }
  },
  {
   "cell_type": "markdown",
   "source": [
    "完结撒花"
   ],
   "metadata": {
    "collapsed": false
   }
  },
  {
   "cell_type": "markdown",
   "source": [],
   "metadata": {
    "collapsed": false
   }
  }
 ],
 "metadata": {
  "kernelspec": {
   "display_name": "base",
   "language": "python",
   "name": "python3"
  },
  "language_info": {
   "codemirror_mode": {
    "name": "ipython",
    "version": 3
   },
   "file_extension": ".py",
   "mimetype": "text/x-python",
   "name": "python",
   "nbconvert_exporter": "python",
   "pygments_lexer": "ipython3",
   "version": "3.9.15"
  },
  "orig_nbformat": 4
 },
 "nbformat": 4,
 "nbformat_minor": 2
}
