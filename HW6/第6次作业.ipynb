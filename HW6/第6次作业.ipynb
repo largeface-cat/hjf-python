{
 "cells": [
  {
   "attachments": {},
   "cell_type": "markdown",
   "metadata": {},
   "source": [
    "# Homework 6\n",
    "任课老师：胡俊峰\n",
    "\n",
    "负责助教：苏亚鲁、李浩然\n",
    "\n",
    "注意：仅需要提交.ipynb文件，请**不要**将下发压缩包中的其他文件一并交上。\n",
    "\n",
    "截止日期：3月18日24点"
   ]
  },
  {
   "attachments": {},
   "cell_type": "markdown",
   "metadata": {},
   "source": [
    "## 第零部分 代码理解\n",
    "### 0.1 阅读代码预测结果，分析结果是否如预期，并按要求填充代码行，实现功能。"
   ]
  },
  {
   "cell_type": "code",
   "execution_count": 1,
   "metadata": {
    "ExecuteTime": {
     "end_time": "2023-12-11T09:54:11.189253400Z",
     "start_time": "2023-12-11T09:54:11.180965800Z"
    }
   },
   "outputs": [
    {
     "name": "stdout",
     "output_type": "stream",
     "text": [
      "   a  b\n",
      "0  1  2\n",
      "1  3  4\n",
      "0    1\n",
      "1    3\n",
      "Name: a, dtype: int64\n"
     ]
    }
   ],
   "source": [
    "import pandas as pd\n",
    "df = pd.DataFrame([[1, 2], [3, 4]], columns = ['a','b'])\n",
    "print(df)\n",
    "print(df['a']) "
   ]
  },
  {
   "cell_type": "code",
   "execution_count": 2,
   "metadata": {
    "ExecuteTime": {
     "end_time": "2023-12-11T09:54:11.575329400Z",
     "start_time": "2023-12-11T09:54:11.189253400Z"
    }
   },
   "outputs": [
    {
     "name": "stdout",
     "output_type": "stream",
     "text": [
      "a    3\n",
      "b    4\n",
      "Name: 1, dtype: int64\n",
      "3\n"
     ]
    },
    {
     "ename": "KeyError",
     "evalue": "'a'",
     "output_type": "error",
     "traceback": [
      "\u001B[1;31m---------------------------------------------------------------------------\u001B[0m",
      "\u001B[1;31mKeyError\u001B[0m                                  Traceback (most recent call last)",
      "Cell \u001B[1;32mIn[2], line 5\u001B[0m\n\u001B[0;32m      3\u001B[0m \u001B[38;5;28mprint\u001B[39m(dft[\u001B[38;5;241m1\u001B[39m])\n\u001B[0;32m      4\u001B[0m \u001B[38;5;28mprint\u001B[39m(dft[\u001B[38;5;241m1\u001B[39m][\u001B[38;5;124m'\u001B[39m\u001B[38;5;124ma\u001B[39m\u001B[38;5;124m'\u001B[39m])  \u001B[38;5;66;03m#  print(dft['a'][1] ?)\u001B[39;00m\n\u001B[1;32m----> 5\u001B[0m \u001B[38;5;28mprint\u001B[39m(\u001B[43mdft\u001B[49m\u001B[43m[\u001B[49m\u001B[38;5;124;43m'\u001B[39;49m\u001B[38;5;124;43ma\u001B[39;49m\u001B[38;5;124;43m'\u001B[39;49m\u001B[43m]\u001B[49m[\u001B[38;5;241m1\u001B[39m])  \u001B[38;5;66;03m#  KeyError, should be [column][row]\u001B[39;00m\n",
      "File \u001B[1;32mD:\\PyCharm 2023.1\\py311-common\\venv\\Lib\\site-packages\\pandas\\core\\frame.py:3761\u001B[0m, in \u001B[0;36mDataFrame.__getitem__\u001B[1;34m(self, key)\u001B[0m\n\u001B[0;32m   3759\u001B[0m \u001B[38;5;28;01mif\u001B[39;00m \u001B[38;5;28mself\u001B[39m\u001B[38;5;241m.\u001B[39mcolumns\u001B[38;5;241m.\u001B[39mnlevels \u001B[38;5;241m>\u001B[39m \u001B[38;5;241m1\u001B[39m:\n\u001B[0;32m   3760\u001B[0m     \u001B[38;5;28;01mreturn\u001B[39;00m \u001B[38;5;28mself\u001B[39m\u001B[38;5;241m.\u001B[39m_getitem_multilevel(key)\n\u001B[1;32m-> 3761\u001B[0m indexer \u001B[38;5;241m=\u001B[39m \u001B[38;5;28;43mself\u001B[39;49m\u001B[38;5;241;43m.\u001B[39;49m\u001B[43mcolumns\u001B[49m\u001B[38;5;241;43m.\u001B[39;49m\u001B[43mget_loc\u001B[49m\u001B[43m(\u001B[49m\u001B[43mkey\u001B[49m\u001B[43m)\u001B[49m\n\u001B[0;32m   3762\u001B[0m \u001B[38;5;28;01mif\u001B[39;00m is_integer(indexer):\n\u001B[0;32m   3763\u001B[0m     indexer \u001B[38;5;241m=\u001B[39m [indexer]\n",
      "File \u001B[1;32mD:\\PyCharm 2023.1\\py311-common\\venv\\Lib\\site-packages\\pandas\\core\\indexes\\range.py:349\u001B[0m, in \u001B[0;36mRangeIndex.get_loc\u001B[1;34m(self, key)\u001B[0m\n\u001B[0;32m    347\u001B[0m         \u001B[38;5;28;01mraise\u001B[39;00m \u001B[38;5;167;01mKeyError\u001B[39;00m(key) \u001B[38;5;28;01mfrom\u001B[39;00m \u001B[38;5;21;01merr\u001B[39;00m\n\u001B[0;32m    348\u001B[0m \u001B[38;5;28;01mif\u001B[39;00m \u001B[38;5;28misinstance\u001B[39m(key, Hashable):\n\u001B[1;32m--> 349\u001B[0m     \u001B[38;5;28;01mraise\u001B[39;00m \u001B[38;5;167;01mKeyError\u001B[39;00m(key)\n\u001B[0;32m    350\u001B[0m \u001B[38;5;28mself\u001B[39m\u001B[38;5;241m.\u001B[39m_check_indexing_error(key)\n\u001B[0;32m    351\u001B[0m \u001B[38;5;28;01mraise\u001B[39;00m \u001B[38;5;167;01mKeyError\u001B[39;00m(key)\n",
      "\u001B[1;31mKeyError\u001B[0m: 'a'"
     ]
    }
   ],
   "source": [
    "# 理解那个是0号索引\n",
    "dft = df.T           \n",
    "print(dft[1])\n",
    "print(dft[1]['a'])  #  print(dft['a'][1] ?)\n",
    "print(dft['a'][1])  #  KeyError, should be [column][row]"
   ]
  },
  {
   "cell_type": "code",
   "execution_count": 3,
   "metadata": {
    "ExecuteTime": {
     "end_time": "2023-12-11T09:54:25.262517100Z",
     "start_time": "2023-12-11T09:54:25.244007100Z"
    }
   },
   "outputs": [
    {
     "name": "stdout",
     "output_type": "stream",
     "text": [
      "   a  b\n",
      "0  1  2\n",
      "1  3  4\n",
      "0  5  6\n",
      "1  7  8\n",
      "   a  b  a  b\n",
      "0  1  2  5  6\n",
      "1  3  4  7  8\n"
     ]
    }
   ],
   "source": [
    "df2 = pd.DataFrame([[5, 6], [7, 8]], columns = ['a','b'])\n",
    "df3 = pd.concat([df,df2])  # 尝试用一行代码，df1，df2的横向拼接？\n",
    "df4 = pd.concat([df,df2],axis=1)\n",
    "print(df3)\n",
    "print(df4)"
   ]
  },
  {
   "cell_type": "code",
   "execution_count": 4,
   "metadata": {
    "ExecuteTime": {
     "end_time": "2023-12-11T09:54:34.082831300Z",
     "start_time": "2023-12-11T09:54:34.078389300Z"
    }
   },
   "outputs": [
    {
     "name": "stdout",
     "output_type": "stream",
     "text": [
      "   a  b\n",
      "0  1  2\n",
      "1  3  4\n"
     ]
    }
   ],
   "source": [
    "# 请填充一行代码，实现打印 ‘b’列的值 <6 的df3的子视图\n",
    "print(df3[df3['b'] < 6])"
   ]
  },
  {
   "cell_type": "code",
   "execution_count": 5,
   "metadata": {
    "ExecuteTime": {
     "end_time": "2023-12-11T09:54:34.621574600Z",
     "start_time": "2023-12-11T09:54:34.613063400Z"
    }
   },
   "outputs": [
    {
     "name": "stdout",
     "output_type": "stream",
     "text": [
      "   A  B\n",
      "0  4  9\n",
      "1  4  9\n",
      "2  4  9\n"
     ]
    }
   ],
   "source": [
    "df = pd.DataFrame([[4, 9]] * 3, columns=['A', 'B'])\n",
    "print(df)"
   ]
  },
  {
   "cell_type": "markdown",
   "metadata": {},
   "source": [
    "dataframe.apply(function,axis)对一行或一列做出一些操作（axis=1遍历行，axis=0遍历列），可以使用匿名函数。"
   ]
  },
  {
   "cell_type": "code",
   "execution_count": 6,
   "metadata": {
    "ExecuteTime": {
     "end_time": "2023-12-11T09:54:35.799997900Z",
     "start_time": "2023-12-11T09:54:35.799496200Z"
    }
   },
   "outputs": [
    {
     "name": "stdout",
     "output_type": "stream",
     "text": [
      "A    12\n",
      "B    27\n",
      "dtype: int64\n",
      "0    13\n",
      "1    13\n",
      "2    13\n",
      "dtype: int64\n"
     ]
    }
   ],
   "source": [
    "import numpy as np\n",
    "print(df.apply(np.sum))\n",
    "print(df.apply(np.sum, axis=1))"
   ]
  },
  {
   "cell_type": "code",
   "execution_count": 7,
   "metadata": {
    "ExecuteTime": {
     "end_time": "2023-12-11T09:54:36.159497600Z",
     "start_time": "2023-12-11T09:54:36.140445500Z"
    }
   },
   "outputs": [
    {
     "data": {
      "text/plain": "0    [1, 2]\n1    [1, 2]\n2    [1, 2]\ndtype: object"
     },
     "execution_count": 7,
     "metadata": {},
     "output_type": "execute_result"
    }
   ],
   "source": [
    "df.apply(lambda x: [1, 2], axis=1)"
   ]
  },
  {
   "cell_type": "code",
   "execution_count": 8,
   "metadata": {
    "ExecuteTime": {
     "end_time": "2023-12-11T09:54:36.760531800Z",
     "start_time": "2023-12-11T09:54:36.745151800Z"
    }
   },
   "outputs": [
    {
     "data": {
      "text/plain": "   0  1\n0  1  2\n1  1  2\n2  1  2",
      "text/html": "<div>\n<style scoped>\n    .dataframe tbody tr th:only-of-type {\n        vertical-align: middle;\n    }\n\n    .dataframe tbody tr th {\n        vertical-align: top;\n    }\n\n    .dataframe thead th {\n        text-align: right;\n    }\n</style>\n<table border=\"1\" class=\"dataframe\">\n  <thead>\n    <tr style=\"text-align: right;\">\n      <th></th>\n      <th>0</th>\n      <th>1</th>\n    </tr>\n  </thead>\n  <tbody>\n    <tr>\n      <th>0</th>\n      <td>1</td>\n      <td>2</td>\n    </tr>\n    <tr>\n      <th>1</th>\n      <td>1</td>\n      <td>2</td>\n    </tr>\n    <tr>\n      <th>2</th>\n      <td>1</td>\n      <td>2</td>\n    </tr>\n  </tbody>\n</table>\n</div>"
     },
     "execution_count": 8,
     "metadata": {},
     "output_type": "execute_result"
    }
   ],
   "source": [
    "df.apply(lambda x: [1, 2], axis=1, result_type='expand')"
   ]
  },
  {
   "cell_type": "markdown",
   "metadata": {},
   "source": [
    "### 0.2 请认真阅读并运行以下示例代码，并思考C/S的多进程、多线程以及下面代码中select实现方式的优缺点。\n",
    "注：文件夹下的example_client.py为本思考题对应的客户端文件。client.py为第一部分网络编程对应的客户端文件。（两个客户端均无需改动）"
   ]
  },
  {
   "cell_type": "code",
   "execution_count": null,
   "metadata": {
    "is_executing": true,
    "ExecuteTime": {
     "start_time": "2023-12-11T10:55:54.038022600Z"
    }
   },
   "outputs": [
    {
     "name": "stdout",
     "output_type": "stream",
     "text": [
      "new connection from ('127.0.0.1', 53445)\n",
      "收到来自[127.0.0.1]的数据: b'GET / HTTP/1.1\\r\\nHost: 127.0.0.1:9999\\r\\nConnection: keep-alive\\r\\nsec-ch-ua: \"Not_A Brand\";v=\"8\", \"Chromium\";v=\"120\", \"Microsoft Edge\";v=\"120\"\\r\\nsec-ch-ua-mobile: ?0\\r\\nsec-ch-ua-platform: \"Windows\"\\r\\nUpgrade-Insecure-Requests: 1\\r\\nUser-Agent: Mozilla/5.0 (Windows NT 10.0; Win64; x64) AppleWebKit/537.36 (KHTML, like Gecko) Chrome/120.0.0.0 Safari/537.36 Edg/120.0.0.0\\r\\nAccept: text/html,application/xhtml+xml,application/xml;q=0.9,image/webp,image/apng,*/*;q=0.8,application/signed-exchange;v=b3;q=0.7\\r\\nSec-Fetch-Site: none\\r\\nSec-Fetch-Mode: navigate\\r\\nSec-Fetch-User: ?1\\r\\nSec-Fetch-Dest: document\\r\\nAccept-Encoding: gzip, deflate, br\\r\\nAccept-Language: en,zh-CN;q=0.9,zh;q=0.8,en-GB;q=0.7,en-US;q=0.6,no;q=0.5,zh-TW;q=0.4\\r\\nCookie: _ga=GA1.1.1364373718.1688716276; _xsrf=2|a2c79a0a|0900834bd4f3808b23f7263654e177db|1689730844; _ga_R1FN4KJKJH=GS1.1.1694929488.21.1.1694930933.0.0.0\\r\\n\\r\\n'\n",
      "客户端断开了\n",
      "new connection from ('127.0.0.1', 53446)\n",
      "new connection from ('127.0.0.1', 53447)\n",
      "收到来自[127.0.0.1]的数据: b'GET / HTTP/1.1\\r\\nHost: 127.0.0.1:9999\\r\\nConnection: keep-alive\\r\\nCache-Control: max-age=0\\r\\nsec-ch-ua: \"Not_A Brand\";v=\"8\", \"Chromium\";v=\"120\", \"Microsoft Edge\";v=\"120\"\\r\\nsec-ch-ua-mobile: ?0\\r\\nsec-ch-ua-platform: \"Windows\"\\r\\nUpgrade-Insecure-Requests: 1\\r\\nUser-Agent: Mozilla/5.0 (Windows NT 10.0; Win64; x64) AppleWebKit/537.36 (KHTML, like Gecko) Chrome/120.0.0.0 Safari/537.36 Edg/120.0.0.0\\r\\nAccept: text/html,application/xhtml+xml,application/xml;q=0.9,image/webp,image/apng,*/*;q=0.8,application/signed-exchange;v=b3;q=0.7\\r\\nSec-Fetch-Site: none\\r\\nSec-Fetch-Mode: navigate\\r\\nSec-Fetch-User: ?1\\r\\nSec-Fetch-Dest: document\\r\\nAccept-Encoding: gzip, deflate, br\\r\\nAccept-Language: en,zh-CN;q=0.9,zh;q=0.8,en-GB;q=0.7,en-US;q=0.6,no;q=0.5,zh-TW;q=0.4\\r\\nCookie: _ga=GA1.1.1364373718.1688716276; _xsrf=2|a2c79a0a|0900834bd4f3808b23f7263654e177db|1689730844; _ga_R1FN4KJKJH=GS1.1.1694929488.21.1.1694930933.0.0.0\\r\\n\\r\\n'\n",
      "客户端断开了\n",
      "new connection from ('127.0.0.1', 53452)\n",
      "收到来自[127.0.0.1]的数据: b'GET / HTTP/1.1\\r\\nHost: 127.0.0.1:9999\\r\\nConnection: keep-alive\\r\\nCache-Control: max-age=0\\r\\nsec-ch-ua: \"Not_A Brand\";v=\"8\", \"Chromium\";v=\"120\", \"Microsoft Edge\";v=\"120\"\\r\\nsec-ch-ua-mobile: ?0\\r\\nsec-ch-ua-platform: \"Windows\"\\r\\nUpgrade-Insecure-Requests: 1\\r\\nUser-Agent: Mozilla/5.0 (Windows NT 10.0; Win64; x64) AppleWebKit/537.36 (KHTML, like Gecko) Chrome/120.0.0.0 Safari/537.36 Edg/120.0.0.0\\r\\nAccept: text/html,application/xhtml+xml,application/xml;q=0.9,image/webp,image/apng,*/*;q=0.8,application/signed-exchange;v=b3;q=0.7\\r\\nSec-Fetch-Site: none\\r\\nSec-Fetch-Mode: navigate\\r\\nSec-Fetch-User: ?1\\r\\nSec-Fetch-Dest: document\\r\\nAccept-Encoding: gzip, deflate, br\\r\\nAccept-Language: en,zh-CN;q=0.9,zh;q=0.8,en-GB;q=0.7,en-US;q=0.6,no;q=0.5,zh-TW;q=0.4\\r\\nCookie: _ga=GA1.1.1364373718.1688716276; _xsrf=2|a2c79a0a|0900834bd4f3808b23f7263654e177db|1689730844; _ga_R1FN4KJKJH=GS1.1.1694929488.21.1.1694930933.0.0.0\\r\\n\\r\\n'\n",
      "客户端断开了\n",
      "new connection from ('127.0.0.1', 53462)\n",
      "收到来自[127.0.0.1]的数据: b'GET / HTTP/1.1\\r\\nHost: 127.0.0.1:9999\\r\\nConnection: keep-alive\\r\\nCache-Control: max-age=0\\r\\nsec-ch-ua: \"Not_A Brand\";v=\"8\", \"Chromium\";v=\"120\", \"Microsoft Edge\";v=\"120\"\\r\\nsec-ch-ua-mobile: ?0\\r\\nsec-ch-ua-platform: \"Windows\"\\r\\nUpgrade-Insecure-Requests: 1\\r\\nUser-Agent: Mozilla/5.0 (Windows NT 10.0; Win64; x64) AppleWebKit/537.36 (KHTML, like Gecko) Chrome/120.0.0.0 Safari/537.36 Edg/120.0.0.0\\r\\nAccept: text/html,application/xhtml+xml,application/xml;q=0.9,image/webp,image/apng,*/*;q=0.8,application/signed-exchange;v=b3;q=0.7\\r\\nSec-Fetch-Site: none\\r\\nSec-Fetch-Mode: navigate\\r\\nSec-Fetch-User: ?1\\r\\nSec-Fetch-Dest: document\\r\\nAccept-Encoding: gzip, deflate, br\\r\\nAccept-Language: en,zh-CN;q=0.9,zh;q=0.8,en-GB;q=0.7,en-US;q=0.6,no;q=0.5,zh-TW;q=0.4\\r\\nCookie: _ga=GA1.1.1364373718.1688716276; _xsrf=2|a2c79a0a|0900834bd4f3808b23f7263654e177db|1689730844; _ga_R1FN4KJKJH=GS1.1.1694929488.21.1.1694930933.0.0.0\\r\\n\\r\\n'\n",
      "客户端断开了\n",
      "new connection from ('127.0.0.1', 53466)\n",
      "收到来自[127.0.0.1]的数据: b'GET / HTTP/1.1\\r\\nHost: 127.0.0.1:9999\\r\\nConnection: keep-alive\\r\\nCache-Control: max-age=0\\r\\nsec-ch-ua: \"Not_A Brand\";v=\"8\", \"Chromium\";v=\"120\", \"Microsoft Edge\";v=\"120\"\\r\\nsec-ch-ua-mobile: ?0\\r\\nsec-ch-ua-platform: \"Windows\"\\r\\nUpgrade-Insecure-Requests: 1\\r\\nUser-Agent: Mozilla/5.0 (Windows NT 10.0; Win64; x64) AppleWebKit/537.36 (KHTML, like Gecko) Chrome/120.0.0.0 Safari/537.36 Edg/120.0.0.0\\r\\nAccept: text/html,application/xhtml+xml,application/xml;q=0.9,image/webp,image/apng,*/*;q=0.8,application/signed-exchange;v=b3;q=0.7\\r\\nSec-Fetch-Site: none\\r\\nSec-Fetch-Mode: navigate\\r\\nSec-Fetch-User: ?1\\r\\nSec-Fetch-Dest: document\\r\\nAccept-Encoding: gzip, deflate, br\\r\\nAccept-Language: en,zh-CN;q=0.9,zh;q=0.8,en-GB;q=0.7,en-US;q=0.6,no;q=0.5,zh-TW;q=0.4\\r\\nCookie: _ga=GA1.1.1364373718.1688716276; _xsrf=2|a2c79a0a|0900834bd4f3808b23f7263654e177db|1689730844; _ga_R1FN4KJKJH=GS1.1.1694929488.21.1.1694930933.0.0.0\\r\\n\\r\\n'\n",
      "客户端断开了\n",
      "new connection from ('127.0.0.1', 53482)\n",
      "客户端断开了\n",
      "客户端断开了\n"
     ]
    }
   ],
   "source": [
    "import select\n",
    "from socket import *\n",
    "import sys\n",
    "import queue\n",
    "\n",
    "# 生成socket对象\n",
    "server = socket(AF_INET, SOCK_STREAM)\n",
    "server.setsockopt(SOL_SOCKET, SO_REUSEADDR, 1)\n",
    "server.setblocking(False)\n",
    "\n",
    "# 绑定地址，设置监听\n",
    "server.bind(('localhost',9999))\n",
    "server.listen(5)\n",
    "\n",
    "# 将自己也放进待监测列表里\n",
    "inputs = [server, ]\n",
    "outputs = []\n",
    "message_queues = {}\n",
    "\n",
    "while True:\n",
    "\n",
    "    rlist, wlist, elist = select.select(inputs,outputs,inputs) #如果没有任何fd就绪,那程序就会一直阻塞在这里\n",
    "\n",
    "    for r in rlist:  # 遍历已经可以准备读取数据的 fd\n",
    "        if r is server: # 如果这个 fd 是server，即 server 有数据待接收读取，说明有新的客户端连接过来了\n",
    "            conn, client_addr = r.accept()\n",
    "            print(\"new connection from\",client_addr)\n",
    "            conn.setblocking(False)\n",
    "            inputs.append(conn) # 将这个新的客户端连接添加到检测的列表中\n",
    "            message_queues[conn] = queue.Queue() # 用队列存储客户端发送来的数据，等待服务器统一返回数据\n",
    "\n",
    "        else:          # 这个可读的 r 不是服务器，那就是某个客户端。就是说客户端发送数据过来了，这些数据处于待读取状态\n",
    "            try:       # 异常处理，这是为了防止客户端异常断开报错（比如手动关掉客户端黑窗口，服务器也会跟着报错退出）\n",
    "                data = r.recv(1024)\n",
    "                if data:    # 根据判断data是否为空，判断客户端是否断开\n",
    "                    print(\"收到来自[%s]的数据:\" % r.getpeername()[0], data)\n",
    "                    message_queues[r].put(data)   # 收到的数据先放到queue里,一会返回给客户端\n",
    "                    if r not in outputs:\n",
    "                        outputs.append(r)     # 放进可写的fd列表中，表明这些 fd 已经准备好去发送数据了。\n",
    "                else:   # 如果数据为空，表明客户端断开了\n",
    "                    print('客户端断开了')\n",
    "                    if r in outputs:\n",
    "                        outputs.remove(r)    #  清理已断开的连接\n",
    "                    inputs.remove(r)         # 清理已断开的连接\n",
    "                    del message_queues[r]    # 清理已断开的连接\n",
    "            except ConnectionResetError:     # 如果报错，说明客户端断开了\n",
    "                print(\"客户端异常断开了\", r)\n",
    "                if r in outputs:\n",
    "                    outputs.remove(r)   # 清理已断开的连接\n",
    "                inputs.remove(r)        # 清理已断开的连接\n",
    "                del message_queues[r]  # 清理已断开的连接\n",
    "\n",
    "    for w in wlist:       # 遍历可写的 fd 列表，即准备好发送数据的那些fd\n",
    "        # 判断队列是否为空\n",
    "        try :\n",
    "            next_msg = message_queues[w].get_nowait()\n",
    "        except queue.Empty:\n",
    "            # print(\"client [%s]\" % w.getpeername()[0], \"queue is empty..\")\n",
    "            outputs.remove(w)\n",
    "        # 队列不为空，就把队列中的数据改成大写，原样发回去\n",
    "        else:\n",
    "            # print(\"sending msg to [%s]\"% w.getpeername()[0], next_msg)\n",
    "            w.send(next_msg.upper())\n",
    "\n",
    "    for e in elist:   # 处理报错的 fd\n",
    "        e.close()\n",
    "        print(\"Error occured in \",e.getpeername())\n",
    "        inputs.remove(e)\n",
    "        if e in outputs:\n",
    "            outputs.remove(e)\n",
    "        del message_queues[e]"
   ]
  },
  {
   "attachments": {},
   "cell_type": "markdown",
   "metadata": {},
   "source": [
    "## 第一部分：网络编程 (2.5分)"
   ]
  },
  {
   "attachments": {},
   "cell_type": "markdown",
   "metadata": {},
   "source": [
    "### 请将下列代码补充完整，从而实现如下功能：\n",
    "**功能：**\n",
    "* 为每个socket注册用户名，并检查用户名是否已经存在。若已经存在，则发送'Username already exists!'；否则发送'Welcome!'。(1.5分)\n",
    "* 将注册成功的用户发送的信息，转发给其他的注册成功的用户。(1分)\n",
    "\n",
    "**注：**\n",
    "当补充完整代码后，可以运行client.py进行检验，其预期的输出为：\\\n",
    "connecting to localhost port 服务器端口 \\\n",
    "Welcome!to 第一个客户端端口 \\\n",
    "Username already exists!to 第二个客户端端口 \\\n",
    "Welcome!to 第二个客户端端口 \\\n",
    "Hello everybody!to 第二个客户端端口 "
   ]
  },
  {
   "cell_type": "code",
   "execution_count": null,
   "metadata": {},
   "outputs": [],
   "source": [
    "from socket import *\n",
    "from select import select\n",
    "import queue\n",
    "\n",
    "class Server:\n",
    "    def __init__(self, host, port):\n",
    "        self.server = socket(AF_INET, SOCK_STREAM)\n",
    "        self.server.setsockopt(SOL_SOCKET, SO_REUSEADDR, 1)\n",
    "        self.server.setblocking(False)\n",
    "\n",
    "        self.server.bind((host, port))\n",
    "        self.server.listen(5)\n",
    "        self.rlist = [self.server]\n",
    "        self.wlist = []\n",
    "        self.message_queues = {}\n",
    "        self.users = {}  # 用于判断socket是否已经注册用户名\n",
    "\n",
    "    def accept(self):\n",
    "        while True:\n",
    "            rs, ws, xs = select(self.rlist, self.wlist, self.rlist)\n",
    "            for r in rs:\n",
    "                if r is self.server:\n",
    "                    # 服务器接受客户端连接\n",
    "                    conn, addr = self.server.accept()\n",
    "                    print(\"new connection from\",addr)\n",
    "                    conn.setblocking(False)\n",
    "                    self.rlist.append(conn)\n",
    "                    self.message_queues[conn] = queue.Queue()\n",
    "                    self.users[conn] = False\n",
    "                else:\n",
    "                    try:\n",
    "                        # 服务器接受客户端的消息并转发给所有客户端\n",
    "                        data = r.recv(1024)\n",
    "                        if data:\n",
    "                            print(\"收到来自[%s]的数据:\" % r.getpeername()[1], data.decode('utf-8'))\n",
    "                            self.wlist.append(r)\n",
    "                            if self.users[r]:  # 将已注册用户的信息广播给其他已注册用户\n",
    "                                #print(\"%sregistered\" % r.getpeername()[1])\n",
    "                                for i in self.users:\n",
    "                                    if i != r:\n",
    "                                        self.wlist.append(i)\n",
    "                                        self.message_queues[i].put(data)\n",
    "                            else:  # 对未注册用户发送的昵称进行检验，并进行注册\n",
    "                                #print(\"%s not registered\" % r.getpeername()[1])\n",
    "                                if data not in self.users.values():\n",
    "                                    #print(\"new\")\n",
    "                                    self.users[r] = data\n",
    "                                    self.message_queues[r].put(\"Welcome!\".encode(\"utf-8\"))\n",
    "                                else:\n",
    "                                    #print(\"used\")\n",
    "                                    self.message_queues[r].put(\"Username already exists!\".encode(\"utf-8\"))\n",
    "                        else:\n",
    "                            print('客户端断开了')\n",
    "                            if r in self.wlist:\n",
    "                                self.wlist.remove(r)   # 清理已断开的连接\n",
    "                            self.rlist.remove(r)        # 清理已断开的连接\n",
    "                            del self.message_queues[r]  # 清理已断开的连接\n",
    "                    except ConnectionResetError:\n",
    "                        print(\"客户端异常断开了\", r)\n",
    "                        if r in self.wlist:\n",
    "                            self.wlist.remove(r)   # 清理已断开的连接\n",
    "                        self.rlist.remove(r)        # 清理已断开的连接\n",
    "                        del self.message_queues[r]  # 清理已断开的连接\n",
    "            for w in ws:       # 遍历可写的 fd 列表，即准备好发送数据的那些fd\n",
    "                # 判断队列是否为空\n",
    "                try :\n",
    "                    next_msg = self.message_queues[w].get_nowait()\n",
    "                except queue.Empty:\n",
    "                    # print(\"client [%s]\" % w.getpeername()[0], \"queue is empty..\")\n",
    "                    self.wlist.remove(w)\n",
    "                # 队列不为空，就把队列中的数据改成大写，原样发回去\n",
    "                else:\n",
    "                    print(\"发送数据到 [%s]\"% w.getpeername()[0], next_msg)\n",
    "                    w.send(next_msg)\n",
    "\n",
    "            for e in xs:   # 处理报错的 fd\n",
    "                e.close()\n",
    "                print(\"Error occured in \",e.getpeername())\n",
    "                self.rlist.remove(e)\n",
    "                if e in self.wlist:\n",
    "                    self.wlist.remove(e)\n",
    "                del self.message_queues[e] \n",
    "\n",
    "if __name__=='__main__':\n",
    "    host = '0.0.0.0'      # 主机名\n",
    "    port = 9999           # 端口号\n",
    "    server = Server(host,port)\n",
    "    server.accept()"
   ]
  },
  {
   "attachments": {},
   "cell_type": "markdown",
   "metadata": {},
   "source": [
    "## 第二部分 Pandas基础练习（4.5分）"
   ]
  },
  {
   "attachments": {},
   "cell_type": "markdown",
   "metadata": {},
   "source": [
    "### 2.1 基本操作"
   ]
  },
  {
   "cell_type": "code",
   "execution_count": null,
   "metadata": {},
   "outputs": [],
   "source": [
    "import pandas as pd\n",
    "import numpy as np\n",
    "\n",
    "data = {\n",
    "    'age': [24, 53, 23, 24, 33, 42, 57, 57, 36, 29, 53, 39],\n",
    "    'gender': ['M', 'F', 'M', 'M', 'F', 'M', 'M', 'M', 'M', 'M', 'M', 'F'],\n",
    "    'occupation': ['technician', 'other', 'writer', 'technician', 'technician', 'executive', 'administrator', 'administrator', 'administrator', 'student', 'lawyer', 'other'],\n",
    "    'zip_code': ['85711', '94043', '32067', '43537', '15213', '98101', '91344', '91344', '05201', '01002', '90703', '30329']\n",
    "}"
   ]
  },
  {
   "attachments": {},
   "cell_type": "markdown",
   "metadata": {},
   "source": [
    "创建一组从1开始递增的id，作为行索引，由data生成一个DataFrame。并以gender分组，打印每组的前两条。（0.5分）"
   ]
  },
  {
   "cell_type": "code",
   "execution_count": null,
   "metadata": {},
   "outputs": [],
   "source": [
    "# TODO\n",
    "df1 = pd.DataFrame(data,index=range(1,13))\n",
    "#print(df1)\n",
    "#print([i for i in range(1,13) if (df1['gender'] == 'M')[i] == True])\n",
    "print(df1[df1['gender'] == 'M'][:2])\n",
    "print(df1[df1['gender'] == 'F'][:2])"
   ]
  },
  {
   "attachments": {},
   "cell_type": "markdown",
   "metadata": {},
   "source": [
    "删除DataFrame中重复的行（保留一行），再删除所有occupation为\"other\"的行。（0.5分）"
   ]
  },
  {
   "cell_type": "code",
   "execution_count": null,
   "metadata": {},
   "outputs": [],
   "source": [
    "# TODO\n",
    "df1 = df1.drop([i for i in df1.index if (df1['occupation'] == 'other')[i] == True])\n",
    "df1 = df1.drop_duplicates(['zip_code'])\n",
    "\n",
    "#print([i for i in range(1,13) if (df1['occupation'] == 'other')[i] == True])\n",
    "print(df1)"
   ]
  },
  {
   "attachments": {},
   "cell_type": "markdown",
   "metadata": {},
   "source": [
    "以两种方式访问DataFrame的第一行。（0.5分）"
   ]
  },
  {
   "cell_type": "code",
   "execution_count": null,
   "metadata": {},
   "outputs": [],
   "source": [
    "# TODO\n",
    "print(df1.loc[1:1])\n",
    "print(df1.iloc[0:1])\n",
    "print(df1[0:1])\n",
    "\n",
    "print(df1.loc[1])\n",
    "print(df1.iloc[0])"
   ]
  },
  {
   "attachments": {},
   "cell_type": "markdown",
   "metadata": {},
   "source": [
    "以两种方式访问DataFrame的\"occupation\"列。（0.5分）"
   ]
  },
  {
   "cell_type": "code",
   "execution_count": null,
   "metadata": {},
   "outputs": [],
   "source": [
    "# TODO\n",
    "print(df1.loc[:,\"occupation\":\"occupation\"],end='\\n\\n')\n",
    "print(df1.iloc[:,2:3],end='\\n\\n')\n",
    "print(df1[\"occupation\"])"
   ]
  },
  {
   "attachments": {},
   "cell_type": "markdown",
   "metadata": {},
   "source": [
    "打印出DataFrame中出现次数最多的职业名称（0.5分）"
   ]
  },
  {
   "cell_type": "code",
   "execution_count": null,
   "metadata": {},
   "outputs": [],
   "source": [
    "# TODO\n",
    "m = max(res:=df1[\"occupation\"].value_counts())\n",
    "#print(m)\n",
    "for i in df1[\"occupation\"].unique():\n",
    "    if res.loc[i] == m:\n",
    "        #print(res)\n",
    "        print(i)\n"
   ]
  },
  {
   "attachments": {},
   "cell_type": "markdown",
   "metadata": {},
   "source": [
    "将data_2转换成DataFrame，与上一个DataFrame按照\"zip_code\"这一列合并，按两种合并方式：（0.5分）\n",
    "\n",
    "1.合并后结果保留两个DataFrame的并集；\n",
    "\n",
    "2.合并后只保留data_2的所有数据。"
   ]
  },
  {
   "cell_type": "code",
   "execution_count": null,
   "metadata": {},
   "outputs": [],
   "source": [
    "data_2 = {\n",
    "    'zip_code': ['85711', '94043', '15213', '98101', '30329'],\n",
    "    'name': ['Alan', 'Alice', 'Abigail', 'Bob', 'Dave']\n",
    "}\n",
    "df2 = pd.DataFrame(data_2)\n",
    "\n",
    "# TODO\n",
    "df3 = pd.merge(df1, df2, how=\"outer\", on=\"zip_code\")\n",
    "df4 = pd.merge(df1, df2, how=\"right\", on=\"zip_code\")\n",
    "print(df3)\n",
    "print(df4) # 之前df1里删除的这里应该没有吧 94043和30329的数据已经在前面删掉了 不会扣分吧:O"
   ]
  },
  {
   "attachments": {},
   "cell_type": "markdown",
   "metadata": {},
   "source": [
    "### 2.2 多级索引"
   ]
  },
  {
   "cell_type": "code",
   "execution_count": null,
   "metadata": {},
   "outputs": [],
   "source": [
    "# 构建多级索引DataFrame\n",
    "# int数据由 np.random.randint(0, 150, size=(6, 3) 产生\n",
    "# from tuples, from_arrays, from_product\n",
    "import numpy as np\n",
    "import pandas as pd\n",
    "\n",
    "df3 = pd.DataFrame(np.random.randint(0, 150, size=(6, 3)),\n",
    "                  columns=[\"Python\", \"C++\", \"Java\"],\n",
    "                  index=pd.MultiIndex.from_product([['张三', '李四', '王五'],\n",
    "                                                  ['期中', '期末']]))\n",
    "df3\n"
   ]
  },
  {
   "attachments": {},
   "cell_type": "markdown",
   "metadata": {},
   "source": [
    "实现变换df3为三重索引的serial。(0.5分)"
   ]
  },
  {
   "cell_type": "code",
   "execution_count": null,
   "metadata": {},
   "outputs": [],
   "source": [
    "# TODO\n",
    "df4 = df3.stack()\n",
    "df4\n",
    "#df4.index.names = ['name','period','course']\n",
    "#df4.swaplevel('course','period')\n"
   ]
  },
  {
   "attachments": {},
   "cell_type": "markdown",
   "metadata": {},
   "source": [
    "按期中40%，期末60%的比例，计算输出每位同学每门功课的总评成绩表。（0.5分）"
   ]
  },
  {
   "cell_type": "code",
   "execution_count": null,
   "metadata": {},
   "outputs": [],
   "source": [
    "# TODO\n",
    "#df5 = pd.DataFrame({'Python':[0,0,0],'C++':[0,0,0],'Java':[0,0,0]}, index=['张三','李四','王五'])\n",
    "data = {}\n",
    "def calc(a,b):\n",
    "    return a*0.4 + b*0.6\n",
    "for i in df3.columns:\n",
    "    for j in df3.index:\n",
    "        data[j[0],i] = calc(*tuple(df3[i][j[0]]))\n",
    "print(df5:=pd.Series(data).unstack())"
   ]
  },
  {
   "attachments": {},
   "cell_type": "markdown",
   "metadata": {},
   "source": [
    "计算输出每门功课的最高分，最低分，以及平均分数表（课程名做行索引，列名用最高分，最低分，平均分数）。（0.5分）"
   ]
  },
  {
   "cell_type": "code",
   "execution_count": null,
   "metadata": {},
   "outputs": [],
   "source": [
    "# TODO\n",
    "data = {}\n",
    "for i in df5.columns:\n",
    "    data[i] = [max(df5[i]), min(df5[i]), round(np.average(df5[i]),1)]\n",
    "print(pd.DataFrame(data, index=[\"最高分\",\"最低分\",\"平均分数\"]).T)"
   ]
  },
  {
   "attachments": {},
   "cell_type": "markdown",
   "metadata": {},
   "source": [
    "## 第三部分 Pandas数据分析（3分）"
   ]
  },
  {
   "attachments": {},
   "cell_type": "markdown",
   "metadata": {},
   "source": [
    "使用Pandas的read_csv函数读取 IBM_2006-01-01_to_2018-01-01.csv 中的数据，得到一个DataFrame，通过shape和info()查看数据基本信息，并打印该数据的前10行观察一下。该数据列索引对应的分别是：日期，开盘价，最高价，最低价，收盘价，成交量，股票名称。（0.5分）"
   ]
  },
  {
   "cell_type": "code",
   "execution_count": null,
   "metadata": {},
   "outputs": [],
   "source": [
    "import pandas as pd\n",
    "\n",
    "IBM_file = 'IBM_2006-01-01_to_2018-01-01.csv'\n",
    "# TODO\n",
    "df1 = pd.read_csv(IBM_file)\n",
    "print(df1.shape)\n",
    "print(df1.info)\n",
    "print(df1[:][0:10])"
   ]
  },
  {
   "attachments": {},
   "cell_type": "markdown",
   "metadata": {},
   "source": [
    "观察到Open与Low这两列相比其他列都缺了一项，请删除DataFrame中所有不完整的数据。（0.5分）"
   ]
  },
  {
   "cell_type": "code",
   "execution_count": null,
   "metadata": {},
   "outputs": [],
   "source": [
    "# TODO\n",
    "df1.drop(df1[df1[\"Open\"].isna()].index) #No.2913 found"
   ]
  },
  {
   "attachments": {},
   "cell_type": "markdown",
   "metadata": {},
   "source": [
    "由于股市周末和节假日不开盘，日期为2006-01-06的下一条数据就是2006-01-09，缺少了中间两天的数据。请将所有缺少的数据按照以下规则补充：成交量（volume）填充为零，开盘价等价格与前一天（最近的有数据的一天）保持相同。（0.5分）\n",
    "\n",
    "提示：使用pandas.date_range生成时间序列"
   ]
  },
  {
   "cell_type": "code",
   "execution_count": null,
   "metadata": {},
   "outputs": [],
   "source": [
    "# TODO\n",
    "df1Dates = list(df1['Date'])\n",
    "dateRange = pd.date_range(start='2006-01-03', end='2018-01-01')\n",
    "x = -1\n",
    "for i in dateRange:\n",
    "    x += 1\n",
    "    if (d:=str(i)[:10]) not in df1Dates:\n",
    "        df1 = pd.DataFrame(np.insert(df1.values, x, values=[d] + list(df1.iloc[x-1,1:5]) + [0] + [df1.iloc[x-1,6]], axis=0),columns=['Date','Open','High','Low','Close','Volume','Name'])\n",
    "df1"
   ]
  },
  {
   "attachments": {},
   "cell_type": "markdown",
   "metadata": {},
   "source": [
    "在DataFrame中按月份聚合，计算一年当中每个月的成交量总和，以及每个月收盘价的次高值。(1分)\n",
    "\n",
    "提示：可以通过apply方法实现自定义的聚合函数。（有多个相同值的话，这里先简单地按照排完序取下标第二个就行了）"
   ]
  },
  {
   "cell_type": "code",
   "execution_count": null,
   "metadata": {},
   "outputs": [],
   "source": [
    "# TODO\n",
    "sepa_head = [pd.date_range(start='2006-01-03', end='2006-01-03')] + list(pd.date_range(start='2006-01-03', end='2017-12-31',freq='MS'))\n",
    "sepa_tail = list(pd.date_range(start='2006-01-03', end='2017-12-31',freq='M'))\n",
    "dates = list(pd.date_range(start='2006-01-03', end='2017-12-31'))\n",
    "data = {}\n",
    "for i in range(len(sepa_head)):\n",
    "    #print(dates.index(sepa_head[i]),dates.index(sepa_tail[i]))\n",
    "    dfMonth = df1.loc[dates.index(sepa_head[i]):dates.index(sepa_tail[i]),'Volume']\n",
    "    #print(sum(dfMonth))\n",
    "    #print(list(dfMonth.sort_values())[-2])\n",
    "    data[str(sepa_head[i])[:7]] = [sum(dfMonth), list(dfMonth.sort_values())[-2]]\n",
    "print(pd.DataFrame(data, index=[\"成交量总和\",\"收盘价次高值\"]).T)"
   ]
  },
  {
   "attachments": {},
   "cell_type": "markdown",
   "metadata": {},
   "source": [
    "读取AMZN_2006-01-01_to_2018-01-01.csv，其中包含了Amazon的股票数据。\n",
    "请以Date作为索引，'IBM'和'AMZN'作为列索引，构建一个Dataframe，其中的数据为两家公司每天的股票收盘价。（0.5分）"
   ]
  },
  {
   "cell_type": "code",
   "execution_count": null,
   "metadata": {},
   "outputs": [],
   "source": [
    "AMZN_file = 'AMZN_2006-01-01_to_2018-01-01.csv'\n",
    "IBM_file = 'IBM_2006-01-01_to_2018-01-01.csv'\n",
    "\n",
    "AMZN_data = pd.read_csv(AMZN_file)\n",
    "IBM_data = pd.read_csv(IBM_file)\n",
    "\n",
    "# TODO\n",
    "AMZN_part = pd.DataFrame(AMZN_data, columns=['Date', 'Close'])\n",
    "IBM_part = pd.DataFrame(IBM_data, columns=['Date', 'Close'])\n",
    "df2 = pd.merge(IBM_part, AMZN_part, how='outer', on='Date')\n",
    "df2 = df2.set_index('Date')\n",
    "df2 = df2.set_axis(['IBM',\"AMZN\"], axis=1)\n",
    "print(df2)"
   ]
  }
 ],
 "metadata": {
  "kernelspec": {
   "display_name": "Python 3.10.6 64-bit",
   "language": "python",
   "name": "python3"
  },
  "language_info": {
   "codemirror_mode": {
    "name": "ipython",
    "version": 3
   },
   "file_extension": ".py",
   "mimetype": "text/x-python",
   "name": "python",
   "nbconvert_exporter": "python",
   "pygments_lexer": "ipython3",
   "version": "3.9.13"
  },
  "vscode": {
   "interpreter": {
    "hash": "6891761e72bd517fc75ef79bbfbd44fa55381d267274edf38a396be6b565a3c5"
   }
  }
 },
 "nbformat": 4,
 "nbformat_minor": 4
}
