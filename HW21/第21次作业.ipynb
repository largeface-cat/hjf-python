{
 "cells": [
  {
   "attachments": {},
   "cell_type": "markdown",
   "metadata": {
    "colab": {},
    "colab_type": "code",
    "id": "PZd2TU6lUnK8"
   },
   "source": [
    "# 循环神经网络（RNN）作业"
   ]
  },
  {
   "attachments": {},
   "cell_type": "markdown",
   "metadata": {},
   "source": [
    "指导教师：胡俊峰\n",
    "\n",
    "负责助教：苏亚鲁，李浩然\n",
    "\n",
    "注意：仅需要提交.ipynb文件，请**不要**将下发压缩包中的其他文件一并交上。\n",
    "\n",
    "截止日期：6月4日24点"
   ]
  },
  {
   "attachments": {},
   "cell_type": "markdown",
   "metadata": {},
   "source": [
    "## 第零部分"
   ]
  },
  {
   "attachments": {},
   "cell_type": "markdown",
   "metadata": {},
   "source": [
    "### 0.1 可视化工具visdom\n",
    "\n",
    "visdom是Facebook专为pytorch开发的实时可视化工具包，灵活高效且界面美观。在深度学习领域，模型训练是一个必须的过程，因此可以借助visdom实时监听并可视化一些数据，如损失值loss，正确率acc等。\n",
    "\n",
    "要使用visdom，需先完成以下步骤：\n",
    "* 在终端执行python -m visdom.server，开启监听命令；\n",
    "* 成功开启后，会返回一个网址，在浏览器里输入该网址，进入后即可显示visdom的主界面；"
   ]
  },
  {
   "cell_type": "code",
   "execution_count": 121,
   "metadata": {
    "ExecuteTime": {
     "start_time": "2023-05-29T22:56:53.694530Z",
     "end_time": "2023-05-29T22:56:53.765155Z"
    }
   },
   "outputs": [],
   "source": [
    "from visdom import Visdom \n",
    "import numpy as np\n",
    "import time\n",
    "import torch"
   ]
  },
  {
   "attachments": {},
   "cell_type": "markdown",
   "metadata": {},
   "source": [
    "#### 监听单一数据"
   ]
  },
  {
   "cell_type": "code",
   "execution_count": 122,
   "metadata": {
    "ExecuteTime": {
     "start_time": "2023-05-29T22:56:53.701424Z",
     "end_time": "2023-05-29T22:56:58.854929Z"
    }
   },
   "outputs": [
    {
     "name": "stderr",
     "output_type": "stream",
     "text": [
      "Setting up a new session...\n"
     ]
    }
   ],
   "source": [
    "# 实例化一个窗口\n",
    "wind = Visdom()\n",
    "# 初始化窗口信息\n",
    "wind.line([0.], # Y的第一个点的坐标\n",
    "\t\t  [0.], # X的第一个点的坐标\n",
    "\t\t  win = 'train_loss', # 窗口的名称\n",
    "\t\t  opts = dict(title = 'train_loss') # 图像的标例\n",
    ")\n",
    "# 更新数据\n",
    "for step in range(10):\n",
    "\t# 随机获取loss,这里只是模拟实现\n",
    "\tloss = np.random.randn() * 0.5 + 2\n",
    "\twind.line([loss], [step], win = 'train_loss', update = 'append')\n",
    "\ttime.sleep(0.5)"
   ]
  },
  {
   "attachments": {},
   "cell_type": "markdown",
   "metadata": {},
   "source": [
    "#### 监听多条数据"
   ]
  },
  {
   "cell_type": "code",
   "execution_count": 123,
   "metadata": {
    "ExecuteTime": {
     "start_time": "2023-05-29T22:56:58.856929Z",
     "end_time": "2023-05-29T22:57:04.019084Z"
    }
   },
   "outputs": [
    {
     "name": "stderr",
     "output_type": "stream",
     "text": [
      "Setting up a new session...\n"
     ]
    }
   ],
   "source": [
    "# 实例化窗口\n",
    "wind = Visdom()\n",
    "# 初始化窗口参数\n",
    "wind.line([[0.,0.]],[0.], win = 'train', opts = dict(title = 'loss&acc', legend = ['loss','acc']))\n",
    "# 更新窗口数据\n",
    "for step in range(10):\n",
    "\tloss = 0.2 * np.random.randn() + 1\n",
    "\tacc = 0.1 * np.random.randn() + 0.5\n",
    "\twind.line([[loss, acc]], [step], win = 'train', update = 'append')\n",
    "\ttime.sleep(0.5)"
   ]
  },
  {
   "attachments": {},
   "cell_type": "markdown",
   "metadata": {},
   "source": [
    "#### 可视化数据集"
   ]
  },
  {
   "cell_type": "code",
   "execution_count": 124,
   "metadata": {
    "ExecuteTime": {
     "start_time": "2023-05-29T22:57:04.023083Z",
     "end_time": "2023-05-29T22:57:04.214015Z"
    }
   },
   "outputs": [
    {
     "name": "stderr",
     "output_type": "stream",
     "text": [
      "Setting up a new session...\n"
     ]
    },
    {
     "data": {
      "text/plain": "'mnist'"
     },
     "execution_count": 124,
     "metadata": {},
     "output_type": "execute_result"
    }
   ],
   "source": [
    "from torchvision import datasets, transforms\n",
    "\n",
    "# 加载数据集\n",
    "train_loader = torch.utils.data.DataLoader(datasets.MNIST(\n",
    "    r'mnist-data',\n",
    "    train=True,\n",
    "    download=True,\n",
    "    transform=transforms.Compose([transforms.ToTensor()])),batch_size=128,shuffle=True)\n",
    "sample=next(iter(train_loader)) # 通过迭代器获取样本\n",
    "viz = Visdom(env='my_visual') # 注意此时创建了新环境，请在界面中选择该环境\n",
    "# sample[0]为样本数据，sample[1]为类别，nrow=16表示每行显示16张图像\n",
    "viz.images(sample[0], nrow=16, win='mnist', opts=dict(title='mnist'))"
   ]
  },
  {
   "attachments": {},
   "cell_type": "markdown",
   "metadata": {},
   "source": [
    "### 0.2 Pytorch中hook的使用"
   ]
  },
  {
   "cell_type": "code",
   "execution_count": 125,
   "metadata": {
    "ExecuteTime": {
     "start_time": "2023-05-29T22:57:04.217047Z",
     "end_time": "2023-05-29T22:57:04.223872Z"
    }
   },
   "outputs": [
    {
     "name": "stdout",
     "output_type": "stream",
     "text": [
      "gradient: tensor([55.]) tensor([39.]) None None None\n",
      "a_grad: tensor([15.])\n"
     ]
    },
    {
     "name": "stderr",
     "output_type": "stream",
     "text": [
      "D:\\Temp\\ipykernel_540\\2840742056.py:23: UserWarning: The .grad attribute of a Tensor that is not a leaf Tensor is being accessed. Its .grad attribute won't be populated during autograd.backward(). If you indeed want the .grad field to be populated for a non-leaf Tensor, use .retain_grad() on the non-leaf Tensor. If you access the non-leaf Tensor by mistake, make sure you access the leaf Tensor instead. See github.com/pytorch/pytorch/pull/30531 for more informations. (Triggered internally at aten\\src\\ATen/core/TensorBody.h:492.)\n",
      "  print('gradient:',x.grad, y.grad, a.grad, b.grad, c.grad)\n"
     ]
    }
   ],
   "source": [
    "import torch\n",
    "\n",
    "# x,y 为leaf节点，也就是说，在计算的时候，PyTorch只会保留此节点的梯度值\n",
    "x = torch.tensor([3.], requires_grad=True)\n",
    "y = torch.tensor([5.], requires_grad=True)\n",
    "\n",
    "# a,b均为中间值，在计算梯度时，此部分会被释放掉\n",
    "a = x + y\n",
    "b = x * y\n",
    "\n",
    "c = a * b\n",
    "\n",
    "# 新建列表，用于存储Hook函数保存的中间梯度值\n",
    "a_grad = []\n",
    "def hook_grad(grad):\n",
    "    a_grad.append(grad)\n",
    "\n",
    "# register_hook的参数为一个函数\n",
    "handle = a.register_hook(hook_grad)\n",
    "c.backward()\n",
    "\n",
    "# 只有leaf节点才会有梯度值\n",
    "print('gradient:',x.grad, y.grad, a.grad, b.grad, c.grad)\n",
    "# Hook函数保留下来的中间节点a的梯度\n",
    "print('a_grad:', a_grad[0])\n",
    "# 移除Hook函数\n",
    "handle.remove()"
   ]
  },
  {
   "cell_type": "code",
   "execution_count": 126,
   "metadata": {
    "ExecuteTime": {
     "start_time": "2023-05-29T22:57:04.227871Z",
     "end_time": "2023-05-29T22:57:04.233890Z"
    }
   },
   "outputs": [
    {
     "name": "stdout",
     "output_type": "stream",
     "text": [
      "output share:torch.Size([1, 2, 1, 1])\n",
      "output value:tensor([[[[ 9.]],\n",
      "\n",
      "         [[18.]]]], grad_fn=<MaxPool2DWithIndicesBackward0>)\n",
      "\n",
      "feature map share:torch.Size([1, 2, 2, 2])\n",
      "output value:tensor([[[[ 9.,  9.],\n",
      "          [ 9.,  9.]],\n",
      "\n",
      "         [[18., 18.],\n",
      "          [18., 18.]]]], grad_fn=<ConvolutionBackward0>)\n",
      "\n",
      "input share:torch.Size([1, 1, 4, 4])\n",
      "input value:tensor([[[[1., 1., 1., 1.],\n",
      "          [1., 1., 1., 1.],\n",
      "          [1., 1., 1., 1.],\n",
      "          [1., 1., 1., 1.]]]])\n",
      "\n"
     ]
    }
   ],
   "source": [
    "import torch.nn as nn\n",
    "\n",
    "# 构建网络，包含一个卷积层和一个池化层\n",
    "class Net(nn.Module):\n",
    "    def __init__(self):\n",
    "        super(Net,self).__init__()\n",
    "        self.conv1 = nn.Conv2d(1, 2, 3)\n",
    "        self.pool1 = nn.MaxPool2d(2)\n",
    "\n",
    "    def forward(self, x):\n",
    "        x = self.conv1(x)\n",
    "        x = self.pool1(x)\n",
    "        return x\n",
    "# 初始化网络\n",
    "net = Net()\n",
    "# detach将张量分离\n",
    "net.conv1.weight[0].detach().fill_(1)\n",
    "net.conv1.weight[1].detach().fill_(2)\n",
    "net.conv1.bias.detach().zero_()\n",
    "\n",
    "# 构建两个列表用于保存信息\n",
    "fmap_block = []\n",
    "input_block = []\n",
    "\n",
    "def forward_hook(module, data_input, data_output):\n",
    "    fmap_block.append(data_output)\n",
    "    input_block.append(data_input)\n",
    "\n",
    "# 注册Hook\n",
    "net.conv1.register_forward_hook(forward_hook)\n",
    "\n",
    "# 输入数据\n",
    "fake_img = torch.ones((1, 1, 4, 4))\n",
    "output = net(fake_img)\n",
    "\n",
    "# 观察结果\n",
    "# 卷积神经网络输出维度和结果\n",
    "print(\"output share:{}\\noutput value:{}\\n\".format(output.size(),output))\n",
    "\n",
    "# 卷积神经网络Hook函数返回的结果\n",
    "print(\"feature map share:{}\\noutput value:{}\\n\".format(fmap_block[0].shape,fmap_block[0]))\n",
    "\n",
    "# 输入的信息\n",
    "print(\"input share:{}\\ninput value:{}\\n\".format(input_block[0][0].size(),input_block[0][0]))"
   ]
  },
  {
   "attachments": {},
   "cell_type": "markdown",
   "metadata": {},
   "source": [
    "## 第一部分：实现词性标注任务，给定一个单词，通过RNN和LSTM模型输出单词的词性。\n",
    "\n",
    "所有数据都在data文件夹中，每个文件的命名即其词性。\n",
    "\n",
    "后续字符的编码，模型的搭建，模型的训练会给出一个参考baseline模版，同学们可以选择在此baseline模版下构建模型，也可以选择任意增删改这部分代码构建自己的模型并优化。（全部删除这部分代码，自己重新写也可以）\n",
    "\n",
    "同学们还可以考虑用CNN提取序列特征进行分类，此部分实现并在模型评价部分进行对比，会得到1-2分的附加分。如果觉得自己此部分特别优秀，可以添加注释对自己的工作进行详细描述。\n",
    "\n",
    "作业满分12分，其中2分为选做附加分。\n",
    "\n",
    "注意：\n",
    "\n",
    "* 为方便比较同学们的结果，读取数据并划分数据集这部分代码不可更改。\n",
    "\n",
    "* 模型评价部分要求分别输出RNN模型和LSTM模型在训练集和测试集上的正确率。**最终提交的版本必须已经正确显示这四个值，如果需要助教重新跑模型得到结果，会扣除2分**。"
   ]
  },
  {
   "cell_type": "code",
   "execution_count": 127,
   "metadata": {
    "ExecuteTime": {
     "start_time": "2023-05-29T22:57:04.236694Z",
     "end_time": "2023-05-29T22:57:04.238207Z"
    }
   },
   "outputs": [],
   "source": [
    "# import packages\n",
    "from io import open\n",
    "import os, string, random, time, math\n",
    "import matplotlib.pyplot as plt\n",
    "import seaborn as sns\n",
    "import numpy as np\n",
    "import glob\n",
    "from sklearn.model_selection import train_test_split\n",
    "import torch \n",
    "import torch.nn as nn\n",
    "import torch.optim as optim\n",
    "from IPython.display import clear_output"
   ]
  },
  {
   "attachments": {},
   "cell_type": "markdown",
   "metadata": {},
   "source": [
    "### 读取数据并划分数据集（勿更改代码）"
   ]
  },
  {
   "cell_type": "code",
   "execution_count": 128,
   "metadata": {
    "ExecuteTime": {
     "start_time": "2023-05-29T22:57:04.241205Z",
     "end_time": "2023-05-29T22:57:04.317857Z"
    }
   },
   "outputs": [],
   "source": [
    "\n",
    "def findFiles(path): \n",
    "    return glob.glob(path)\n",
    "tags = []\n",
    "X = []\n",
    "y = []\n",
    "\n",
    "\n",
    "def readLines(filename):\n",
    "    lines = open(filename, encoding='utf-8').read().strip().split('\\n')\n",
    "    return lines\n",
    "\n",
    "for filename in findFiles('data/*.txt'):\n",
    "    language = os.path.splitext(os.path.basename(filename))[0]\n",
    "    if language not in tags:\n",
    "        tags.append(language)\n",
    "    lines = readLines(filename)\n",
    "    for line in lines:\n",
    "        X.append(line)\n",
    "        y.append(language)\n",
    "\n",
    "n_tags = len(tags)\n",
    "\n",
    "\n",
    "X_train, X_test, y_train, y_test = train_test_split(X, y, test_size = 0.2, random_state =10, stratify = y)"
   ]
  },
  {
   "cell_type": "code",
   "execution_count": 129,
   "outputs": [
    {
     "data": {
      "text/plain": "(['highly',\n  'hardware',\n  'resist',\n  'having',\n  'squeeze',\n  'falls',\n  'infectious',\n  'conspicuous',\n  'overstated',\n  '60.36',\n  'Jim',\n  'Conn',\n  'valuable',\n  'striking',\n  'whirling',\n  'furniture',\n  'documented',\n  'Photography',\n  'open-end',\n  'way',\n  'Hanifen',\n  'Vose',\n  'salable',\n  'languages',\n  '50.45',\n  'impression',\n  'compatible',\n  'Used',\n  'Jail',\n  '3436.58',\n  'capitalize',\n  'computerized',\n  'willingness',\n  'scans',\n  'Grand',\n  '32',\n  'L.P.',\n  'capitalism',\n  'Otherwise',\n  'dark',\n  'guns',\n  'Ellis',\n  'solicitation',\n  'Manchester',\n  'rationed',\n  'nuclear',\n  'protests',\n  'installment',\n  'Send',\n  'French',\n  'embassy',\n  'Only',\n  'generations',\n  'stuff',\n  'upturn',\n  'sole',\n  'Fujitsu',\n  'Palmer',\n  'Light',\n  'reporter',\n  '11\\\\/16',\n  'designer',\n  'Kurland',\n  'Marathon',\n  'Survey',\n  'cable',\n  'Motors',\n  'magnets',\n  'prime',\n  'judge',\n  'either',\n  'wages',\n  'analyze',\n  'colony',\n  'walk',\n  'Poor',\n  'pass',\n  'environmentalists',\n  'From',\n  'Hawke',\n  'Sol',\n  'Too',\n  'Lafite-Rothschild',\n  'TROUBLES',\n  'initiated',\n  'specified',\n  'bonds',\n  'Lehman',\n  'technology',\n  '23.4',\n  'politicians',\n  'sketch',\n  'viewpoints',\n  'conventional',\n  'Lambert',\n  'involves',\n  'plunge',\n  'notch',\n  'R.D.',\n  'Assuming',\n  'referral',\n  'thinking',\n  'Temple',\n  'Salomon',\n  'regulation',\n  'Triton',\n  'arising',\n  'blessing',\n  'employers',\n  'accommodate',\n  'transplants',\n  'takeover',\n  '129.91',\n  'architecture',\n  'steal',\n  '10,000',\n  'contingent',\n  'rock',\n  'decliners',\n  'bill',\n  'Than',\n  '50.38',\n  'reacted',\n  'shoring',\n  '34.625',\n  'indifference',\n  'sued',\n  'justify',\n  'Lure',\n  'six',\n  '30-minute',\n  'Propaganda',\n  'planes',\n  'allocated',\n  'Bugs',\n  'faithful',\n  '30,537',\n  'arguing',\n  '2.80',\n  'Roman',\n  'framework',\n  'Lorenzo',\n  'Maxwell',\n  'Parliament',\n  'text',\n  'CHANGED',\n  'Trockenbeerenauslesen',\n  'anti-abortionists',\n  'reaches',\n  'Guffey',\n  'self-aggrandizing',\n  'lasting',\n  'fundamentalist',\n  'Circle',\n  '57.50',\n  '135',\n  'Nicaraguan',\n  'Champagnes',\n  'raspberry',\n  'infusion',\n  'spite',\n  'Ill',\n  'Genie',\n  'inches',\n  'NEW',\n  'Buy',\n  '187',\n  'builds',\n  'Restaurant',\n  'pack',\n  'Albany',\n  'Baris',\n  'bludgeon',\n  'Makato',\n  'optimism',\n  'series',\n  'kidnapper',\n  'release',\n  'stayed',\n  '28.36',\n  'tower',\n  'reform',\n  'laurels',\n  'break',\n  'earns',\n  'price-depressing',\n  '90',\n  '111',\n  'publishes',\n  'adopt',\n  'airlines',\n  '1.75',\n  'Fax',\n  'Jefferson',\n  'AC-130U',\n  'picture',\n  'disposed',\n  'campaigning',\n  'Depending',\n  '400,000',\n  'Green',\n  'bag',\n  'diagnosed',\n  'burn',\n  'Inland',\n  'prints',\n  '4.10',\n  'revised',\n  'Nomenklatura',\n  'butterfly',\n  '1.5755',\n  'cheating',\n  'Patrick',\n  'Liberation',\n  'warehousing',\n  'apparel',\n  'examination',\n  'Fulton',\n  'elevators',\n  'generalizations',\n  'flagrant',\n  '1.39',\n  'Pat',\n  'request',\n  'Joe',\n  'Electronics',\n  'books',\n  '1.20',\n  'conducting',\n  'Yorkers',\n  'water',\n  'family-planning',\n  'carries',\n  'patent',\n  'growers',\n  'unlabeled',\n  'ritual',\n  'loss',\n  'Stuart',\n  'downtown',\n  'jury',\n  '42-year',\n  'kidnapping',\n  'agriculture',\n  'Week',\n  'Zealand',\n  'ad',\n  'discarded',\n  'Maybe',\n  'awaits',\n  'surprised',\n  'headline',\n  'furious',\n  'McFarlan',\n  'unwashed',\n  'recessionary',\n  'betterment',\n  'Beige',\n  'Czechoslovakia',\n  'benefited',\n  'Poore',\n  'Wickliffe',\n  '4.8',\n  'Connecticut',\n  'newspaper-printing',\n  'Redevelopment',\n  'bribing',\n  'cloth',\n  'several-year',\n  'Bush',\n  'Newspapers',\n  'audience',\n  'Results',\n  '3.625',\n  'duty-free',\n  'Wakayama',\n  'baby',\n  '1985',\n  'Myron',\n  'manufacturers',\n  'training-wage',\n  'Parents',\n  'suitors',\n  'disposables',\n  'housing-assistance',\n  'Honolulu',\n  'sacked',\n  'cutthroat',\n  'private',\n  'scams',\n  '80.8',\n  'clipped',\n  'although',\n  '13.50',\n  '57.6',\n  'transportation',\n  'shift',\n  'impetuous',\n  'couple',\n  'Kong',\n  'band',\n  'hook',\n  'quick',\n  'Clairton',\n  'overcrowding',\n  '98.3',\n  'prosecutors',\n  'Late',\n  'Transamerica',\n  'Dennis',\n  'Washington-based',\n  'complaining',\n  'factoring',\n  'crippled',\n  'Diceon',\n  'launch-vehicle',\n  'court',\n  'innovative',\n  'downside',\n  '87-store',\n  'applications',\n  'fingers',\n  'Rice',\n  'schedule',\n  'notwithstanding',\n  'waived',\n  'smoking',\n  'revolves',\n  'national',\n  'harm',\n  'discontent',\n  'Bowl',\n  'Warner',\n  'p.m',\n  'mainland',\n  'ASSOCIATION',\n  'Barfield',\n  'coincidental',\n  'congressional',\n  'disagreeable',\n  'fixes',\n  'lotions',\n  'generated',\n  'heirs',\n  'sector',\n  'caution',\n  'watches',\n  'cautioned',\n  'smoothly',\n  '1950s',\n  'Dodge',\n  'GM',\n  'cuvees',\n  'Torrington',\n  'Honduras',\n  'gamut',\n  'N.Y',\n  '353',\n  'Peng',\n  'Skills',\n  'alcoholics',\n  'export-oriented',\n  'prefer',\n  'inaccurately',\n  '1972',\n  'hegemony',\n  'lasted',\n  'Different',\n  'contribute',\n  'Phoenix',\n  'nowhere',\n  'Urban',\n  'Pace',\n  'trip',\n  'implies',\n  'mired',\n  'principals',\n  'Fishman',\n  'damaging',\n  'service',\n  'Five',\n  'Taccetta',\n  'O.',\n  'Beijing',\n  'Spreads',\n  'Mario',\n  'specialize',\n  'underwent',\n  'closed-end',\n  'implicit',\n  'professional',\n  '16.68',\n  'Designated',\n  'unusually',\n  'Fountain',\n  'booming',\n  'concentrating',\n  'asbestos-related',\n  'ACQUISITION',\n  'History',\n  'soul',\n  'holidays',\n  'emissions',\n  'Bridges',\n  'Patch',\n  'analyst',\n  'coming',\n  'audiocassettes',\n  'migrate',\n  'carrier',\n  'VOA',\n  'encourages',\n  'stockpiles',\n  'carefree',\n  'slid',\n  'version',\n  'crashes',\n  'inflation',\n  'screens',\n  'Iowa',\n  'pirates',\n  'redemption',\n  'Collins',\n  'Baim',\n  '339',\n  'Blanchard',\n  'employee',\n  'otherwise',\n  '1917',\n  'summoned',\n  'Always',\n  'improved',\n  'marketer',\n  'shrank',\n  'films',\n  'Takashima',\n  'unrealized',\n  'disarray',\n  'stockholders',\n  'Southern',\n  'non-callable',\n  'erasures',\n  'van',\n  'McGovern',\n  '30s',\n  'Brothers',\n  'cost-cutting',\n  'pushing',\n  'dramatically',\n  '500-stock',\n  'examples',\n  'shareholder-rights',\n  'Sun',\n  'smooth',\n  '6,500',\n  '93',\n  'controversial',\n  '11,000',\n  'Assistant',\n  'one-week',\n  'helping',\n  'excessive',\n  'Sea',\n  'balloon',\n  'multiplying',\n  'supporters',\n  '605',\n  'Negotiable',\n  'session',\n  'Hurley',\n  'Judging',\n  'Cullowhee',\n  'hands',\n  'A.C.',\n  'element',\n  'fashion',\n  'sudden',\n  'Speedway',\n  'statement',\n  'MORTGAGE',\n  'seeking',\n  '89.9',\n  'subindustry',\n  'bomber',\n  'river',\n  'fresh',\n  'afterwards',\n  'Taittinger',\n  'oilman',\n  'quarters',\n  '25,000',\n  'rebuild',\n  'Asada',\n  'sentimental',\n  'speaking',\n  'longtime',\n  'reclaimed',\n  'stance',\n  '90-cent-an-hour',\n  'blames',\n  'benevolent',\n  'jail',\n  'II',\n  'mutual',\n  'poured',\n  'sheaf',\n  'sparing',\n  'misdemeanor',\n  'sometimes-tawdry',\n  'unlikely',\n  '60',\n  'myriad',\n  'shoulder',\n  'sharp',\n  'Nippon',\n  'reportedly',\n  'Glenn',\n  'El',\n  'occurs',\n  '705.6',\n  'Sony',\n  'professor',\n  'wine-buying',\n  '203',\n  'Coxon',\n  'Brownell',\n  'Wayne',\n  '190',\n  'depository',\n  'directing',\n  '2-8',\n  'fees',\n  'Turnaround',\n  'intrusions',\n  '62.625',\n  'Huppert',\n  'capacity',\n  'free-lance',\n  'Anti-Deficiency',\n  'Atlanta',\n  'newcomer',\n  'addition',\n  'variables',\n  'studying',\n  'lore',\n  'Jaffray',\n  'dinosaurs',\n  'hitter',\n  'regard',\n  'urging',\n  'one-yen',\n  'colleges',\n  'Schweiz',\n  'Hymowitz',\n  'city',\n  'GRAINS',\n  'choose',\n  'direction',\n  'raring',\n  'insured',\n  'Burt',\n  'contains',\n  'art',\n  'decried',\n  'W.D.',\n  'developer',\n  '10th',\n  'fears',\n  'Pamela',\n  '22',\n  'ensembles',\n  'heavy-truck',\n  'unable',\n  '644',\n  'lift',\n  'contributors',\n  'hitting',\n  'remained',\n  'settlements',\n  \"C'mon\",\n  'silicone',\n  'Finland',\n  'four',\n  'distinct',\n  'vitriolic',\n  'ASSETS',\n  'ORTEGA',\n  'chooses',\n  'prescient',\n  'savings-and-loan',\n  'divided',\n  'eating',\n  'protected',\n  'FreudToy',\n  'newsworthy',\n  'rather',\n  'temperature',\n  'wear',\n  'F-series',\n  'skittishness',\n  'authority',\n  'helps',\n  'Virgin',\n  'earn',\n  'minister',\n  'radioactivity',\n  'Glaxo',\n  'jockeys',\n  'uttering',\n  'second',\n  'passport',\n  '50',\n  'foreign-stock',\n  'Duchossois',\n  'WFRR',\n  'fueling',\n  'forest-products',\n  'PORTING',\n  'Soup',\n  'Exxon-owned',\n  'Basham',\n  'Imports',\n  'Aktiebolaget',\n  'courtroom',\n  'skirmishes',\n  'rumor',\n  'culprit',\n  'relations',\n  'PS',\n  'penalties',\n  'armed',\n  'Colleges',\n  'container',\n  'Fred',\n  'devouring',\n  'uncanny',\n  'exit',\n  'seller',\n  'medical',\n  'role',\n  'tows',\n  'Westborough',\n  'appeals',\n  'wake',\n  'hospital',\n  'worthiness',\n  'manages',\n  'midyear',\n  'Gilts',\n  'Ratners',\n  'specialist',\n  'publication',\n  'particularly',\n  '83,206',\n  'expendable',\n  '240-page',\n  'chassis',\n  'mechanisms',\n  'drawn',\n  'England',\n  'ball',\n  '100-share',\n  'wrenching',\n  'peace',\n  'crowd',\n  'Indianapolis',\n  'provision',\n  'George',\n  '1992-1999',\n  'incisions',\n  'poverty',\n  'appeared',\n  'five-year',\n  'D.C.',\n  'uncertainty',\n  'constitute',\n  'buy-outs',\n  '271-147',\n  'gone',\n  'longer',\n  'separately',\n  'Learning',\n  'commanded',\n  'front-seat',\n  'month',\n  'everyday',\n  'Beta',\n  '8.50',\n  'Peoria',\n  'gallon',\n  'denying',\n  'knowledgeable',\n  'operation',\n  'beneficial',\n  'Patricia',\n  'partial',\n  'computer',\n  'Scientists',\n  'begot',\n  'already',\n  'incorporated',\n  'loan',\n  'recognizing',\n  'bids',\n  'shed',\n  'explore',\n  'documents',\n  'Ordnance',\n  'Charles',\n  'completion',\n  '49.9',\n  'economy',\n  'Hallett',\n  'invades',\n  'corn-buying',\n  'corrected',\n  'drag-down',\n  'leaving',\n  'PHOTOGRAPH',\n  'prizes',\n  'altruistic',\n  'Sit',\n  'narrowly',\n  'avenge',\n  'Pickens',\n  'Whereas',\n  'promotional',\n  'wallowing',\n  'senate',\n  'Providence',\n  'SEC',\n  'partners',\n  '158,666',\n  'impartial',\n  '32.8',\n  'sponsors',\n  'grandstander',\n  'Sales',\n  'deter',\n  'intentioned',\n  'toll',\n  'betrayer',\n  'Austria',\n  'swings',\n  'injuring',\n  'sinister',\n  'corporations',\n  'essays',\n  'table',\n  'Syndicate',\n  'satisfaction',\n  'obligations',\n  'man',\n  'guilty',\n  'UBS',\n  'Use',\n  'citizen-sparked',\n  'electric',\n  'refinery',\n  'big-time',\n  'Park',\n  'grim',\n  'swallow',\n  'define',\n  'engines',\n  'Media',\n  'warns',\n  'using',\n  'chairs',\n  'then-Speaker',\n  'worthy',\n  '960',\n  \"'s\",\n  'side-crash',\n  'brightened',\n  '143.93',\n  'liners',\n  'Fair',\n  'makes',\n  'assure',\n  'contractors',\n  '300',\n  'managers',\n  'reference',\n  'Heating',\n  'nature',\n  'polyproplene',\n  'daily',\n  'rigged',\n  'Del',\n  'combination',\n  'Democrats',\n  'Equus',\n  'rebounding',\n  'Trinity',\n  'leaky',\n  '352.9',\n  'Calif.-based',\n  'Cote',\n  'Share',\n  'stone',\n  'newsweekly',\n  'dismissal',\n  'Few',\n  'systems',\n  'scientific',\n  'Wick',\n  'cartilage',\n  'Eggers',\n  'replicated',\n  'FAX',\n  'sweeten',\n  'space',\n  'women',\n  'quite',\n  'Moore',\n  'converted',\n  'pool',\n  'speculative',\n  'comes',\n  'fabled',\n  'age',\n  'officially',\n  'resisting',\n  'conversations',\n  'Kingdom',\n  'hobbyists',\n  '121.6',\n  'computer-driven',\n  'Random',\n  'significant',\n  'Bon',\n  'occupying',\n  'Phi',\n  '2.87',\n  'Signet',\n  '77',\n  'PLC',\n  '42',\n  'Organizations',\n  'unconstitutional',\n  'short-wave',\n  'decision',\n  'school-improvement',\n  'convey',\n  'Ethel',\n  'ON',\n  'overcapacity',\n  'Dahl',\n  'articles',\n  'groups',\n  'violations',\n  'in-store',\n  'practices',\n  'reaping',\n  'embroiled',\n  'judges',\n  '2.25',\n  'home-market',\n  'customer',\n  'Biedermann',\n  'fairness',\n  'newspaper',\n  'Rey\\\\/Fawcett',\n  'survive',\n  '236.74',\n  'Tulane',\n  'unattractive',\n  'cigarette',\n  'Cataracts',\n  'weighing',\n  'Arlington',\n  'justices',\n  'Carolina',\n  '2,700',\n  'Newhouse',\n  'researching',\n  'Traficant',\n  'backers',\n  '374.20',\n  'Tip',\n  '415',\n  'Nev.',\n  'unaware',\n  'railings',\n  'personally',\n  '85.7',\n  'Attorneys',\n  'spirit',\n  'computer-aided',\n  'removal',\n  'Productions',\n  'score',\n  'buyer',\n  'shops',\n  'thanks',\n  'Caters',\n  'leveraged',\n  'incentive-backed',\n  'sum',\n  'Though',\n  'designations',\n  'monopolize',\n  'clouding',\n  '497.34',\n  'blocked',\n  'Giant',\n  'Hungary',\n  'INGERSOLL-RAND',\n  'packages',\n  'hour',\n  'Droz',\n  'quoting',\n  'good-hearted',\n  'curled',\n  'appliances',\n  '2.2',\n  'No.',\n  'stereo',\n  'with',\n  'crisis',\n  'order',\n  'Catholic',\n  'unjustified',\n  'Adolph',\n  'produces',\n  'Zurich',\n  'Phipps',\n  'procedure',\n  'famous',\n  'offices',\n  'fighting',\n  'beg',\n  'tubes',\n  'usually',\n  'Gillespie',\n  'IRAs',\n  'concede',\n  '30',\n  'Rey',\n  'pit',\n  '570',\n  'bloody',\n  'Huber',\n  'Frederick',\n  'Kaminski',\n  'attacks',\n  'Shapiro',\n  'Stark',\n  '20.5',\n  '28.25',\n  'Arizona',\n  'explained',\n  '5.6',\n  'Sullivan',\n  'Ferdinand',\n  'resilient',\n  'saved',\n  'Choose',\n  'personnel',\n  'reprove',\n  'wild',\n  'directorship',\n  'scattered',\n  'Soon',\n  'kindergarten',\n  'critics',\n  'formerly',\n  'structure',\n  'checks',\n  'edition',\n  'wives',\n  'outnumbered',\n  'capitalized',\n  'trimmed',\n  'plane',\n  'Thunderbird',\n  'Last',\n  'harmed',\n  'slowdown',\n  'multilevel',\n  'Holt',\n  'sticker',\n  'Teddy',\n  'Church',\n  'bell-ringing',\n  '21',\n  'investigation',\n  'Caldor',\n  'malignant',\n  'privacy',\n  'E.C.',\n  'Broken',\n  'casting',\n  'tremendous',\n  'competitive',\n  'advertise',\n  'sells',\n  'Have',\n  '8.22',\n  ...],\n ['RB',\n  'NN',\n  'VB',\n  'VBG',\n  'NN',\n  'VBZ',\n  'JJ',\n  'JJ',\n  'VBN',\n  'CD',\n  'NNP',\n  'NNP',\n  'JJ',\n  'JJ',\n  'JJ',\n  'NN',\n  'VBN',\n  'NNP',\n  'JJ',\n  'NN',\n  'NNP',\n  'NNP',\n  'JJ',\n  'NNS',\n  'CD',\n  'NN',\n  'JJ',\n  'VBN',\n  'NN',\n  'CD',\n  'VB',\n  'JJ',\n  'NN',\n  'VBZ',\n  'NNP',\n  'CD',\n  'NNP',\n  'NN',\n  'RB',\n  'JJ',\n  'NNS',\n  'NNP',\n  'NN',\n  'NNP',\n  'VBN',\n  'JJ',\n  'NNS',\n  'NN',\n  'VB',\n  'JJ',\n  'NN',\n  'RB',\n  'NNS',\n  'NN',\n  'NN',\n  'JJ',\n  'NNP',\n  'NNP',\n  'NN',\n  'NN',\n  'CD',\n  'NN',\n  'NNP',\n  'NNP',\n  'NN',\n  'NN',\n  'NNPS',\n  'NNS',\n  'JJ',\n  'NN',\n  'RB',\n  'NNS',\n  'VB',\n  'NN',\n  'VBP',\n  'NNP',\n  'VB',\n  'NNS',\n  'IN',\n  'NNP',\n  'NNP',\n  'RB',\n  'NNP',\n  'NNS',\n  'VBN',\n  'VBN',\n  'NNS',\n  'NNP',\n  'NN',\n  'CD',\n  'NNS',\n  'NN',\n  'NNS',\n  'JJ',\n  'NNP',\n  'VBZ',\n  'NN',\n  'NN',\n  'NNP',\n  'VBG',\n  'NN',\n  'VBG',\n  'NNP',\n  'NNP',\n  'NN',\n  'NNP',\n  'VBG',\n  'NN',\n  'NNS',\n  'VB',\n  'NNS',\n  'NN',\n  'CD',\n  'NN',\n  'VB',\n  'CD',\n  'NN',\n  'NN',\n  'NNS',\n  'NN',\n  'IN',\n  'CD',\n  'VBD',\n  'VBG',\n  'CD',\n  'NN',\n  'VBD',\n  'VB',\n  'VBP',\n  'CD',\n  'JJ',\n  'NN',\n  'NNS',\n  'VBN',\n  'NNP',\n  'NN',\n  'CD',\n  'VBG',\n  'CD',\n  'JJ',\n  'NN',\n  'NNP',\n  'NNP',\n  'NNP',\n  'NN',\n  'VBD',\n  'NNP',\n  'NNS',\n  'VBZ',\n  'NNP',\n  'JJ',\n  'JJ',\n  'JJ',\n  'NNP',\n  'CD',\n  'CD',\n  'JJ',\n  'NNS',\n  'NN',\n  'NN',\n  'NN',\n  'NNP',\n  'NNP',\n  'NNS',\n  'NNP',\n  'VB',\n  'CD',\n  'VBZ',\n  'NNP',\n  'NN',\n  'NNP',\n  'NNP',\n  'VB',\n  'NNP',\n  'NN',\n  'NN',\n  'NN',\n  'NN',\n  'VBD',\n  'CD',\n  'NN',\n  'NN',\n  'NNS',\n  'VB',\n  'VBZ',\n  'JJ',\n  'CD',\n  'CD',\n  'VBZ',\n  'VB',\n  'NNS',\n  'CD',\n  'NNP',\n  'NNP',\n  'NN',\n  'NN',\n  'VBD',\n  'NN',\n  'VBG',\n  'CD',\n  'NNP',\n  'NN',\n  'VBN',\n  'VBP',\n  'NNP',\n  'NNS',\n  'CD',\n  'VBN',\n  'NN',\n  'NN',\n  'CD',\n  'NN',\n  'NNP',\n  'NNP',\n  'NN',\n  'NN',\n  'NN',\n  'NNP',\n  'NNS',\n  'NNS',\n  'JJ',\n  'CD',\n  'NNP',\n  'NN',\n  'NNP',\n  'NNP',\n  'NNS',\n  'CD',\n  'VBG',\n  'NNPS',\n  'NN',\n  'JJ',\n  'VBZ',\n  'NN',\n  'NNS',\n  'JJ',\n  'NN',\n  'NN',\n  'NNP',\n  'NN',\n  'NN',\n  'JJ',\n  'NN',\n  'NN',\n  'NNP',\n  'NNP',\n  'NN',\n  'VBN',\n  'RB',\n  'VBZ',\n  'VBN',\n  'NN',\n  'JJ',\n  'NNP',\n  'JJ',\n  'JJ',\n  'NN',\n  'NNP',\n  'NNP',\n  'VBD',\n  'NNP',\n  'NNP',\n  'CD',\n  'NNP',\n  'NN',\n  'NNP',\n  'VBG',\n  'NN',\n  'JJ',\n  'NNP',\n  'NNP',\n  'NN',\n  'NNS',\n  'CD',\n  'JJ',\n  'NNP',\n  'NN',\n  'CD',\n  'NNP',\n  'NNS',\n  'JJ',\n  'NNP',\n  'NNS',\n  'NNS',\n  'JJ',\n  'NNP',\n  'VBD',\n  'JJ',\n  'JJ',\n  'NNS',\n  'CD',\n  'VBD',\n  'IN',\n  'CD',\n  'CD',\n  'NN',\n  'NN',\n  'JJ',\n  'NN',\n  'NNP',\n  'NN',\n  'NN',\n  'JJ',\n  'NNP',\n  'NN',\n  'CD',\n  'NNS',\n  'RB',\n  'NNP',\n  'NNP',\n  'JJ',\n  'VBG',\n  'VBG',\n  'VBN',\n  'NNP',\n  'NN',\n  'NN',\n  'JJ',\n  'NN',\n  'JJ',\n  'NNS',\n  'NNS',\n  'NNP',\n  'NN',\n  'IN',\n  'VBD',\n  'NN',\n  'VBZ',\n  'JJ',\n  'NN',\n  'NN',\n  'NNP',\n  'NNP',\n  'RB',\n  'NN',\n  'NNP',\n  'NNP',\n  'JJ',\n  'JJ',\n  'JJ',\n  'NNS',\n  'NNS',\n  'VBN',\n  'NNS',\n  'NN',\n  'NN',\n  'NNS',\n  'VBD',\n  'RB',\n  'CD',\n  'NNP',\n  'NNP',\n  'NNS',\n  'NNP',\n  'NNP',\n  'NN',\n  'NNP',\n  'CD',\n  'NNP',\n  'NNS',\n  'NNS',\n  'JJ',\n  'VBP',\n  'RB',\n  'CD',\n  'NN',\n  'VBD',\n  'NNP',\n  'VB',\n  'NNP',\n  'RB',\n  'NNP',\n  'NNP',\n  'NN',\n  'VBZ',\n  'VBN',\n  'NNS',\n  'NNP',\n  'JJ',\n  'NN',\n  'CD',\n  'NNP',\n  'NNP',\n  'NNP',\n  'NNS',\n  'NNP',\n  'VB',\n  'VBD',\n  'JJ',\n  'JJ',\n  'JJ',\n  'CD',\n  'NNP',\n  'RB',\n  'NNP',\n  'VBG',\n  'VBG',\n  'JJ',\n  'NNP',\n  'NN',\n  'NN',\n  'NNS',\n  'NNS',\n  'NNPS',\n  'NNP',\n  'NN',\n  'VBG',\n  'NNS',\n  'VB',\n  'NN',\n  'NNP',\n  'VBZ',\n  'NNS',\n  'JJ',\n  'VBD',\n  'NN',\n  'NNS',\n  'NN',\n  'NNS',\n  'NNP',\n  'NNS',\n  'NN',\n  'NNP',\n  'NNP',\n  'CD',\n  'NNP',\n  'NN',\n  'RB',\n  'CD',\n  'VBD',\n  'RB',\n  'VBN',\n  'NN',\n  'VBD',\n  'NNS',\n  'NNP',\n  'JJ',\n  'NN',\n  'NNS',\n  'NNP',\n  'JJ',\n  'NNS',\n  'NNP',\n  'NNP',\n  'CD',\n  'NNPS',\n  'JJ',\n  'VBG',\n  'RB',\n  'JJ',\n  'NNS',\n  'JJ',\n  'NNP',\n  'JJ',\n  'CD',\n  'CD',\n  'JJ',\n  'CD',\n  'NNP',\n  'JJ',\n  'VBG',\n  'JJ',\n  'NNP',\n  'NN',\n  'VBG',\n  'NNS',\n  'CD',\n  'JJ',\n  'NN',\n  'NNP',\n  'VBG',\n  'NNP',\n  'NNS',\n  'NNP',\n  'NN',\n  'NN',\n  'JJ',\n  'NNP',\n  'NN',\n  'NNP',\n  'VBG',\n  'CD',\n  'NN',\n  'NN',\n  'NN',\n  'JJ',\n  'RB',\n  'NNP',\n  'NN',\n  'NNS',\n  'CD',\n  'VB',\n  'NNP',\n  'JJ',\n  'VBG',\n  'NN',\n  'VBN',\n  'NN',\n  'JJ',\n  'VBZ',\n  'JJ',\n  'NN',\n  'NNP',\n  'JJ',\n  'VBD',\n  'NN',\n  'VBG',\n  'NN',\n  'JJ',\n  'JJ',\n  'CD',\n  'JJ',\n  'NN',\n  'JJ',\n  'NNP',\n  'RB',\n  'NNP',\n  'NNP',\n  'VBZ',\n  'CD',\n  'NNP',\n  'NN',\n  'JJ',\n  'CD',\n  'NNP',\n  'NNP',\n  'NNP',\n  'CD',\n  'NN',\n  'VBG',\n  'CD',\n  'NNS',\n  'NNP',\n  'NNS',\n  'CD',\n  'NNP',\n  'NN',\n  'JJ',\n  'NNP',\n  'NNP',\n  'NN',\n  'NN',\n  'NNS',\n  'VBG',\n  'NN',\n  'NNP',\n  'NNS',\n  'NN',\n  'VBP',\n  'VBG',\n  'JJ',\n  'NNS',\n  'NNP',\n  'NNP',\n  'NN',\n  'NNPS',\n  'VB',\n  'NN',\n  'JJ',\n  'VBN',\n  'NNP',\n  'VBZ',\n  'NN',\n  'VBD',\n  'NNP',\n  'NN',\n  'JJ',\n  'NNS',\n  'NNP',\n  'CD',\n  'NNS',\n  'NN',\n  'JJ',\n  'CD',\n  'VB',\n  'NNS',\n  'VBG',\n  'VBD',\n  'NNS',\n  'VB',\n  'NN',\n  'NNP',\n  'CD',\n  'JJ',\n  'JJ',\n  'NNPS',\n  'NNP',\n  'VBZ',\n  'JJ',\n  'JJ',\n  'VBN',\n  'VBG',\n  'VBN',\n  'NNP',\n  'JJ',\n  'RB',\n  'NN',\n  'VB',\n  'NNPS',\n  'NN',\n  'NN',\n  'VBZ',\n  'NNP',\n  'VB',\n  'NN',\n  'NN',\n  'NNP',\n  'NNS',\n  'VBG',\n  'JJ',\n  'NN',\n  'CD',\n  'JJ',\n  'NNP',\n  'NNP',\n  'NN',\n  'NNS',\n  'VBG',\n  'NNP',\n  'JJ',\n  'NNP',\n  'NNS',\n  'NNP',\n  'NN',\n  'NNS',\n  'NN',\n  'NN',\n  'NNS',\n  'NNP',\n  'NNS',\n  'VBN',\n  'NNS',\n  'NN',\n  'NNP',\n  'VBG',\n  'JJ',\n  'NN',\n  'NN',\n  'JJ',\n  'NN',\n  'NNS',\n  'NNP',\n  'NNS',\n  'NN',\n  'NN',\n  'NN',\n  'VBZ',\n  'NN',\n  'NNS',\n  'NNP',\n  'NN',\n  'NN',\n  'RB',\n  'CD',\n  'JJ',\n  'JJ',\n  'NN',\n  'NNS',\n  'VBN',\n  'NNP',\n  'NN',\n  'JJ',\n  'JJ',\n  'NN',\n  'NN',\n  'NNP',\n  'NN',\n  'NNP',\n  'CD',\n  'NNS',\n  'NN',\n  'VBD',\n  'JJ',\n  'NNP',\n  'NN',\n  'VBP',\n  'NNS',\n  'CD',\n  'VBN',\n  'RB',\n  'RB',\n  'NNP',\n  'VBN',\n  'NN',\n  'NN',\n  'JJ',\n  'NNP',\n  'CD',\n  'NNP',\n  'NN',\n  'VBG',\n  'JJ',\n  'NN',\n  'JJ',\n  'NNP',\n  'JJ',\n  'NN',\n  'NNS',\n  'VBD',\n  'RB',\n  'VBN',\n  'NN',\n  'VBG',\n  'NNS',\n  'VBD',\n  'VB',\n  'NNS',\n  'NNP',\n  'NNP',\n  'NN',\n  'CD',\n  'NN',\n  'NNP',\n  'VBZ',\n  'JJ',\n  'VBN',\n  'JJ',\n  'VBG',\n  'NN',\n  'NNS',\n  'JJ',\n  'VB',\n  'RB',\n  'VB',\n  'NNP',\n  'IN',\n  'JJ',\n  'VBG',\n  'NN',\n  'NNP',\n  'NNP',\n  'NNS',\n  'CD',\n  'JJ',\n  'CD',\n  'NNS',\n  'NN',\n  'NNS',\n  'VB',\n  'JJ',\n  'NN',\n  'NN',\n  'NNP',\n  'NNS',\n  'VBG',\n  'JJ',\n  'NNS',\n  'NNS',\n  'NN',\n  'NN',\n  'NN',\n  'NNS',\n  'NN',\n  'JJ',\n  'NNP',\n  'NN',\n  'JJ',\n  'JJ',\n  'NN',\n  'JJ',\n  'NNP',\n  'JJ',\n  'VB',\n  'VB',\n  'NNS',\n  'NNP',\n  'VBZ',\n  'VBG',\n  'NNS',\n  'JJ',\n  'JJ',\n  'CD',\n  'VBZ',\n  'JJ',\n  'VBD',\n  'CD',\n  'NNS',\n  'NNP',\n  'VBZ',\n  'VB',\n  'NNS',\n  'CD',\n  'NNS',\n  'NN',\n  'NN',\n  'NN',\n  'NN',\n  'JJ',\n  'VBN',\n  'NNP',\n  'NN',\n  'NNPS',\n  'NNP',\n  'VBG',\n  'NNP',\n  'JJ',\n  'CD',\n  'JJ',\n  'NNP',\n  'NN',\n  'NN',\n  'RB',\n  'NN',\n  'JJ',\n  'NNS',\n  'JJ',\n  'NNP',\n  'NN',\n  'NNP',\n  'VBN',\n  'NNP',\n  'VB',\n  'NN',\n  'NNS',\n  'RB',\n  'NNP',\n  'VBN',\n  'NN',\n  'JJ',\n  'VBZ',\n  'JJ',\n  'NN',\n  'RB',\n  'VBG',\n  'NNS',\n  'NNP',\n  'NNS',\n  'CD',\n  'JJ',\n  'NNP',\n  'JJ',\n  'NNP',\n  'VBG',\n  'NNP',\n  'CD',\n  'NNP',\n  'CD',\n  'NNP',\n  'CD',\n  'NNP',\n  'JJ',\n  'JJ',\n  'NN',\n  'JJ',\n  'VBP',\n  'NNP',\n  'NNP',\n  'NN',\n  'NNP',\n  'NNS',\n  'NNS',\n  'NNS',\n  'JJ',\n  'NNS',\n  'VBG',\n  'VBN',\n  'NNS',\n  'CD',\n  'JJ',\n  'NN',\n  'NNP',\n  'NN',\n  'NN',\n  'NNP',\n  'VB',\n  'CD',\n  'NNP',\n  'JJ',\n  'NN',\n  'NNS',\n  'VBG',\n  'NNP',\n  'NNS',\n  'NNP',\n  'CD',\n  'NNP',\n  'VBG',\n  'NNP',\n  'NNS',\n  'CD',\n  'NNP',\n  'CD',\n  'NNP',\n  'JJ',\n  'NNS',\n  'RB',\n  'CD',\n  'NNS',\n  'NN',\n  'JJ',\n  'NN',\n  'NNPS',\n  'NN',\n  'NN',\n  'NNS',\n  'NNS',\n  'NNP',\n  'JJ',\n  'JJ',\n  'NN',\n  'IN',\n  'NNS',\n  'VB',\n  'NN',\n  'CD',\n  'VBN',\n  'NNP',\n  'NNP',\n  'NNP',\n  'NNS',\n  'NN',\n  'NNP',\n  'VBG',\n  'JJ',\n  'VBD',\n  'NNS',\n  'CD',\n  'NN',\n  'NN',\n  'IN',\n  'NN',\n  'NN',\n  'NNP',\n  'JJ',\n  'NNP',\n  'VBZ',\n  'NNP',\n  'NNP',\n  'NN',\n  'JJ',\n  'NNS',\n  'VBG',\n  'VB',\n  'NNS',\n  'RB',\n  'NNP',\n  'NNS',\n  'VBP',\n  'CD',\n  'NNP',\n  'NN',\n  'CD',\n  'JJ',\n  'NNP',\n  'NNP',\n  'NNP',\n  'NNS',\n  'NNP',\n  'NNP',\n  'CD',\n  'CD',\n  'NNP',\n  'VBD',\n  'CD',\n  'NNP',\n  'NNP',\n  'JJ',\n  'VBD',\n  'VB',\n  'NNS',\n  'VB',\n  'JJ',\n  'NN',\n  'VBN',\n  'RB',\n  'NN',\n  'NNS',\n  'RB',\n  'NN',\n  'NNS',\n  'NN',\n  'NNS',\n  'VBD',\n  'VBN',\n  'VBN',\n  'NN',\n  'NNP',\n  'JJ',\n  'VBN',\n  'NN',\n  'JJ',\n  'NNP',\n  'NN',\n  'NNP',\n  'NNP',\n  'JJ',\n  'CD',\n  'NN',\n  'NNP',\n  'JJ',\n  'NN',\n  'NNP',\n  'NNP',\n  'VBG',\n  'JJ',\n  'JJ',\n  'VB',\n  'VBZ',\n  'NNP',\n  'CD',\n  ...])"
     },
     "execution_count": 129,
     "metadata": {},
     "output_type": "execute_result"
    }
   ],
   "source": [
    "# TODO:DELETE\n",
    "X_train, y_train"
   ],
   "metadata": {
    "collapsed": false,
    "ExecuteTime": {
     "start_time": "2023-05-29T22:57:04.256702Z",
     "end_time": "2023-05-29T22:57:04.329735Z"
    }
   }
  },
  {
   "attachments": {},
   "cell_type": "markdown",
   "metadata": {
    "colab": {
     "base_uri": "https://localhost:8080/",
     "height": 34
    },
    "colab_type": "code",
    "id": "cQ8B7F9i--AV",
    "outputId": "10a2fbcc-e22e-41e1-d3be-72bf8550dff1"
   },
   "source": [
    "### 字符的编码"
   ]
  },
  {
   "attachments": {},
   "cell_type": "markdown",
   "metadata": {},
   "source": [
    "本部分所有代码均可根据自己实现需要进行增删改，所给代码只是一种实现的参考模版。"
   ]
  },
  {
   "cell_type": "code",
   "execution_count": 155,
   "metadata": {
    "ExecuteTime": {
     "start_time": "2023-05-29T23:42:29.348294Z",
     "end_time": "2023-05-29T23:42:29.357991Z"
    }
   },
   "outputs": [
    {
     "name": "stdout",
     "output_type": "stream",
     "text": [
      "['\\n', '%', '&', \"'\", ',', '-', '.', '/', '0', '1', '2', '3', '4', '5', '6', '7', '8', '9', ':', '@', 'A', 'B', 'C', 'D', 'E', 'F', 'G', 'H', 'I', 'J', 'K', 'L', 'M', 'N', 'O', 'P', 'Q', 'R', 'S', 'T', 'U', 'V', 'W', 'X', 'Y', 'Z', '\\\\', 'a', 'b', 'c', 'd', 'e', 'f', 'g', 'h', 'i', 'j', 'k', 'l', 'm', 'n', 'o', 'p', 'q', 'r', 's', 't', 'u', 'v', 'w', 'x', 'y', 'z']\n"
     ]
    }
   ],
   "source": [
    "# 统计字符\n",
    "s = set()\n",
    "for path in findFiles('data/*.txt'):\n",
    "    f = open(path,\"r\")\n",
    "    for word in f.readlines():\n",
    "        for char in word:\n",
    "            s.add(char)\n",
    "    f.close()\n",
    "all_letters = \"\"\n",
    "for c in s:\n",
    "    all_letters+=str(c)\n",
    "\n",
    "n_letters = len(all_letters)\n",
    "print(sorted(list(all_letters)))"
   ]
  },
  {
   "cell_type": "code",
   "execution_count": 157,
   "metadata": {
    "colab": {},
    "colab_type": "code",
    "id": "Hyes9BW7CTaU",
    "ExecuteTime": {
     "start_time": "2023-05-29T23:44:02.261838Z",
     "end_time": "2023-05-29T23:44:02.265862Z"
    }
   },
   "outputs": [
    {
     "name": "stdout",
     "output_type": "stream",
     "text": [
      "Thai torch.Size([4, 1, 73])\n"
     ]
    }
   ],
   "source": [
    "#function to create name representation\n",
    "\n",
    "def name_rep(name):\n",
    "    rep = torch.zeros(len(name), 1, n_letters)\n",
    "    for index, letter in enumerate(name):\n",
    "        pos = all_letters.find(letter)\n",
    "        rep[index][0][pos] = 1\n",
    "    return rep\n",
    "print(X_test[0],name_rep(X_test[0]).shape)"
   ]
  },
  {
   "cell_type": "code",
   "execution_count": 158,
   "metadata": {
    "colab": {},
    "colab_type": "code",
    "id": "qvsscR5nE67_",
    "ExecuteTime": {
     "start_time": "2023-05-29T23:45:05.302540Z",
     "end_time": "2023-05-29T23:45:05.317620Z"
    }
   },
   "outputs": [
    {
     "name": "stdout",
     "output_type": "stream",
     "text": [
      "NNP torch.Size([1])\n"
     ]
    }
   ],
   "source": [
    "#function to create lang representation\n",
    "\n",
    "def nat_rep(lang):\n",
    "    return torch.tensor([tags.index(lang)], dtype = torch.long)\n",
    "print(y_test[0],nat_rep(y_test[0]).shape)"
   ]
  },
  {
   "cell_type": "code",
   "execution_count": 159,
   "metadata": {
    "ExecuteTime": {
     "start_time": "2023-05-29T23:48:15.141628Z",
     "end_time": "2023-05-29T23:48:15.155241Z"
    }
   },
   "outputs": [
    {
     "data": {
      "text/plain": "[('Crew',\n  'NNP',\n  tensor([[[0., 0., 0., 0., 0., 0., 0., 0., 0., 0., 0., 0., 0., 0., 0., 0., 0.,\n            0., 0., 0., 0., 0., 0., 0., 0., 0., 0., 0., 0., 0., 0., 0., 0., 0.,\n            0., 0., 0., 0., 0., 0., 0., 0., 0., 0., 0., 0., 0., 0., 0., 0., 0.,\n            0., 0., 0., 0., 0., 0., 0., 0., 0., 0., 0., 0., 1., 0., 0., 0., 0.,\n            0., 0., 0., 0., 0.]],\n  \n          [[0., 0., 0., 0., 0., 0., 0., 0., 0., 0., 0., 0., 0., 0., 0., 0., 0.,\n            0., 0., 0., 0., 0., 0., 0., 0., 0., 0., 0., 0., 0., 0., 0., 0., 0.,\n            0., 0., 0., 0., 0., 0., 0., 0., 0., 0., 0., 0., 0., 0., 0., 0., 0.,\n            0., 0., 0., 0., 0., 0., 0., 0., 0., 0., 0., 0., 0., 0., 0., 0., 0.,\n            1., 0., 0., 0., 0.]],\n  \n          [[0., 0., 0., 0., 0., 0., 0., 0., 0., 0., 0., 0., 0., 0., 0., 0., 0.,\n            0., 0., 0., 0., 0., 0., 0., 0., 0., 0., 0., 0., 0., 0., 0., 0., 0.,\n            0., 0., 0., 0., 0., 0., 0., 0., 0., 0., 0., 0., 0., 0., 0., 0., 0.,\n            0., 0., 0., 0., 0., 0., 0., 0., 0., 0., 0., 1., 0., 0., 0., 0., 0.,\n            0., 0., 0., 0., 0.]],\n  \n          [[0., 0., 0., 0., 0., 0., 0., 0., 0., 0., 0., 0., 0., 0., 0., 0., 0.,\n            0., 0., 0., 0., 0., 0., 0., 1., 0., 0., 0., 0., 0., 0., 0., 0., 0.,\n            0., 0., 0., 0., 0., 0., 0., 0., 0., 0., 0., 0., 0., 0., 0., 0., 0.,\n            0., 0., 0., 0., 0., 0., 0., 0., 0., 0., 0., 0., 0., 0., 0., 0., 0.,\n            0., 0., 0., 0., 0.]]]),\n  tensor([4])),\n ('Mortgage-Backed',\n  'NNP',\n  tensor([[[0., 0., 0.,  ..., 0., 0., 0.]],\n  \n          [[0., 0., 0.,  ..., 0., 0., 0.]],\n  \n          [[0., 0., 0.,  ..., 0., 0., 0.]],\n  \n          ...,\n  \n          [[0., 0., 0.,  ..., 0., 0., 0.]],\n  \n          [[0., 0., 0.,  ..., 0., 0., 0.]],\n  \n          [[0., 0., 0.,  ..., 0., 0., 0.]]]),\n  tensor([4])),\n ('enticed',\n  'VBD',\n  tensor([[[0., 0., 0., 0., 0., 0., 0., 0., 0., 0., 0., 0., 0., 0., 0., 0., 0.,\n            0., 0., 0., 0., 0., 0., 0., 0., 0., 0., 0., 0., 0., 0., 0., 0., 0.,\n            0., 0., 0., 0., 0., 0., 0., 0., 0., 0., 0., 0., 0., 0., 0., 0., 0.,\n            0., 0., 0., 0., 0., 0., 0., 0., 0., 0., 0., 1., 0., 0., 0., 0., 0.,\n            0., 0., 0., 0., 0.]],\n  \n          [[0., 0., 0., 0., 0., 0., 0., 0., 0., 0., 0., 0., 1., 0., 0., 0., 0.,\n            0., 0., 0., 0., 0., 0., 0., 0., 0., 0., 0., 0., 0., 0., 0., 0., 0.,\n            0., 0., 0., 0., 0., 0., 0., 0., 0., 0., 0., 0., 0., 0., 0., 0., 0.,\n            0., 0., 0., 0., 0., 0., 0., 0., 0., 0., 0., 0., 0., 0., 0., 0., 0.,\n            0., 0., 0., 0., 0.]],\n  \n          [[0., 0., 0., 0., 0., 1., 0., 0., 0., 0., 0., 0., 0., 0., 0., 0., 0.,\n            0., 0., 0., 0., 0., 0., 0., 0., 0., 0., 0., 0., 0., 0., 0., 0., 0.,\n            0., 0., 0., 0., 0., 0., 0., 0., 0., 0., 0., 0., 0., 0., 0., 0., 0.,\n            0., 0., 0., 0., 0., 0., 0., 0., 0., 0., 0., 0., 0., 0., 0., 0., 0.,\n            0., 0., 0., 0., 0.]],\n  \n          [[0., 0., 0., 0., 0., 0., 0., 0., 0., 0., 0., 0., 0., 0., 0., 1., 0.,\n            0., 0., 0., 0., 0., 0., 0., 0., 0., 0., 0., 0., 0., 0., 0., 0., 0.,\n            0., 0., 0., 0., 0., 0., 0., 0., 0., 0., 0., 0., 0., 0., 0., 0., 0.,\n            0., 0., 0., 0., 0., 0., 0., 0., 0., 0., 0., 0., 0., 0., 0., 0., 0.,\n            0., 0., 0., 0., 0.]],\n  \n          [[0., 0., 0., 1., 0., 0., 0., 0., 0., 0., 0., 0., 0., 0., 0., 0., 0.,\n            0., 0., 0., 0., 0., 0., 0., 0., 0., 0., 0., 0., 0., 0., 0., 0., 0.,\n            0., 0., 0., 0., 0., 0., 0., 0., 0., 0., 0., 0., 0., 0., 0., 0., 0.,\n            0., 0., 0., 0., 0., 0., 0., 0., 0., 0., 0., 0., 0., 0., 0., 0., 0.,\n            0., 0., 0., 0., 0.]],\n  \n          [[0., 0., 0., 0., 0., 0., 0., 0., 0., 0., 0., 0., 0., 0., 0., 0., 0.,\n            0., 0., 0., 0., 0., 0., 0., 0., 0., 0., 0., 0., 0., 0., 0., 0., 0.,\n            0., 0., 0., 0., 0., 0., 0., 0., 0., 0., 0., 0., 0., 0., 0., 0., 0.,\n            0., 0., 0., 0., 0., 0., 0., 0., 0., 0., 0., 1., 0., 0., 0., 0., 0.,\n            0., 0., 0., 0., 0.]],\n  \n          [[0., 0., 0., 0., 0., 0., 0., 0., 0., 0., 0., 0., 0., 0., 0., 0., 0.,\n            0., 0., 0., 0., 0., 0., 0., 0., 0., 0., 0., 0., 0., 0., 0., 0., 0.,\n            0., 0., 0., 0., 1., 0., 0., 0., 0., 0., 0., 0., 0., 0., 0., 0., 0.,\n            0., 0., 0., 0., 0., 0., 0., 0., 0., 0., 0., 0., 0., 0., 0., 0., 0.,\n            0., 0., 0., 0., 0.]]]),\n  tensor([9])),\n ('anyone',\n  'NN',\n  tensor([[[0., 0., 0., 0., 0., 0., 0., 0., 0., 0., 0., 0., 0., 0., 0., 0., 0.,\n            0., 0., 0., 0., 1., 0., 0., 0., 0., 0., 0., 0., 0., 0., 0., 0., 0.,\n            0., 0., 0., 0., 0., 0., 0., 0., 0., 0., 0., 0., 0., 0., 0., 0., 0.,\n            0., 0., 0., 0., 0., 0., 0., 0., 0., 0., 0., 0., 0., 0., 0., 0., 0.,\n            0., 0., 0., 0., 0.]],\n  \n          [[0., 0., 0., 0., 0., 0., 0., 0., 0., 0., 0., 0., 1., 0., 0., 0., 0.,\n            0., 0., 0., 0., 0., 0., 0., 0., 0., 0., 0., 0., 0., 0., 0., 0., 0.,\n            0., 0., 0., 0., 0., 0., 0., 0., 0., 0., 0., 0., 0., 0., 0., 0., 0.,\n            0., 0., 0., 0., 0., 0., 0., 0., 0., 0., 0., 0., 0., 0., 0., 0., 0.,\n            0., 0., 0., 0., 0.]],\n  \n          [[0., 0., 0., 0., 0., 0., 0., 0., 0., 0., 0., 0., 0., 0., 0., 0., 0.,\n            0., 0., 0., 0., 0., 0., 0., 0., 0., 0., 0., 0., 0., 0., 0., 0., 0.,\n            0., 0., 0., 0., 0., 0., 0., 0., 1., 0., 0., 0., 0., 0., 0., 0., 0.,\n            0., 0., 0., 0., 0., 0., 0., 0., 0., 0., 0., 0., 0., 0., 0., 0., 0.,\n            0., 0., 0., 0., 0.]],\n  \n          [[0., 0., 0., 0., 0., 0., 0., 0., 0., 0., 0., 0., 0., 0., 0., 0., 0.,\n            0., 0., 0., 0., 0., 0., 0., 0., 0., 0., 1., 0., 0., 0., 0., 0., 0.,\n            0., 0., 0., 0., 0., 0., 0., 0., 0., 0., 0., 0., 0., 0., 0., 0., 0.,\n            0., 0., 0., 0., 0., 0., 0., 0., 0., 0., 0., 0., 0., 0., 0., 0., 0.,\n            0., 0., 0., 0., 0.]],\n  \n          [[0., 0., 0., 0., 0., 0., 0., 0., 0., 0., 0., 0., 1., 0., 0., 0., 0.,\n            0., 0., 0., 0., 0., 0., 0., 0., 0., 0., 0., 0., 0., 0., 0., 0., 0.,\n            0., 0., 0., 0., 0., 0., 0., 0., 0., 0., 0., 0., 0., 0., 0., 0., 0.,\n            0., 0., 0., 0., 0., 0., 0., 0., 0., 0., 0., 0., 0., 0., 0., 0., 0.,\n            0., 0., 0., 0., 0.]],\n  \n          [[0., 0., 0., 0., 0., 0., 0., 0., 0., 0., 0., 0., 0., 0., 0., 0., 0.,\n            0., 0., 0., 0., 0., 0., 0., 0., 0., 0., 0., 0., 0., 0., 0., 0., 0.,\n            0., 0., 0., 0., 0., 0., 0., 0., 0., 0., 0., 0., 0., 0., 0., 0., 0.,\n            0., 0., 0., 0., 0., 0., 0., 0., 0., 0., 0., 1., 0., 0., 0., 0., 0.,\n            0., 0., 0., 0., 0.]]]),\n  tensor([3])),\n ('Times',\n  'NNP',\n  tensor([[[0., 0., 0., 0., 0., 0., 0., 0., 0., 0., 0., 0., 0., 0., 0., 0., 0.,\n            0., 0., 0., 0., 0., 0., 0., 0., 0., 0., 0., 0., 0., 0., 0., 0., 0.,\n            0., 0., 0., 0., 0., 0., 0., 0., 0., 0., 0., 0., 0., 1., 0., 0., 0.,\n            0., 0., 0., 0., 0., 0., 0., 0., 0., 0., 0., 0., 0., 0., 0., 0., 0.,\n            0., 0., 0., 0., 0.]],\n  \n          [[0., 0., 0., 0., 0., 0., 0., 0., 0., 0., 0., 0., 0., 0., 0., 1., 0.,\n            0., 0., 0., 0., 0., 0., 0., 0., 0., 0., 0., 0., 0., 0., 0., 0., 0.,\n            0., 0., 0., 0., 0., 0., 0., 0., 0., 0., 0., 0., 0., 0., 0., 0., 0.,\n            0., 0., 0., 0., 0., 0., 0., 0., 0., 0., 0., 0., 0., 0., 0., 0., 0.,\n            0., 0., 0., 0., 0.]],\n  \n          [[0., 0., 0., 0., 0., 0., 0., 0., 0., 0., 0., 0., 0., 0., 0., 0., 0.,\n            0., 0., 0., 0., 0., 0., 0., 0., 0., 0., 0., 0., 0., 0., 0., 0., 0.,\n            0., 0., 0., 0., 0., 0., 0., 0., 0., 0., 0., 0., 0., 0., 0., 0., 0.,\n            0., 0., 0., 0., 0., 1., 0., 0., 0., 0., 0., 0., 0., 0., 0., 0., 0.,\n            0., 0., 0., 0., 0.]],\n  \n          [[0., 0., 0., 0., 0., 0., 0., 0., 0., 0., 0., 0., 0., 0., 0., 0., 0.,\n            0., 0., 0., 0., 0., 0., 0., 0., 0., 0., 0., 0., 0., 0., 0., 0., 0.,\n            0., 0., 0., 0., 0., 0., 0., 0., 0., 0., 0., 0., 0., 0., 0., 0., 0.,\n            0., 0., 0., 0., 0., 0., 0., 0., 0., 0., 0., 1., 0., 0., 0., 0., 0.,\n            0., 0., 0., 0., 0.]],\n  \n          [[0., 0., 0., 0., 0., 0., 0., 0., 0., 0., 0., 0., 0., 0., 0., 0., 0.,\n            0., 0., 0., 0., 0., 0., 0., 0., 0., 0., 0., 0., 0., 0., 0., 0., 0.,\n            0., 0., 0., 0., 0., 0., 0., 0., 0., 0., 0., 0., 0., 0., 0., 0., 0.,\n            0., 0., 0., 0., 1., 0., 0., 0., 0., 0., 0., 0., 0., 0., 0., 0., 0.,\n            0., 0., 0., 0., 0.]]]),\n  tensor([4])),\n ('defeats',\n  'VBZ',\n  tensor([[[0., 0., 0., 0., 0., 0., 0., 0., 0., 0., 0., 0., 0., 0., 0., 0., 0.,\n            0., 0., 0., 0., 0., 0., 0., 0., 0., 0., 0., 0., 0., 0., 0., 0., 0.,\n            0., 0., 0., 0., 1., 0., 0., 0., 0., 0., 0., 0., 0., 0., 0., 0., 0.,\n            0., 0., 0., 0., 0., 0., 0., 0., 0., 0., 0., 0., 0., 0., 0., 0., 0.,\n            0., 0., 0., 0., 0.]],\n  \n          [[0., 0., 0., 0., 0., 0., 0., 0., 0., 0., 0., 0., 0., 0., 0., 0., 0.,\n            0., 0., 0., 0., 0., 0., 0., 0., 0., 0., 0., 0., 0., 0., 0., 0., 0.,\n            0., 0., 0., 0., 0., 0., 0., 0., 0., 0., 0., 0., 0., 0., 0., 0., 0.,\n            0., 0., 0., 0., 0., 0., 0., 0., 0., 0., 0., 1., 0., 0., 0., 0., 0.,\n            0., 0., 0., 0., 0.]],\n  \n          [[0., 0., 0., 0., 0., 0., 0., 0., 0., 0., 0., 0., 0., 0., 0., 0., 0.,\n            0., 1., 0., 0., 0., 0., 0., 0., 0., 0., 0., 0., 0., 0., 0., 0., 0.,\n            0., 0., 0., 0., 0., 0., 0., 0., 0., 0., 0., 0., 0., 0., 0., 0., 0.,\n            0., 0., 0., 0., 0., 0., 0., 0., 0., 0., 0., 0., 0., 0., 0., 0., 0.,\n            0., 0., 0., 0., 0.]],\n  \n          [[0., 0., 0., 0., 0., 0., 0., 0., 0., 0., 0., 0., 0., 0., 0., 0., 0.,\n            0., 0., 0., 0., 0., 0., 0., 0., 0., 0., 0., 0., 0., 0., 0., 0., 0.,\n            0., 0., 0., 0., 0., 0., 0., 0., 0., 0., 0., 0., 0., 0., 0., 0., 0.,\n            0., 0., 0., 0., 0., 0., 0., 0., 0., 0., 0., 1., 0., 0., 0., 0., 0.,\n            0., 0., 0., 0., 0.]],\n  \n          [[0., 0., 0., 0., 0., 0., 0., 0., 0., 0., 0., 0., 0., 0., 0., 0., 0.,\n            0., 0., 0., 0., 1., 0., 0., 0., 0., 0., 0., 0., 0., 0., 0., 0., 0.,\n            0., 0., 0., 0., 0., 0., 0., 0., 0., 0., 0., 0., 0., 0., 0., 0., 0.,\n            0., 0., 0., 0., 0., 0., 0., 0., 0., 0., 0., 0., 0., 0., 0., 0., 0.,\n            0., 0., 0., 0., 0.]],\n  \n          [[0., 0., 0., 0., 0., 1., 0., 0., 0., 0., 0., 0., 0., 0., 0., 0., 0.,\n            0., 0., 0., 0., 0., 0., 0., 0., 0., 0., 0., 0., 0., 0., 0., 0., 0.,\n            0., 0., 0., 0., 0., 0., 0., 0., 0., 0., 0., 0., 0., 0., 0., 0., 0.,\n            0., 0., 0., 0., 0., 0., 0., 0., 0., 0., 0., 0., 0., 0., 0., 0., 0.,\n            0., 0., 0., 0., 0.]],\n  \n          [[0., 0., 0., 0., 0., 0., 0., 0., 0., 0., 0., 0., 0., 0., 0., 0., 0.,\n            0., 0., 0., 0., 0., 0., 0., 0., 0., 0., 0., 0., 0., 0., 0., 0., 0.,\n            0., 0., 0., 0., 0., 0., 0., 0., 0., 0., 0., 0., 0., 0., 0., 0., 0.,\n            0., 0., 0., 0., 1., 0., 0., 0., 0., 0., 0., 0., 0., 0., 0., 0., 0.,\n            0., 0., 0., 0., 0.]]]),\n  tensor([13])),\n ('children',\n  'NNS',\n  tensor([[[0., 0., 0., 1., 0., 0., 0., 0., 0., 0., 0., 0., 0., 0., 0., 0., 0.,\n            0., 0., 0., 0., 0., 0., 0., 0., 0., 0., 0., 0., 0., 0., 0., 0., 0.,\n            0., 0., 0., 0., 0., 0., 0., 0., 0., 0., 0., 0., 0., 0., 0., 0., 0.,\n            0., 0., 0., 0., 0., 0., 0., 0., 0., 0., 0., 0., 0., 0., 0., 0., 0.,\n            0., 0., 0., 0., 0.]],\n  \n          [[0., 0., 0., 0., 0., 0., 0., 0., 0., 0., 1., 0., 0., 0., 0., 0., 0.,\n            0., 0., 0., 0., 0., 0., 0., 0., 0., 0., 0., 0., 0., 0., 0., 0., 0.,\n            0., 0., 0., 0., 0., 0., 0., 0., 0., 0., 0., 0., 0., 0., 0., 0., 0.,\n            0., 0., 0., 0., 0., 0., 0., 0., 0., 0., 0., 0., 0., 0., 0., 0., 0.,\n            0., 0., 0., 0., 0.]],\n  \n          [[0., 0., 0., 0., 0., 0., 0., 0., 0., 0., 0., 0., 0., 0., 0., 1., 0.,\n            0., 0., 0., 0., 0., 0., 0., 0., 0., 0., 0., 0., 0., 0., 0., 0., 0.,\n            0., 0., 0., 0., 0., 0., 0., 0., 0., 0., 0., 0., 0., 0., 0., 0., 0.,\n            0., 0., 0., 0., 0., 0., 0., 0., 0., 0., 0., 0., 0., 0., 0., 0., 0.,\n            0., 0., 0., 0., 0.]],\n  \n          [[0., 0., 0., 0., 0., 0., 0., 0., 0., 0., 0., 0., 0., 0., 0., 0., 0.,\n            0., 0., 0., 0., 0., 0., 0., 0., 0., 0., 0., 0., 0., 0., 0., 0., 0.,\n            0., 0., 0., 0., 0., 0., 0., 0., 0., 0., 0., 0., 1., 0., 0., 0., 0.,\n            0., 0., 0., 0., 0., 0., 0., 0., 0., 0., 0., 0., 0., 0., 0., 0., 0.,\n            0., 0., 0., 0., 0.]],\n  \n          [[0., 0., 0., 0., 0., 0., 0., 0., 0., 0., 0., 0., 0., 0., 0., 0., 0.,\n            0., 0., 0., 0., 0., 0., 0., 0., 0., 0., 0., 0., 0., 0., 0., 0., 0.,\n            0., 0., 0., 0., 1., 0., 0., 0., 0., 0., 0., 0., 0., 0., 0., 0., 0.,\n            0., 0., 0., 0., 0., 0., 0., 0., 0., 0., 0., 0., 0., 0., 0., 0., 0.,\n            0., 0., 0., 0., 0.]],\n  \n          [[0., 0., 0., 0., 0., 0., 0., 0., 0., 0., 0., 0., 0., 0., 0., 0., 0.,\n            0., 0., 0., 0., 0., 0., 0., 0., 0., 0., 0., 0., 0., 0., 0., 0., 0.,\n            0., 0., 0., 0., 0., 0., 0., 0., 0., 0., 0., 0., 0., 0., 0., 0., 0.,\n            0., 0., 0., 0., 0., 0., 0., 0., 0., 0., 0., 0., 0., 0., 0., 0., 0.,\n            1., 0., 0., 0., 0.]],\n  \n          [[0., 0., 0., 0., 0., 0., 0., 0., 0., 0., 0., 0., 0., 0., 0., 0., 0.,\n            0., 0., 0., 0., 0., 0., 0., 0., 0., 0., 0., 0., 0., 0., 0., 0., 0.,\n            0., 0., 0., 0., 0., 0., 0., 0., 0., 0., 0., 0., 0., 0., 0., 0., 0.,\n            0., 0., 0., 0., 0., 0., 0., 0., 0., 0., 0., 1., 0., 0., 0., 0., 0.,\n            0., 0., 0., 0., 0.]],\n  \n          [[0., 0., 0., 0., 0., 0., 0., 0., 0., 0., 0., 0., 1., 0., 0., 0., 0.,\n            0., 0., 0., 0., 0., 0., 0., 0., 0., 0., 0., 0., 0., 0., 0., 0., 0.,\n            0., 0., 0., 0., 0., 0., 0., 0., 0., 0., 0., 0., 0., 0., 0., 0., 0.,\n            0., 0., 0., 0., 0., 0., 0., 0., 0., 0., 0., 0., 0., 0., 0., 0., 0.,\n            0., 0., 0., 0., 0.]]]),\n  tensor([6])),\n ('bells',\n  'NNS',\n  tensor([[[0., 0., 0., 0., 0., 0., 0., 0., 0., 0., 0., 0., 0., 0., 0., 0., 0.,\n            0., 0., 0., 0., 0., 0., 0., 0., 0., 0., 0., 1., 0., 0., 0., 0., 0.,\n            0., 0., 0., 0., 0., 0., 0., 0., 0., 0., 0., 0., 0., 0., 0., 0., 0.,\n            0., 0., 0., 0., 0., 0., 0., 0., 0., 0., 0., 0., 0., 0., 0., 0., 0.,\n            0., 0., 0., 0., 0.]],\n  \n          [[0., 0., 0., 0., 0., 0., 0., 0., 0., 0., 0., 0., 0., 0., 0., 0., 0.,\n            0., 0., 0., 0., 0., 0., 0., 0., 0., 0., 0., 0., 0., 0., 0., 0., 0.,\n            0., 0., 0., 0., 0., 0., 0., 0., 0., 0., 0., 0., 0., 0., 0., 0., 0.,\n            0., 0., 0., 0., 0., 0., 0., 0., 0., 0., 0., 1., 0., 0., 0., 0., 0.,\n            0., 0., 0., 0., 0.]],\n  \n          [[0., 0., 0., 0., 0., 0., 0., 0., 0., 0., 0., 0., 0., 0., 0., 0., 0.,\n            0., 0., 0., 0., 0., 0., 0., 0., 0., 0., 0., 0., 0., 0., 0., 0., 0.,\n            0., 0., 0., 0., 0., 0., 0., 0., 0., 0., 0., 0., 1., 0., 0., 0., 0.,\n            0., 0., 0., 0., 0., 0., 0., 0., 0., 0., 0., 0., 0., 0., 0., 0., 0.,\n            0., 0., 0., 0., 0.]],\n  \n          [[0., 0., 0., 0., 0., 0., 0., 0., 0., 0., 0., 0., 0., 0., 0., 0., 0.,\n            0., 0., 0., 0., 0., 0., 0., 0., 0., 0., 0., 0., 0., 0., 0., 0., 0.,\n            0., 0., 0., 0., 0., 0., 0., 0., 0., 0., 0., 0., 1., 0., 0., 0., 0.,\n            0., 0., 0., 0., 0., 0., 0., 0., 0., 0., 0., 0., 0., 0., 0., 0., 0.,\n            0., 0., 0., 0., 0.]],\n  \n          [[0., 0., 0., 0., 0., 0., 0., 0., 0., 0., 0., 0., 0., 0., 0., 0., 0.,\n            0., 0., 0., 0., 0., 0., 0., 0., 0., 0., 0., 0., 0., 0., 0., 0., 0.,\n            0., 0., 0., 0., 0., 0., 0., 0., 0., 0., 0., 0., 0., 0., 0., 0., 0.,\n            0., 0., 0., 0., 1., 0., 0., 0., 0., 0., 0., 0., 0., 0., 0., 0., 0.,\n            0., 0., 0., 0., 0.]]]),\n  tensor([6])),\n ('Time',\n  'NNP',\n  tensor([[[0., 0., 0., 0., 0., 0., 0., 0., 0., 0., 0., 0., 0., 0., 0., 0., 0.,\n            0., 0., 0., 0., 0., 0., 0., 0., 0., 0., 0., 0., 0., 0., 0., 0., 0.,\n            0., 0., 0., 0., 0., 0., 0., 0., 0., 0., 0., 0., 0., 1., 0., 0., 0.,\n            0., 0., 0., 0., 0., 0., 0., 0., 0., 0., 0., 0., 0., 0., 0., 0., 0.,\n            0., 0., 0., 0., 0.]],\n  \n          [[0., 0., 0., 0., 0., 0., 0., 0., 0., 0., 0., 0., 0., 0., 0., 1., 0.,\n            0., 0., 0., 0., 0., 0., 0., 0., 0., 0., 0., 0., 0., 0., 0., 0., 0.,\n            0., 0., 0., 0., 0., 0., 0., 0., 0., 0., 0., 0., 0., 0., 0., 0., 0.,\n            0., 0., 0., 0., 0., 0., 0., 0., 0., 0., 0., 0., 0., 0., 0., 0., 0.,\n            0., 0., 0., 0., 0.]],\n  \n          [[0., 0., 0., 0., 0., 0., 0., 0., 0., 0., 0., 0., 0., 0., 0., 0., 0.,\n            0., 0., 0., 0., 0., 0., 0., 0., 0., 0., 0., 0., 0., 0., 0., 0., 0.,\n            0., 0., 0., 0., 0., 0., 0., 0., 0., 0., 0., 0., 0., 0., 0., 0., 0.,\n            0., 0., 0., 0., 0., 1., 0., 0., 0., 0., 0., 0., 0., 0., 0., 0., 0.,\n            0., 0., 0., 0., 0.]],\n  \n          [[0., 0., 0., 0., 0., 0., 0., 0., 0., 0., 0., 0., 0., 0., 0., 0., 0.,\n            0., 0., 0., 0., 0., 0., 0., 0., 0., 0., 0., 0., 0., 0., 0., 0., 0.,\n            0., 0., 0., 0., 0., 0., 0., 0., 0., 0., 0., 0., 0., 0., 0., 0., 0.,\n            0., 0., 0., 0., 0., 0., 0., 0., 0., 0., 0., 1., 0., 0., 0., 0., 0.,\n            0., 0., 0., 0., 0.]]]),\n  tensor([4])),\n ('skill',\n  'NN',\n  tensor([[[0., 0., 0., 0., 0., 0., 0., 0., 0., 0., 0., 0., 0., 0., 0., 0., 0.,\n            0., 0., 0., 0., 0., 0., 0., 0., 0., 0., 0., 0., 0., 0., 0., 0., 0.,\n            0., 0., 0., 0., 0., 0., 0., 0., 0., 0., 0., 0., 0., 0., 0., 0., 0.,\n            0., 0., 0., 0., 1., 0., 0., 0., 0., 0., 0., 0., 0., 0., 0., 0., 0.,\n            0., 0., 0., 0., 0.]],\n  \n          [[0., 0., 0., 0., 0., 0., 0., 0., 0., 0., 0., 0., 0., 0., 0., 0., 0.,\n            0., 0., 0., 0., 0., 0., 0., 0., 0., 0., 0., 0., 0., 0., 0., 0., 0.,\n            0., 1., 0., 0., 0., 0., 0., 0., 0., 0., 0., 0., 0., 0., 0., 0., 0.,\n            0., 0., 0., 0., 0., 0., 0., 0., 0., 0., 0., 0., 0., 0., 0., 0., 0.,\n            0., 0., 0., 0., 0.]],\n  \n          [[0., 0., 0., 0., 0., 0., 0., 0., 0., 0., 0., 0., 0., 0., 0., 1., 0.,\n            0., 0., 0., 0., 0., 0., 0., 0., 0., 0., 0., 0., 0., 0., 0., 0., 0.,\n            0., 0., 0., 0., 0., 0., 0., 0., 0., 0., 0., 0., 0., 0., 0., 0., 0.,\n            0., 0., 0., 0., 0., 0., 0., 0., 0., 0., 0., 0., 0., 0., 0., 0., 0.,\n            0., 0., 0., 0., 0.]],\n  \n          [[0., 0., 0., 0., 0., 0., 0., 0., 0., 0., 0., 0., 0., 0., 0., 0., 0.,\n            0., 0., 0., 0., 0., 0., 0., 0., 0., 0., 0., 0., 0., 0., 0., 0., 0.,\n            0., 0., 0., 0., 0., 0., 0., 0., 0., 0., 0., 0., 1., 0., 0., 0., 0.,\n            0., 0., 0., 0., 0., 0., 0., 0., 0., 0., 0., 0., 0., 0., 0., 0., 0.,\n            0., 0., 0., 0., 0.]],\n  \n          [[0., 0., 0., 0., 0., 0., 0., 0., 0., 0., 0., 0., 0., 0., 0., 0., 0.,\n            0., 0., 0., 0., 0., 0., 0., 0., 0., 0., 0., 0., 0., 0., 0., 0., 0.,\n            0., 0., 0., 0., 0., 0., 0., 0., 0., 0., 0., 0., 1., 0., 0., 0., 0.,\n            0., 0., 0., 0., 0., 0., 0., 0., 0., 0., 0., 0., 0., 0., 0., 0., 0.,\n            0., 0., 0., 0., 0.]]]),\n  tensor([3])),\n ('Brenda',\n  'NNP',\n  tensor([[[0., 0., 0., 0., 0., 0., 0., 0., 0., 0., 0., 0., 0., 0., 0., 0., 0.,\n            0., 0., 0., 0., 0., 0., 0., 0., 0., 0., 0., 0., 0., 0., 0., 0., 0.,\n            0., 0., 0., 0., 0., 0., 0., 0., 0., 0., 0., 0., 0., 0., 0., 0., 0.,\n            0., 0., 0., 0., 0., 0., 0., 0., 0., 1., 0., 0., 0., 0., 0., 0., 0.,\n            0., 0., 0., 0., 0.]],\n  \n          [[0., 0., 0., 0., 0., 0., 0., 0., 0., 0., 0., 0., 0., 0., 0., 0., 0.,\n            0., 0., 0., 0., 0., 0., 0., 0., 0., 0., 0., 0., 0., 0., 0., 0., 0.,\n            0., 0., 0., 0., 0., 0., 0., 0., 0., 0., 0., 0., 0., 0., 0., 0., 0.,\n            0., 0., 0., 0., 0., 0., 0., 0., 0., 0., 0., 0., 0., 0., 0., 0., 0.,\n            1., 0., 0., 0., 0.]],\n  \n          [[0., 0., 0., 0., 0., 0., 0., 0., 0., 0., 0., 0., 0., 0., 0., 0., 0.,\n            0., 0., 0., 0., 0., 0., 0., 0., 0., 0., 0., 0., 0., 0., 0., 0., 0.,\n            0., 0., 0., 0., 0., 0., 0., 0., 0., 0., 0., 0., 0., 0., 0., 0., 0.,\n            0., 0., 0., 0., 0., 0., 0., 0., 0., 0., 0., 1., 0., 0., 0., 0., 0.,\n            0., 0., 0., 0., 0.]],\n  \n          [[0., 0., 0., 0., 0., 0., 0., 0., 0., 0., 0., 0., 1., 0., 0., 0., 0.,\n            0., 0., 0., 0., 0., 0., 0., 0., 0., 0., 0., 0., 0., 0., 0., 0., 0.,\n            0., 0., 0., 0., 0., 0., 0., 0., 0., 0., 0., 0., 0., 0., 0., 0., 0.,\n            0., 0., 0., 0., 0., 0., 0., 0., 0., 0., 0., 0., 0., 0., 0., 0., 0.,\n            0., 0., 0., 0., 0.]],\n  \n          [[0., 0., 0., 0., 0., 0., 0., 0., 0., 0., 0., 0., 0., 0., 0., 0., 0.,\n            0., 0., 0., 0., 0., 0., 0., 0., 0., 0., 0., 0., 0., 0., 0., 0., 0.,\n            0., 0., 0., 0., 1., 0., 0., 0., 0., 0., 0., 0., 0., 0., 0., 0., 0.,\n            0., 0., 0., 0., 0., 0., 0., 0., 0., 0., 0., 0., 0., 0., 0., 0., 0.,\n            0., 0., 0., 0., 0.]],\n  \n          [[0., 0., 0., 0., 0., 0., 0., 0., 0., 0., 0., 0., 0., 0., 0., 0., 0.,\n            0., 0., 0., 0., 1., 0., 0., 0., 0., 0., 0., 0., 0., 0., 0., 0., 0.,\n            0., 0., 0., 0., 0., 0., 0., 0., 0., 0., 0., 0., 0., 0., 0., 0., 0.,\n            0., 0., 0., 0., 0., 0., 0., 0., 0., 0., 0., 0., 0., 0., 0., 0., 0.,\n            0., 0., 0., 0., 0.]]]),\n  tensor([4])),\n ('bonus',\n  'NN',\n  tensor([[[0., 0., 0., 0., 0., 0., 0., 0., 0., 0., 0., 0., 0., 0., 0., 0., 0.,\n            0., 0., 0., 0., 0., 0., 0., 0., 0., 0., 0., 1., 0., 0., 0., 0., 0.,\n            0., 0., 0., 0., 0., 0., 0., 0., 0., 0., 0., 0., 0., 0., 0., 0., 0.,\n            0., 0., 0., 0., 0., 0., 0., 0., 0., 0., 0., 0., 0., 0., 0., 0., 0.,\n            0., 0., 0., 0., 0.]],\n  \n          [[0., 0., 0., 0., 0., 0., 0., 0., 0., 0., 0., 0., 0., 0., 0., 0., 0.,\n            0., 0., 0., 0., 0., 0., 0., 0., 0., 0., 1., 0., 0., 0., 0., 0., 0.,\n            0., 0., 0., 0., 0., 0., 0., 0., 0., 0., 0., 0., 0., 0., 0., 0., 0.,\n            0., 0., 0., 0., 0., 0., 0., 0., 0., 0., 0., 0., 0., 0., 0., 0., 0.,\n            0., 0., 0., 0., 0.]],\n  \n          [[0., 0., 0., 0., 0., 0., 0., 0., 0., 0., 0., 0., 1., 0., 0., 0., 0.,\n            0., 0., 0., 0., 0., 0., 0., 0., 0., 0., 0., 0., 0., 0., 0., 0., 0.,\n            0., 0., 0., 0., 0., 0., 0., 0., 0., 0., 0., 0., 0., 0., 0., 0., 0.,\n            0., 0., 0., 0., 0., 0., 0., 0., 0., 0., 0., 0., 0., 0., 0., 0., 0.,\n            0., 0., 0., 0., 0.]],\n  \n          [[0., 0., 0., 0., 0., 0., 0., 0., 0., 0., 0., 0., 0., 0., 0., 0., 0.,\n            0., 0., 0., 0., 0., 0., 0., 0., 0., 0., 0., 0., 0., 0., 0., 0., 0.,\n            0., 0., 0., 0., 0., 0., 1., 0., 0., 0., 0., 0., 0., 0., 0., 0., 0.,\n            0., 0., 0., 0., 0., 0., 0., 0., 0., 0., 0., 0., 0., 0., 0., 0., 0.,\n            0., 0., 0., 0., 0.]],\n  \n          [[0., 0., 0., 0., 0., 0., 0., 0., 0., 0., 0., 0., 0., 0., 0., 0., 0.,\n            0., 0., 0., 0., 0., 0., 0., 0., 0., 0., 0., 0., 0., 0., 0., 0., 0.,\n            0., 0., 0., 0., 0., 0., 0., 0., 0., 0., 0., 0., 0., 0., 0., 0., 0.,\n            0., 0., 0., 0., 1., 0., 0., 0., 0., 0., 0., 0., 0., 0., 0., 0., 0.,\n            0., 0., 0., 0., 0.]]]),\n  tensor([3])),\n ('50,000',\n  'CD',\n  tensor([[[0., 0., 0., 0., 0., 0., 0., 0., 0., 0., 0., 0., 0., 0., 0., 0., 0.,\n            0., 0., 0., 0., 0., 0., 0., 0., 0., 0., 0., 0., 0., 0., 0., 0., 0.,\n            0., 0., 0., 0., 0., 0., 0., 0., 0., 0., 0., 0., 0., 0., 0., 0., 0.,\n            0., 0., 0., 0., 0., 0., 0., 0., 0., 0., 0., 0., 0., 0., 0., 0., 0.,\n            0., 1., 0., 0., 0.]],\n  \n          [[0., 0., 0., 0., 0., 0., 0., 0., 0., 0., 0., 0., 0., 0., 0., 0., 0.,\n            0., 0., 0., 0., 0., 0., 1., 0., 0., 0., 0., 0., 0., 0., 0., 0., 0.,\n            0., 0., 0., 0., 0., 0., 0., 0., 0., 0., 0., 0., 0., 0., 0., 0., 0.,\n            0., 0., 0., 0., 0., 0., 0., 0., 0., 0., 0., 0., 0., 0., 0., 0., 0.,\n            0., 0., 0., 0., 0.]],\n  \n          [[0., 0., 1., 0., 0., 0., 0., 0., 0., 0., 0., 0., 0., 0., 0., 0., 0.,\n            0., 0., 0., 0., 0., 0., 0., 0., 0., 0., 0., 0., 0., 0., 0., 0., 0.,\n            0., 0., 0., 0., 0., 0., 0., 0., 0., 0., 0., 0., 0., 0., 0., 0., 0.,\n            0., 0., 0., 0., 0., 0., 0., 0., 0., 0., 0., 0., 0., 0., 0., 0., 0.,\n            0., 0., 0., 0., 0.]],\n  \n          [[0., 0., 0., 0., 0., 0., 0., 0., 0., 0., 0., 0., 0., 0., 0., 0., 0.,\n            0., 0., 0., 0., 0., 0., 1., 0., 0., 0., 0., 0., 0., 0., 0., 0., 0.,\n            0., 0., 0., 0., 0., 0., 0., 0., 0., 0., 0., 0., 0., 0., 0., 0., 0.,\n            0., 0., 0., 0., 0., 0., 0., 0., 0., 0., 0., 0., 0., 0., 0., 0., 0.,\n            0., 0., 0., 0., 0.]],\n  \n          [[0., 0., 0., 0., 0., 0., 0., 0., 0., 0., 0., 0., 0., 0., 0., 0., 0.,\n            0., 0., 0., 0., 0., 0., 1., 0., 0., 0., 0., 0., 0., 0., 0., 0., 0.,\n            0., 0., 0., 0., 0., 0., 0., 0., 0., 0., 0., 0., 0., 0., 0., 0., 0.,\n            0., 0., 0., 0., 0., 0., 0., 0., 0., 0., 0., 0., 0., 0., 0., 0., 0.,\n            0., 0., 0., 0., 0.]],\n  \n          [[0., 0., 0., 0., 0., 0., 0., 0., 0., 0., 0., 0., 0., 0., 0., 0., 0.,\n            0., 0., 0., 0., 0., 0., 1., 0., 0., 0., 0., 0., 0., 0., 0., 0., 0.,\n            0., 0., 0., 0., 0., 0., 0., 0., 0., 0., 0., 0., 0., 0., 0., 0., 0.,\n            0., 0., 0., 0., 0., 0., 0., 0., 0., 0., 0., 0., 0., 0., 0., 0., 0.,\n            0., 0., 0., 0., 0.]]]),\n  tensor([0])),\n ('pace',\n  'NN',\n  tensor([[[0., 0., 0., 0., 0., 0., 0., 0., 0., 0., 0., 0., 0., 0., 0., 0., 0.,\n            0., 0., 0., 0., 0., 0., 0., 0., 0., 1., 0., 0., 0., 0., 0., 0., 0.,\n            0., 0., 0., 0., 0., 0., 0., 0., 0., 0., 0., 0., 0., 0., 0., 0., 0.,\n            0., 0., 0., 0., 0., 0., 0., 0., 0., 0., 0., 0., 0., 0., 0., 0., 0.,\n            0., 0., 0., 0., 0.]],\n  \n          [[0., 0., 0., 0., 0., 0., 0., 0., 0., 0., 0., 0., 0., 0., 0., 0., 0.,\n            0., 0., 0., 0., 1., 0., 0., 0., 0., 0., 0., 0., 0., 0., 0., 0., 0.,\n            0., 0., 0., 0., 0., 0., 0., 0., 0., 0., 0., 0., 0., 0., 0., 0., 0.,\n            0., 0., 0., 0., 0., 0., 0., 0., 0., 0., 0., 0., 0., 0., 0., 0., 0.,\n            0., 0., 0., 0., 0.]],\n  \n          [[0., 0., 0., 1., 0., 0., 0., 0., 0., 0., 0., 0., 0., 0., 0., 0., 0.,\n            0., 0., 0., 0., 0., 0., 0., 0., 0., 0., 0., 0., 0., 0., 0., 0., 0.,\n            0., 0., 0., 0., 0., 0., 0., 0., 0., 0., 0., 0., 0., 0., 0., 0., 0.,\n            0., 0., 0., 0., 0., 0., 0., 0., 0., 0., 0., 0., 0., 0., 0., 0., 0.,\n            0., 0., 0., 0., 0.]],\n  \n          [[0., 0., 0., 0., 0., 0., 0., 0., 0., 0., 0., 0., 0., 0., 0., 0., 0.,\n            0., 0., 0., 0., 0., 0., 0., 0., 0., 0., 0., 0., 0., 0., 0., 0., 0.,\n            0., 0., 0., 0., 0., 0., 0., 0., 0., 0., 0., 0., 0., 0., 0., 0., 0.,\n            0., 0., 0., 0., 0., 0., 0., 0., 0., 0., 0., 1., 0., 0., 0., 0., 0.,\n            0., 0., 0., 0., 0.]]]),\n  tensor([3])),\n ('prerogatives',\n  'NNS',\n  tensor([[[0., 0., 0., 0., 0., 0., 0., 0., 0., 0., 0., 0., 0., 0., 0., 0., 0.,\n            0., 0., 0., 0., 0., 0., 0., 0., 0., 1., 0., 0., 0., 0., 0., 0., 0.,\n            0., 0., 0., 0., 0., 0., 0., 0., 0., 0., 0., 0., 0., 0., 0., 0., 0.,\n            0., 0., 0., 0., 0., 0., 0., 0., 0., 0., 0., 0., 0., 0., 0., 0., 0.,\n            0., 0., 0., 0., 0.]],\n  \n          [[0., 0., 0., 0., 0., 0., 0., 0., 0., 0., 0., 0., 0., 0., 0., 0., 0.,\n            0., 0., 0., 0., 0., 0., 0., 0., 0., 0., 0., 0., 0., 0., 0., 0., 0.,\n            0., 0., 0., 0., 0., 0., 0., 0., 0., 0., 0., 0., 0., 0., 0., 0., 0.,\n            0., 0., 0., 0., 0., 0., 0., 0., 0., 0., 0., 0., 0., 0., 0., 0., 0.,\n            1., 0., 0., 0., 0.]],\n  \n          [[0., 0., 0., 0., 0., 0., 0., 0., 0., 0., 0., 0., 0., 0., 0., 0., 0.,\n            0., 0., 0., 0., 0., 0., 0., 0., 0., 0., 0., 0., 0., 0., 0., 0., 0.,\n            0., 0., 0., 0., 0., 0., 0., 0., 0., 0., 0., 0., 0., 0., 0., 0., 0.,\n            0., 0., 0., 0., 0., 0., 0., 0., 0., 0., 0., 1., 0., 0., 0., 0., 0.,\n            0., 0., 0., 0., 0.]],\n  \n          [[0., 0., 0., 0., 0., 0., 0., 0., 0., 0., 0., 0., 0., 0., 0., 0., 0.,\n            0., 0., 0., 0., 0., 0., 0., 0., 0., 0., 0., 0., 0., 0., 0., 0., 0.,\n            0., 0., 0., 0., 0., 0., 0., 0., 0., 0., 0., 0., 0., 0., 0., 0., 0.,\n            0., 0., 0., 0., 0., 0., 0., 0., 0., 0., 0., 0., 0., 0., 0., 0., 0.,\n            1., 0., 0., 0., 0.]],\n  \n          [[0., 0., 0., 0., 0., 0., 0., 0., 0., 0., 0., 0., 0., 0., 0., 0., 0.,\n            0., 0., 0., 0., 0., 0., 0., 0., 0., 0., 1., 0., 0., 0., 0., 0., 0.,\n            0., 0., 0., 0., 0., 0., 0., 0., 0., 0., 0., 0., 0., 0., 0., 0., 0.,\n            0., 0., 0., 0., 0., 0., 0., 0., 0., 0., 0., 0., 0., 0., 0., 0., 0.,\n            0., 0., 0., 0., 0.]],\n  \n          [[0., 0., 0., 0., 0., 0., 0., 0., 0., 0., 0., 0., 0., 0., 0., 0., 0.,\n            0., 0., 0., 0., 0., 0., 0., 0., 0., 0., 0., 0., 0., 0., 0., 0., 0.,\n            0., 0., 0., 0., 0., 0., 0., 0., 0., 0., 0., 0., 0., 0., 0., 0., 0.,\n            0., 0., 0., 0., 0., 0., 0., 0., 0., 0., 0., 0., 0., 0., 0., 1., 0.,\n            0., 0., 0., 0., 0.]],\n  \n          [[0., 0., 0., 0., 0., 0., 0., 0., 0., 0., 0., 0., 0., 0., 0., 0., 0.,\n            0., 0., 0., 0., 1., 0., 0., 0., 0., 0., 0., 0., 0., 0., 0., 0., 0.,\n            0., 0., 0., 0., 0., 0., 0., 0., 0., 0., 0., 0., 0., 0., 0., 0., 0.,\n            0., 0., 0., 0., 0., 0., 0., 0., 0., 0., 0., 0., 0., 0., 0., 0., 0.,\n            0., 0., 0., 0., 0.]],\n  \n          [[0., 0., 0., 0., 0., 1., 0., 0., 0., 0., 0., 0., 0., 0., 0., 0., 0.,\n            0., 0., 0., 0., 0., 0., 0., 0., 0., 0., 0., 0., 0., 0., 0., 0., 0.,\n            0., 0., 0., 0., 0., 0., 0., 0., 0., 0., 0., 0., 0., 0., 0., 0., 0.,\n            0., 0., 0., 0., 0., 0., 0., 0., 0., 0., 0., 0., 0., 0., 0., 0., 0.,\n            0., 0., 0., 0., 0.]],\n  \n          [[0., 0., 0., 0., 0., 0., 0., 0., 0., 0., 0., 0., 0., 0., 0., 1., 0.,\n            0., 0., 0., 0., 0., 0., 0., 0., 0., 0., 0., 0., 0., 0., 0., 0., 0.,\n            0., 0., 0., 0., 0., 0., 0., 0., 0., 0., 0., 0., 0., 0., 0., 0., 0.,\n            0., 0., 0., 0., 0., 0., 0., 0., 0., 0., 0., 0., 0., 0., 0., 0., 0.,\n            0., 0., 0., 0., 0.]],\n  \n          [[0., 0., 0., 0., 0., 0., 0., 0., 0., 0., 0., 0., 0., 0., 0., 0., 0.,\n            0., 0., 0., 0., 0., 0., 0., 0., 0., 0., 0., 0., 0., 0., 1., 0., 0.,\n            0., 0., 0., 0., 0., 0., 0., 0., 0., 0., 0., 0., 0., 0., 0., 0., 0.,\n            0., 0., 0., 0., 0., 0., 0., 0., 0., 0., 0., 0., 0., 0., 0., 0., 0.,\n            0., 0., 0., 0., 0.]],\n  \n          [[0., 0., 0., 0., 0., 0., 0., 0., 0., 0., 0., 0., 0., 0., 0., 0., 0.,\n            0., 0., 0., 0., 0., 0., 0., 0., 0., 0., 0., 0., 0., 0., 0., 0., 0.,\n            0., 0., 0., 0., 0., 0., 0., 0., 0., 0., 0., 0., 0., 0., 0., 0., 0.,\n            0., 0., 0., 0., 0., 0., 0., 0., 0., 0., 0., 1., 0., 0., 0., 0., 0.,\n            0., 0., 0., 0., 0.]],\n  \n          [[0., 0., 0., 0., 0., 0., 0., 0., 0., 0., 0., 0., 0., 0., 0., 0., 0.,\n            0., 0., 0., 0., 0., 0., 0., 0., 0., 0., 0., 0., 0., 0., 0., 0., 0.,\n            0., 0., 0., 0., 0., 0., 0., 0., 0., 0., 0., 0., 0., 0., 0., 0., 0.,\n            0., 0., 0., 0., 1., 0., 0., 0., 0., 0., 0., 0., 0., 0., 0., 0., 0.,\n            0., 0., 0., 0., 0.]]]),\n  tensor([6])),\n ('April',\n  'NNP',\n  tensor([[[0., 0., 0., 0., 0., 0., 0., 0., 0., 0., 0., 0., 0., 0., 0., 0., 0.,\n            0., 0., 0., 0., 0., 0., 0., 0., 0., 0., 0., 0., 0., 0., 0., 0., 0.,\n            0., 0., 0., 0., 0., 0., 0., 0., 0., 0., 0., 0., 0., 0., 0., 0., 0.,\n            0., 0., 0., 0., 0., 0., 0., 0., 0., 0., 0., 0., 0., 0., 1., 0., 0.,\n            0., 0., 0., 0., 0.]],\n  \n          [[0., 0., 0., 0., 0., 0., 0., 0., 0., 0., 0., 0., 0., 0., 0., 0., 0.,\n            0., 0., 0., 0., 0., 0., 0., 0., 0., 1., 0., 0., 0., 0., 0., 0., 0.,\n            0., 0., 0., 0., 0., 0., 0., 0., 0., 0., 0., 0., 0., 0., 0., 0., 0.,\n            0., 0., 0., 0., 0., 0., 0., 0., 0., 0., 0., 0., 0., 0., 0., 0., 0.,\n            0., 0., 0., 0., 0.]],\n  \n          [[0., 0., 0., 0., 0., 0., 0., 0., 0., 0., 0., 0., 0., 0., 0., 0., 0.,\n            0., 0., 0., 0., 0., 0., 0., 0., 0., 0., 0., 0., 0., 0., 0., 0., 0.,\n            0., 0., 0., 0., 0., 0., 0., 0., 0., 0., 0., 0., 0., 0., 0., 0., 0.,\n            0., 0., 0., 0., 0., 0., 0., 0., 0., 0., 0., 0., 0., 0., 0., 0., 0.,\n            1., 0., 0., 0., 0.]],\n  \n          [[0., 0., 0., 0., 0., 0., 0., 0., 0., 0., 0., 0., 0., 0., 0., 1., 0.,\n            0., 0., 0., 0., 0., 0., 0., 0., 0., 0., 0., 0., 0., 0., 0., 0., 0.,\n            0., 0., 0., 0., 0., 0., 0., 0., 0., 0., 0., 0., 0., 0., 0., 0., 0.,\n            0., 0., 0., 0., 0., 0., 0., 0., 0., 0., 0., 0., 0., 0., 0., 0., 0.,\n            0., 0., 0., 0., 0.]],\n  \n          [[0., 0., 0., 0., 0., 0., 0., 0., 0., 0., 0., 0., 0., 0., 0., 0., 0.,\n            0., 0., 0., 0., 0., 0., 0., 0., 0., 0., 0., 0., 0., 0., 0., 0., 0.,\n            0., 0., 0., 0., 0., 0., 0., 0., 0., 0., 0., 0., 1., 0., 0., 0., 0.,\n            0., 0., 0., 0., 0., 0., 0., 0., 0., 0., 0., 0., 0., 0., 0., 0., 0.,\n            0., 0., 0., 0., 0.]]]),\n  tensor([4])),\n ('Vineyard',\n  'NNP',\n  tensor([[[0., 0., 0., 0., 0., 0., 0., 0., 0., 0., 0., 0., 0., 0., 0., 0., 0.,\n            0., 0., 0., 0., 0., 0., 0., 0., 0., 0., 0., 0., 0., 0., 0., 0., 0.,\n            0., 0., 0., 0., 0., 0., 0., 0., 0., 0., 1., 0., 0., 0., 0., 0., 0.,\n            0., 0., 0., 0., 0., 0., 0., 0., 0., 0., 0., 0., 0., 0., 0., 0., 0.,\n            0., 0., 0., 0., 0.]],\n  \n          [[0., 0., 0., 0., 0., 0., 0., 0., 0., 0., 0., 0., 0., 0., 0., 1., 0.,\n            0., 0., 0., 0., 0., 0., 0., 0., 0., 0., 0., 0., 0., 0., 0., 0., 0.,\n            0., 0., 0., 0., 0., 0., 0., 0., 0., 0., 0., 0., 0., 0., 0., 0., 0.,\n            0., 0., 0., 0., 0., 0., 0., 0., 0., 0., 0., 0., 0., 0., 0., 0., 0.,\n            0., 0., 0., 0., 0.]],\n  \n          [[0., 0., 0., 0., 0., 0., 0., 0., 0., 0., 0., 0., 1., 0., 0., 0., 0.,\n            0., 0., 0., 0., 0., 0., 0., 0., 0., 0., 0., 0., 0., 0., 0., 0., 0.,\n            0., 0., 0., 0., 0., 0., 0., 0., 0., 0., 0., 0., 0., 0., 0., 0., 0.,\n            0., 0., 0., 0., 0., 0., 0., 0., 0., 0., 0., 0., 0., 0., 0., 0., 0.,\n            0., 0., 0., 0., 0.]],\n  \n          [[0., 0., 0., 0., 0., 0., 0., 0., 0., 0., 0., 0., 0., 0., 0., 0., 0.,\n            0., 0., 0., 0., 0., 0., 0., 0., 0., 0., 0., 0., 0., 0., 0., 0., 0.,\n            0., 0., 0., 0., 0., 0., 0., 0., 0., 0., 0., 0., 0., 0., 0., 0., 0.,\n            0., 0., 0., 0., 0., 0., 0., 0., 0., 0., 0., 1., 0., 0., 0., 0., 0.,\n            0., 0., 0., 0., 0.]],\n  \n          [[0., 0., 0., 0., 0., 0., 0., 0., 0., 0., 0., 0., 0., 0., 0., 0., 0.,\n            0., 0., 0., 0., 0., 0., 0., 0., 0., 0., 0., 0., 0., 0., 0., 0., 0.,\n            0., 0., 0., 0., 0., 0., 0., 0., 1., 0., 0., 0., 0., 0., 0., 0., 0.,\n            0., 0., 0., 0., 0., 0., 0., 0., 0., 0., 0., 0., 0., 0., 0., 0., 0.,\n            0., 0., 0., 0., 0.]],\n  \n          [[0., 0., 0., 0., 0., 0., 0., 0., 0., 0., 0., 0., 0., 0., 0., 0., 0.,\n            0., 0., 0., 0., 1., 0., 0., 0., 0., 0., 0., 0., 0., 0., 0., 0., 0.,\n            0., 0., 0., 0., 0., 0., 0., 0., 0., 0., 0., 0., 0., 0., 0., 0., 0.,\n            0., 0., 0., 0., 0., 0., 0., 0., 0., 0., 0., 0., 0., 0., 0., 0., 0.,\n            0., 0., 0., 0., 0.]],\n  \n          [[0., 0., 0., 0., 0., 0., 0., 0., 0., 0., 0., 0., 0., 0., 0., 0., 0.,\n            0., 0., 0., 0., 0., 0., 0., 0., 0., 0., 0., 0., 0., 0., 0., 0., 0.,\n            0., 0., 0., 0., 0., 0., 0., 0., 0., 0., 0., 0., 0., 0., 0., 0., 0.,\n            0., 0., 0., 0., 0., 0., 0., 0., 0., 0., 0., 0., 0., 0., 0., 0., 0.,\n            1., 0., 0., 0., 0.]],\n  \n          [[0., 0., 0., 0., 0., 0., 0., 0., 0., 0., 0., 0., 0., 0., 0., 0., 0.,\n            0., 0., 0., 0., 0., 0., 0., 0., 0., 0., 0., 0., 0., 0., 0., 0., 0.,\n            0., 0., 0., 0., 1., 0., 0., 0., 0., 0., 0., 0., 0., 0., 0., 0., 0.,\n            0., 0., 0., 0., 0., 0., 0., 0., 0., 0., 0., 0., 0., 0., 0., 0., 0.,\n            0., 0., 0., 0., 0.]]]),\n  tensor([4])),\n ('plaintive',\n  'JJ',\n  tensor([[[0., 0., 0., 0., 0., 0., 0., 0., 0., 0., 0., 0., 0., 0., 0., 0., 0.,\n            0., 0., 0., 0., 0., 0., 0., 0., 0., 1., 0., 0., 0., 0., 0., 0., 0.,\n            0., 0., 0., 0., 0., 0., 0., 0., 0., 0., 0., 0., 0., 0., 0., 0., 0.,\n            0., 0., 0., 0., 0., 0., 0., 0., 0., 0., 0., 0., 0., 0., 0., 0., 0.,\n            0., 0., 0., 0., 0.]],\n  \n          [[0., 0., 0., 0., 0., 0., 0., 0., 0., 0., 0., 0., 0., 0., 0., 0., 0.,\n            0., 0., 0., 0., 0., 0., 0., 0., 0., 0., 0., 0., 0., 0., 0., 0., 0.,\n            0., 0., 0., 0., 0., 0., 0., 0., 0., 0., 0., 0., 1., 0., 0., 0., 0.,\n            0., 0., 0., 0., 0., 0., 0., 0., 0., 0., 0., 0., 0., 0., 0., 0., 0.,\n            0., 0., 0., 0., 0.]],\n  \n          [[0., 0., 0., 0., 0., 0., 0., 0., 0., 0., 0., 0., 0., 0., 0., 0., 0.,\n            0., 0., 0., 0., 1., 0., 0., 0., 0., 0., 0., 0., 0., 0., 0., 0., 0.,\n            0., 0., 0., 0., 0., 0., 0., 0., 0., 0., 0., 0., 0., 0., 0., 0., 0.,\n            0., 0., 0., 0., 0., 0., 0., 0., 0., 0., 0., 0., 0., 0., 0., 0., 0.,\n            0., 0., 0., 0., 0.]],\n  \n          [[0., 0., 0., 0., 0., 0., 0., 0., 0., 0., 0., 0., 0., 0., 0., 1., 0.,\n            0., 0., 0., 0., 0., 0., 0., 0., 0., 0., 0., 0., 0., 0., 0., 0., 0.,\n            0., 0., 0., 0., 0., 0., 0., 0., 0., 0., 0., 0., 0., 0., 0., 0., 0.,\n            0., 0., 0., 0., 0., 0., 0., 0., 0., 0., 0., 0., 0., 0., 0., 0., 0.,\n            0., 0., 0., 0., 0.]],\n  \n          [[0., 0., 0., 0., 0., 0., 0., 0., 0., 0., 0., 0., 1., 0., 0., 0., 0.,\n            0., 0., 0., 0., 0., 0., 0., 0., 0., 0., 0., 0., 0., 0., 0., 0., 0.,\n            0., 0., 0., 0., 0., 0., 0., 0., 0., 0., 0., 0., 0., 0., 0., 0., 0.,\n            0., 0., 0., 0., 0., 0., 0., 0., 0., 0., 0., 0., 0., 0., 0., 0., 0.,\n            0., 0., 0., 0., 0.]],\n  \n          [[0., 0., 0., 0., 0., 1., 0., 0., 0., 0., 0., 0., 0., 0., 0., 0., 0.,\n            0., 0., 0., 0., 0., 0., 0., 0., 0., 0., 0., 0., 0., 0., 0., 0., 0.,\n            0., 0., 0., 0., 0., 0., 0., 0., 0., 0., 0., 0., 0., 0., 0., 0., 0.,\n            0., 0., 0., 0., 0., 0., 0., 0., 0., 0., 0., 0., 0., 0., 0., 0., 0.,\n            0., 0., 0., 0., 0.]],\n  \n          [[0., 0., 0., 0., 0., 0., 0., 0., 0., 0., 0., 0., 0., 0., 0., 1., 0.,\n            0., 0., 0., 0., 0., 0., 0., 0., 0., 0., 0., 0., 0., 0., 0., 0., 0.,\n            0., 0., 0., 0., 0., 0., 0., 0., 0., 0., 0., 0., 0., 0., 0., 0., 0.,\n            0., 0., 0., 0., 0., 0., 0., 0., 0., 0., 0., 0., 0., 0., 0., 0., 0.,\n            0., 0., 0., 0., 0.]],\n  \n          [[0., 0., 0., 0., 0., 0., 0., 0., 0., 0., 0., 0., 0., 0., 0., 0., 0.,\n            0., 0., 0., 0., 0., 0., 0., 0., 0., 0., 0., 0., 0., 0., 1., 0., 0.,\n            0., 0., 0., 0., 0., 0., 0., 0., 0., 0., 0., 0., 0., 0., 0., 0., 0.,\n            0., 0., 0., 0., 0., 0., 0., 0., 0., 0., 0., 0., 0., 0., 0., 0., 0.,\n            0., 0., 0., 0., 0.]],\n  \n          [[0., 0., 0., 0., 0., 0., 0., 0., 0., 0., 0., 0., 0., 0., 0., 0., 0.,\n            0., 0., 0., 0., 0., 0., 0., 0., 0., 0., 0., 0., 0., 0., 0., 0., 0.,\n            0., 0., 0., 0., 0., 0., 0., 0., 0., 0., 0., 0., 0., 0., 0., 0., 0.,\n            0., 0., 0., 0., 0., 0., 0., 0., 0., 0., 0., 1., 0., 0., 0., 0., 0.,\n            0., 0., 0., 0., 0.]]]),\n  tensor([2])),\n ('2003\\\\/2007',\n  'CD',\n  tensor([[[0., 0., 0., 0., 1., 0., 0., 0., 0., 0., 0., 0., 0., 0., 0., 0., 0.,\n            0., 0., 0., 0., 0., 0., 0., 0., 0., 0., 0., 0., 0., 0., 0., 0., 0.,\n            0., 0., 0., 0., 0., 0., 0., 0., 0., 0., 0., 0., 0., 0., 0., 0., 0.,\n            0., 0., 0., 0., 0., 0., 0., 0., 0., 0., 0., 0., 0., 0., 0., 0., 0.,\n            0., 0., 0., 0., 0.]],\n  \n          [[0., 0., 0., 0., 0., 0., 0., 0., 0., 0., 0., 0., 0., 0., 0., 0., 0.,\n            0., 0., 0., 0., 0., 0., 1., 0., 0., 0., 0., 0., 0., 0., 0., 0., 0.,\n            0., 0., 0., 0., 0., 0., 0., 0., 0., 0., 0., 0., 0., 0., 0., 0., 0.,\n            0., 0., 0., 0., 0., 0., 0., 0., 0., 0., 0., 0., 0., 0., 0., 0., 0.,\n            0., 0., 0., 0., 0.]],\n  \n          [[0., 0., 0., 0., 0., 0., 0., 0., 0., 0., 0., 0., 0., 0., 0., 0., 0.,\n            0., 0., 0., 0., 0., 0., 1., 0., 0., 0., 0., 0., 0., 0., 0., 0., 0.,\n            0., 0., 0., 0., 0., 0., 0., 0., 0., 0., 0., 0., 0., 0., 0., 0., 0.,\n            0., 0., 0., 0., 0., 0., 0., 0., 0., 0., 0., 0., 0., 0., 0., 0., 0.,\n            0., 0., 0., 0., 0.]],\n  \n          [[0., 0., 0., 0., 0., 0., 0., 0., 0., 0., 0., 0., 0., 0., 0., 0., 0.,\n            0., 0., 0., 0., 0., 0., 0., 0., 0., 0., 0., 0., 0., 0., 0., 0., 0.,\n            0., 0., 0., 0., 0., 0., 0., 0., 0., 0., 0., 0., 0., 0., 0., 0., 0.,\n            0., 0., 0., 0., 0., 0., 0., 0., 0., 0., 0., 0., 0., 0., 0., 0., 1.,\n            0., 0., 0., 0., 0.]],\n  \n          [[0., 0., 0., 0., 0., 0., 0., 0., 0., 0., 0., 0., 0., 0., 0., 0., 0.,\n            0., 0., 0., 0., 0., 0., 0., 0., 0., 0., 0., 0., 0., 0., 0., 0., 0.,\n            0., 0., 0., 0., 0., 0., 0., 1., 0., 0., 0., 0., 0., 0., 0., 0., 0.,\n            0., 0., 0., 0., 0., 0., 0., 0., 0., 0., 0., 0., 0., 0., 0., 0., 0.,\n            0., 0., 0., 0., 0.]],\n  \n          [[0., 0., 0., 0., 0., 0., 0., 0., 0., 0., 0., 0., 0., 0., 0., 0., 0.,\n            0., 0., 0., 0., 0., 0., 0., 0., 0., 0., 0., 0., 0., 0., 0., 0., 0.,\n            0., 0., 0., 0., 0., 0., 0., 0., 0., 0., 0., 0., 0., 0., 0., 0., 0.,\n            0., 0., 0., 0., 0., 0., 0., 0., 0., 0., 0., 0., 0., 0., 0., 0., 0.,\n            0., 0., 0., 1., 0.]],\n  \n          [[0., 0., 0., 0., 1., 0., 0., 0., 0., 0., 0., 0., 0., 0., 0., 0., 0.,\n            0., 0., 0., 0., 0., 0., 0., 0., 0., 0., 0., 0., 0., 0., 0., 0., 0.,\n            0., 0., 0., 0., 0., 0., 0., 0., 0., 0., 0., 0., 0., 0., 0., 0., 0.,\n            0., 0., 0., 0., 0., 0., 0., 0., 0., 0., 0., 0., 0., 0., 0., 0., 0.,\n            0., 0., 0., 0., 0.]],\n  \n          [[0., 0., 0., 0., 0., 0., 0., 0., 0., 0., 0., 0., 0., 0., 0., 0., 0.,\n            0., 0., 0., 0., 0., 0., 1., 0., 0., 0., 0., 0., 0., 0., 0., 0., 0.,\n            0., 0., 0., 0., 0., 0., 0., 0., 0., 0., 0., 0., 0., 0., 0., 0., 0.,\n            0., 0., 0., 0., 0., 0., 0., 0., 0., 0., 0., 0., 0., 0., 0., 0., 0.,\n            0., 0., 0., 0., 0.]],\n  \n          [[0., 0., 0., 0., 0., 0., 0., 0., 0., 0., 0., 0., 0., 0., 0., 0., 0.,\n            0., 0., 0., 0., 0., 0., 1., 0., 0., 0., 0., 0., 0., 0., 0., 0., 0.,\n            0., 0., 0., 0., 0., 0., 0., 0., 0., 0., 0., 0., 0., 0., 0., 0., 0.,\n            0., 0., 0., 0., 0., 0., 0., 0., 0., 0., 0., 0., 0., 0., 0., 0., 0.,\n            0., 0., 0., 0., 0.]],\n  \n          [[0., 0., 0., 0., 0., 0., 0., 0., 0., 0., 0., 0., 0., 0., 0., 0., 0.,\n            0., 0., 0., 0., 0., 0., 0., 0., 0., 0., 0., 0., 0., 0., 0., 0., 0.,\n            0., 0., 0., 0., 0., 0., 0., 0., 0., 0., 0., 1., 0., 0., 0., 0., 0.,\n            0., 0., 0., 0., 0., 0., 0., 0., 0., 0., 0., 0., 0., 0., 0., 0., 0.,\n            0., 0., 0., 0., 0.]]]),\n  tensor([0])),\n ('Unable',\n  'JJ',\n  tensor([[[0., 0., 0., 0., 0., 0., 0., 0., 0., 0., 0., 0., 0., 0., 0., 0., 0.,\n            0., 0., 0., 0., 0., 0., 0., 0., 0., 0., 0., 0., 0., 0., 0., 0., 0.,\n            0., 0., 0., 0., 0., 0., 0., 0., 0., 0., 0., 0., 0., 0., 0., 0., 0.,\n            0., 0., 0., 0., 0., 0., 0., 0., 0., 0., 0., 0., 0., 1., 0., 0., 0.,\n            0., 0., 0., 0., 0.]],\n  \n          [[0., 0., 0., 0., 0., 0., 0., 0., 0., 0., 0., 0., 1., 0., 0., 0., 0.,\n            0., 0., 0., 0., 0., 0., 0., 0., 0., 0., 0., 0., 0., 0., 0., 0., 0.,\n            0., 0., 0., 0., 0., 0., 0., 0., 0., 0., 0., 0., 0., 0., 0., 0., 0.,\n            0., 0., 0., 0., 0., 0., 0., 0., 0., 0., 0., 0., 0., 0., 0., 0., 0.,\n            0., 0., 0., 0., 0.]],\n  \n          [[0., 0., 0., 0., 0., 0., 0., 0., 0., 0., 0., 0., 0., 0., 0., 0., 0.,\n            0., 0., 0., 0., 1., 0., 0., 0., 0., 0., 0., 0., 0., 0., 0., 0., 0.,\n            0., 0., 0., 0., 0., 0., 0., 0., 0., 0., 0., 0., 0., 0., 0., 0., 0.,\n            0., 0., 0., 0., 0., 0., 0., 0., 0., 0., 0., 0., 0., 0., 0., 0., 0.,\n            0., 0., 0., 0., 0.]],\n  \n          [[0., 0., 0., 0., 0., 0., 0., 0., 0., 0., 0., 0., 0., 0., 0., 0., 0.,\n            0., 0., 0., 0., 0., 0., 0., 0., 0., 0., 0., 1., 0., 0., 0., 0., 0.,\n            0., 0., 0., 0., 0., 0., 0., 0., 0., 0., 0., 0., 0., 0., 0., 0., 0.,\n            0., 0., 0., 0., 0., 0., 0., 0., 0., 0., 0., 0., 0., 0., 0., 0., 0.,\n            0., 0., 0., 0., 0.]],\n  \n          [[0., 0., 0., 0., 0., 0., 0., 0., 0., 0., 0., 0., 0., 0., 0., 0., 0.,\n            0., 0., 0., 0., 0., 0., 0., 0., 0., 0., 0., 0., 0., 0., 0., 0., 0.,\n            0., 0., 0., 0., 0., 0., 0., 0., 0., 0., 0., 0., 1., 0., 0., 0., 0.,\n            0., 0., 0., 0., 0., 0., 0., 0., 0., 0., 0., 0., 0., 0., 0., 0., 0.,\n            0., 0., 0., 0., 0.]],\n  \n          [[0., 0., 0., 0., 0., 0., 0., 0., 0., 0., 0., 0., 0., 0., 0., 0., 0.,\n            0., 0., 0., 0., 0., 0., 0., 0., 0., 0., 0., 0., 0., 0., 0., 0., 0.,\n            0., 0., 0., 0., 0., 0., 0., 0., 0., 0., 0., 0., 0., 0., 0., 0., 0.,\n            0., 0., 0., 0., 0., 0., 0., 0., 0., 0., 0., 1., 0., 0., 0., 0., 0.,\n            0., 0., 0., 0., 0.]]]),\n  tensor([2]))]"
     },
     "execution_count": 159,
     "metadata": {},
     "output_type": "execute_result"
    }
   ],
   "source": [
    "#create a dataloader\n",
    "\n",
    "def dataloader(batch_size, X_, y_):\n",
    "    to_ret = []\n",
    "    for i in range(batch_size):\n",
    "        index_ = np.random.randint(len(X_))\n",
    "        name, lang = X_[index_], y_[index_] #get the data at the random index\n",
    "        to_ret.append((name, lang, name_rep(name), nat_rep(lang)))\n",
    "\n",
    "    return to_ret\n",
    "dataloader(20, X_test, y_test)"
   ]
  },
  {
   "attachments": {},
   "cell_type": "markdown",
   "metadata": {
    "colab_type": "text",
    "id": "G8WWShboVpY0"
   },
   "source": [
    "### 模型的搭建"
   ]
  },
  {
   "attachments": {},
   "cell_type": "markdown",
   "metadata": {},
   "source": [
    "本部分所有代码均可根据自己实现需要进行增删改，所给代码只是一种实现的参考模版。\n",
    "\n",
    "模型需要分别构建RNN和LSTM模型"
   ]
  },
  {
   "cell_type": "code",
   "execution_count": 134,
   "metadata": {
    "colab": {},
    "colab_type": "code",
    "id": "R3lAteTGSRky",
    "ExecuteTime": {
     "start_time": "2023-05-29T22:57:04.304623Z",
     "end_time": "2023-05-29T22:57:04.329735Z"
    }
   },
   "outputs": [],
   "source": [
    "# TODO(4分)\n",
    "\n",
    "class RNN_net(nn.Module):\n",
    "\n",
    "    def __init__(self, input_size, hidden_size, output_size): # 73, 128, 14\n",
    "        super(RNN_net, self).__init__()\n",
    "        self.hidden_size = hidden_size\n",
    "        self.rnn = nn.RNN(input_size, hidden_size)\n",
    "        self.h2o = nn.Linear(hidden_size, output_size)\n",
    "        self.softmax = nn.LogSoftmax(dim=1)\n",
    "\n",
    "    \n",
    "    def forward(self, input_, hidden):\n",
    "        output, hidden = self.rnn(input_, hidden)\n",
    "        # input: [len of word, 1, len of all char = 73]\n",
    "        # hidden: [1, 128 definable]\n",
    "        # nn.RNN(73, 128)(input_, hidden)\n",
    "        output = self.h2o(output[-1])\n",
    "        #print(output.shape,'debug')\n",
    "        output = output.reshape(1,output.shape[0])\n",
    "        output = self.softmax(output)\n",
    "        #output = torch.tensor([tags.index(lang)], dtype = torch.long)\n",
    "        return output, hidden\n",
    "\n",
    "\n",
    "    def init_hidden(self):\n",
    "        return torch.zeros(1, self.hidden_size)\n"
   ]
  },
  {
   "cell_type": "code",
   "execution_count": 135,
   "metadata": {
    "ExecuteTime": {
     "start_time": "2023-05-29T22:57:04.310273Z",
     "end_time": "2023-05-29T22:57:04.330735Z"
    }
   },
   "outputs": [],
   "source": [
    "# TODO(4分)\n",
    "\n",
    "class LSTM_net(nn.Module):\n",
    "    def __init__(self, input_size, hidden_size, output_size):\n",
    "        super(LSTM_net, self).__init__()\n",
    "        self.hidden_size = hidden_size\n",
    "        self.lstm = nn.LSTM(input_size, hidden_size)\n",
    "        self.h2o = nn.Linear(hidden_size, output_size)\n",
    "        self.softmax = nn.LogSoftmax(dim=1)\n",
    "\n",
    "    def forward(self, input_, hidden):\n",
    "        output, hidden = self.lstm(input_, hidden)\n",
    "        output = self.h2o(output[-1])\n",
    "        output = output.reshape(1,output.shape[0])\n",
    "        output = self.softmax(output)\n",
    "        return output, hidden\n",
    "\n",
    "    def init_hidden(self):\n",
    "        return (torch.zeros(1, self.hidden_size), torch.zeros(1, self.hidden_size))"
   ]
  },
  {
   "attachments": {},
   "cell_type": "markdown",
   "metadata": {},
   "source": [
    "### 模型的训练\n"
   ]
  },
  {
   "attachments": {},
   "cell_type": "markdown",
   "metadata": {},
   "source": [
    "本部分所有代码均可根据自己实现需要进行增删改，所给代码只是一种实现的参考模版。"
   ]
  },
  {
   "cell_type": "code",
   "execution_count": 136,
   "metadata": {
    "ExecuteTime": {
     "start_time": "2023-05-29T22:57:04.316581Z",
     "end_time": "2023-05-29T22:57:04.330735Z"
    }
   },
   "outputs": [],
   "source": [
    "#function to train the data\n",
    "\n",
    "def train_step(net, opt, criterion, batch_size):\n",
    "    \n",
    "    opt.zero_grad()\n",
    "    total_loss = 0\n",
    "    data_ = dataloader(batch_size, X_train, y_train)\n",
    "    for name, language, name_ohe, lang_rep in data_:\n",
    "        #print(name, language, name_ohe, lang_rep)\n",
    "        hidden = net.init_hidden()\n",
    "\n",
    "        for i in range(name_ohe.size()[0]):\n",
    "            print(name_ohe[i],name_ohe[i].shape)\n",
    "            output, hidden = net(name_ohe[i], hidden) # name_ohe[i]: single char, one-hotted [1, 73]\n",
    "        #print(output.shape, lang_rep.shape)\n",
    "        loss = criterion(output, lang_rep)\n",
    "        loss.backward(retain_graph=True)\n",
    "        \n",
    "        total_loss += loss\n",
    "        \n",
    "    opt.step()       \n",
    "            \n",
    "    return total_loss/batch_size"
   ]
  },
  {
   "cell_type": "code",
   "execution_count": 137,
   "metadata": {
    "ExecuteTime": {
     "start_time": "2023-05-29T22:57:04.322863Z",
     "end_time": "2023-05-29T22:57:04.330735Z"
    }
   },
   "outputs": [],
   "source": [
    "def train(net, lr = 0.01, steps = 100, batch_size = 10, momentum = 0.9, freq = 5):\n",
    "\n",
    "    # TODO(2分)\n",
    "    criterion = nn.NLLLoss()\n",
    "    opt = optim.SGD(net.parameters(), lr=lr, momentum=momentum)\n",
    "\n",
    "    loss_arr = np.zeros(steps)\n",
    "\n",
    "    #iterate through all the batches\n",
    "    for i in range(steps):\n",
    "        loss_arr[i] = train_step(net, opt, criterion, batch_size)\n",
    "        if (i+1)%freq==0: \n",
    "            print(\"Iteration number:\", i + 1,'Loss:', round(loss_arr[i],4))\n",
    "\n",
    "    plt.figure()\n",
    "    plt.plot(loss_arr, \"-*\")\n",
    "    plt.xlabel(\"Iteration\")\n",
    "    plt.ylabel(\"Loss\")\n",
    "    plt.show()\n",
    "    print(\"\\n\\n\")\n"
   ]
  },
  {
   "cell_type": "code",
   "execution_count": 150,
   "metadata": {
    "ExecuteTime": {
     "start_time": "2023-05-29T23:33:16.672631Z",
     "end_time": "2023-05-29T23:37:42.414852Z"
    }
   },
   "outputs": [
    {
     "name": "stdout",
     "output_type": "stream",
     "text": [
      "Iteration number: 5 Loss: 2.382\n",
      "Iteration number: 10 Loss: 2.2352\n",
      "Iteration number: 15 Loss: 2.0763\n",
      "Iteration number: 20 Loss: 2.0327\n",
      "Iteration number: 25 Loss: 1.7863\n",
      "Iteration number: 30 Loss: 1.7437\n",
      "Iteration number: 35 Loss: 1.8019\n",
      "Iteration number: 40 Loss: 1.6907\n",
      "Iteration number: 45 Loss: 1.4941\n",
      "Iteration number: 50 Loss: 1.6072\n",
      "Iteration number: 55 Loss: 1.453\n",
      "Iteration number: 60 Loss: 1.2953\n",
      "Iteration number: 65 Loss: 1.2499\n",
      "Iteration number: 70 Loss: 1.2341\n",
      "Iteration number: 75 Loss: 1.2389\n",
      "Iteration number: 80 Loss: 1.1227\n",
      "Iteration number: 85 Loss: 1.0172\n",
      "Iteration number: 90 Loss: 1.2206\n",
      "Iteration number: 95 Loss: 1.1909\n",
      "Iteration number: 100 Loss: 1.086\n",
      "Iteration number: 105 Loss: 1.2589\n",
      "Iteration number: 110 Loss: 1.1757\n",
      "Iteration number: 115 Loss: 1.2215\n",
      "Iteration number: 120 Loss: 1.1023\n",
      "Iteration number: 125 Loss: 1.0445\n",
      "Iteration number: 130 Loss: 1.2291\n",
      "Iteration number: 135 Loss: 1.1362\n",
      "Iteration number: 140 Loss: 1.2438\n",
      "Iteration number: 145 Loss: 1.1129\n",
      "Iteration number: 150 Loss: 0.9969\n",
      "Iteration number: 155 Loss: 1.2138\n",
      "Iteration number: 160 Loss: 1.4646\n",
      "Iteration number: 165 Loss: 1.2783\n",
      "Iteration number: 170 Loss: 1.2391\n",
      "Iteration number: 175 Loss: 1.1968\n",
      "Iteration number: 180 Loss: 1.2601\n",
      "Iteration number: 185 Loss: 1.5414\n",
      "Iteration number: 190 Loss: 1.2243\n",
      "Iteration number: 195 Loss: 1.0805\n",
      "Iteration number: 200 Loss: 1.1827\n",
      "Iteration number: 205 Loss: 1.0558\n",
      "Iteration number: 210 Loss: 1.0882\n",
      "Iteration number: 215 Loss: 1.0969\n",
      "Iteration number: 220 Loss: 1.2599\n",
      "Iteration number: 225 Loss: 1.2445\n",
      "Iteration number: 230 Loss: 1.1609\n",
      "Iteration number: 235 Loss: 1.1322\n",
      "Iteration number: 240 Loss: 1.3735\n",
      "Iteration number: 245 Loss: 1.1076\n",
      "Iteration number: 250 Loss: 1.0617\n",
      "Iteration number: 255 Loss: 0.9709\n",
      "Iteration number: 260 Loss: 1.0166\n",
      "Iteration number: 265 Loss: 1.0669\n",
      "Iteration number: 270 Loss: 1.0278\n",
      "Iteration number: 275 Loss: 1.2707\n",
      "Iteration number: 280 Loss: 1.267\n",
      "Iteration number: 285 Loss: 1.1378\n",
      "Iteration number: 290 Loss: 1.1304\n",
      "Iteration number: 295 Loss: 1.2482\n",
      "Iteration number: 300 Loss: 1.0254\n"
     ]
    },
    {
     "data": {
      "text/plain": "<Figure size 640x480 with 1 Axes>",
      "image/png": "[encoded data removed]"
     },
     "metadata": {},
     "output_type": "display_data"
    },
    {
     "name": "stdout",
     "output_type": "stream",
     "text": [
      "\n",
      "\n",
      "\n"
     ]
    }
   ],
   "source": [
    "# RNN训练\n",
    "n_hidden = 128\n",
    "rnn_net = RNN_net(n_letters, n_hidden, n_tags)\n",
    "train(rnn_net, lr = 0.0005, steps = 300, batch_size = 256)\n"
   ]
  },
  {
   "cell_type": "code",
   "execution_count": 145,
   "metadata": {
    "ExecuteTime": {
     "start_time": "2023-05-29T23:06:29.483203Z",
     "end_time": "2023-05-29T23:19:32.641977Z"
    }
   },
   "outputs": [
    {
     "name": "stdout",
     "output_type": "stream",
     "text": [
      "Iteration number: 5 Loss: 2.5413\n",
      "Iteration number: 10 Loss: 2.306\n",
      "Iteration number: 15 Loss: 2.2843\n",
      "Iteration number: 20 Loss: 2.1765\n",
      "Iteration number: 25 Loss: 2.209\n",
      "Iteration number: 30 Loss: 2.1957\n",
      "Iteration number: 35 Loss: 2.216\n",
      "Iteration number: 40 Loss: 2.1705\n",
      "Iteration number: 45 Loss: 2.0824\n",
      "Iteration number: 50 Loss: 2.1326\n",
      "Iteration number: 55 Loss: 2.1727\n",
      "Iteration number: 60 Loss: 2.1433\n",
      "Iteration number: 65 Loss: 1.9819\n",
      "Iteration number: 70 Loss: 2.0242\n",
      "Iteration number: 75 Loss: 1.903\n",
      "Iteration number: 80 Loss: 1.7621\n",
      "Iteration number: 85 Loss: 1.6864\n",
      "Iteration number: 90 Loss: 1.7459\n",
      "Iteration number: 95 Loss: 1.76\n",
      "Iteration number: 100 Loss: 1.6543\n",
      "Iteration number: 105 Loss: 1.5386\n",
      "Iteration number: 110 Loss: 1.6014\n",
      "Iteration number: 115 Loss: 1.5592\n",
      "Iteration number: 120 Loss: 1.4982\n",
      "Iteration number: 125 Loss: 1.4125\n",
      "Iteration number: 130 Loss: 1.3908\n",
      "Iteration number: 135 Loss: 1.4318\n",
      "Iteration number: 140 Loss: 1.3396\n",
      "Iteration number: 145 Loss: 1.4159\n",
      "Iteration number: 150 Loss: 1.3724\n",
      "Iteration number: 155 Loss: 1.3743\n",
      "Iteration number: 160 Loss: 1.2688\n",
      "Iteration number: 165 Loss: 1.1714\n",
      "Iteration number: 170 Loss: 1.5777\n",
      "Iteration number: 175 Loss: 1.6164\n",
      "Iteration number: 180 Loss: 1.2379\n",
      "Iteration number: 185 Loss: 1.2766\n",
      "Iteration number: 190 Loss: 1.3849\n",
      "Iteration number: 195 Loss: 1.3115\n",
      "Iteration number: 200 Loss: 1.1631\n",
      "Iteration number: 205 Loss: 1.3013\n",
      "Iteration number: 210 Loss: 1.2533\n",
      "Iteration number: 215 Loss: 1.1126\n",
      "Iteration number: 220 Loss: 1.1145\n",
      "Iteration number: 225 Loss: 1.0754\n",
      "Iteration number: 230 Loss: 1.0796\n",
      "Iteration number: 235 Loss: 1.6536\n",
      "Iteration number: 240 Loss: 1.2619\n",
      "Iteration number: 245 Loss: 1.2459\n",
      "Iteration number: 250 Loss: 1.2763\n",
      "Iteration number: 255 Loss: 1.1878\n",
      "Iteration number: 260 Loss: 1.0958\n",
      "Iteration number: 265 Loss: 1.1805\n",
      "Iteration number: 270 Loss: 1.1852\n",
      "Iteration number: 275 Loss: 1.2022\n",
      "Iteration number: 280 Loss: 1.0845\n",
      "Iteration number: 285 Loss: 1.1686\n",
      "Iteration number: 290 Loss: 0.9329\n",
      "Iteration number: 295 Loss: 0.8804\n",
      "Iteration number: 300 Loss: 1.0657\n"
     ]
    },
    {
     "data": {
      "text/plain": "<Figure size 640x480 with 1 Axes>",
      "image/png": "[encoded data removed]"
     },
     "metadata": {},
     "output_type": "display_data"
    },
    {
     "name": "stdout",
     "output_type": "stream",
     "text": [
      "\n",
      "\n",
      "\n"
     ]
    }
   ],
   "source": [
    "# LSTM训练\n",
    "n_hidden = 128\n",
    "lstm_net = LSTM_net(n_letters, n_hidden, n_tags)\n",
    "train(lstm_net, lr = 0.0005, steps = 300, batch_size = 256)\n"
   ]
  },
  {
   "attachments": {},
   "cell_type": "markdown",
   "metadata": {
    "colab_type": "text",
    "id": "MONZ_pPiZGnI"
   },
   "source": [
    "### 模型效果评价\n"
   ]
  },
  {
   "attachments": {},
   "cell_type": "markdown",
   "metadata": {},
   "source": [
    "分别输出RNN模型和LSTM模型在训练集和测试集上的正确率。**注意最终提交的版本必须已经正确显示这四个值，如果需要助教重新跑模型得到结果，会扣除2分。**\n"
   ]
  },
  {
   "cell_type": "code",
   "execution_count": 140,
   "metadata": {
    "ExecuteTime": {
     "start_time": "2023-05-29T23:02:38.085989Z",
     "end_time": "2023-05-29T23:02:38.089042Z"
    }
   },
   "outputs": [],
   "source": [
    "def infer(net, name):\n",
    "    net.eval()\n",
    "    name_ohe = name_rep(name)\n",
    "    hidden = net.init_hidden()\n",
    "\n",
    "    for i in range(name_ohe.size()[0]):\n",
    "        output, hidden = net(name_ohe[i], hidden)\n",
    "\n",
    "    return output"
   ]
  },
  {
   "cell_type": "code",
   "execution_count": 141,
   "metadata": {
    "colab": {},
    "colab_type": "code",
    "id": "nAGLmmwNacBY",
    "ExecuteTime": {
     "start_time": "2023-05-29T23:02:38.089669Z",
     "end_time": "2023-05-29T23:02:38.096816Z"
    }
   },
   "outputs": [],
   "source": [
    "#create a function to evaluate model\n",
    "\n",
    "def eval_test(net):\n",
    "     correct = 0\n",
    "     for i in range(len(X_test)):\n",
    "        name,lang = X_test[i],y_test[i]\n",
    "        name_ohe = name_rep(name)\n",
    "        lang_rep = nat_rep(lang)\n",
    "        output = infer(net, name) \n",
    "        val, indices = output.topk(1) \n",
    "    \n",
    "        if indices == lang_rep:\n",
    "            correct += 1\n",
    "     accuracy = correct/len(X_test)\n",
    "\n",
    "     return accuracy"
   ]
  },
  {
   "cell_type": "code",
   "execution_count": 142,
   "metadata": {
    "ExecuteTime": {
     "start_time": "2023-05-29T23:02:38.097941Z",
     "end_time": "2023-05-29T23:02:38.103176Z"
    }
   },
   "outputs": [],
   "source": [
    "#create a function to evaluate model\n",
    "\n",
    "def eval_train(net):\n",
    "     correct = 0\n",
    "     for i in range(len(X_train)):\n",
    "        name,lang = X_train[i],y_train[i]\n",
    "        name_ohe = name_rep(name)\n",
    "        lang_rep = nat_rep(lang)\n",
    "        output = infer(net, name) \n",
    "        val, indices = output.topk(1) \n",
    "    \n",
    "        if indices == lang_rep:\n",
    "            correct += 1\n",
    "     accuracy = correct/len(X_train)\n",
    "\n",
    "     return accuracy"
   ]
  },
  {
   "cell_type": "code",
   "execution_count": 151,
   "metadata": {
    "colab": {
     "base_uri": "https://localhost:8080/",
     "height": 34
    },
    "colab_type": "code",
    "id": "BI5ItvwdXx3w",
    "outputId": "3e37ac9e-fc46-4231-bc58-de49d11d173e",
    "ExecuteTime": {
     "start_time": "2023-05-29T23:39:21.080670Z",
     "end_time": "2023-05-29T23:39:35.476369Z"
    }
   },
   "outputs": [
    {
     "name": "stdout",
     "output_type": "stream",
     "text": [
      "rnn结果\n",
      "train set accuracy:0.5866\n",
      "test set accuracy:0.5771\n"
     ]
    }
   ],
   "source": [
    "print(\"rnn结果\")\n",
    "print(\"train set accuracy:\"+str(round(eval_train(rnn_net),4)))\n",
    "print(\"test set accuracy:\"+str(round(eval_test(rnn_net),4)))"
   ]
  },
  {
   "cell_type": "code",
   "execution_count": 146,
   "metadata": {
    "colab": {},
    "colab_type": "code",
    "id": "tWqm3pgUaJgl",
    "ExecuteTime": {
     "start_time": "2023-05-29T23:19:56.412877Z",
     "end_time": "2023-05-29T23:20:40.720968Z"
    }
   },
   "outputs": [
    {
     "name": "stdout",
     "output_type": "stream",
     "text": [
      "LSTM结果\n",
      "train set accuracy:0.6175\n",
      "test set accuracy:0.6217\n"
     ]
    }
   ],
   "source": [
    "print(\"LSTM结果\")\n",
    "print(\"train set accuracy:\"+str(round(eval_train(lstm_net),4)))\n",
    "print(\"test set accuracy:\"+str(round(eval_test(lstm_net),4)))"
   ]
  }
 ],
 "metadata": {
  "accelerator": "GPU",
  "colab": {
   "collapsed_sections": [],
   "name": "Name2Nation.ipynb",
   "provenance": []
  },
  "kernelspec": {
   "display_name": "Python 3",
   "language": "python",
   "name": "python3"
  },
  "language_info": {
   "codemirror_mode": {
    "name": "ipython",
    "version": 3
   },
   "file_extension": ".py",
   "mimetype": "text/x-python",
   "name": "python",
   "nbconvert_exporter": "python",
   "pygments_lexer": "ipython3",
   "version": "3.9.13"
  }
 },
 "nbformat": 4,
 "nbformat_minor": 4
}
