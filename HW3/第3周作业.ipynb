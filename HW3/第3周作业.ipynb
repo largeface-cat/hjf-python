{
 "cells": [
  {
   "cell_type": "markdown",
   "metadata": {},
   "source": [
    "# Homework_2023_03_02\n",
    "\n",
    "指导老师：胡俊峰\n",
    "\n",
    "负责助教：朱成轩、李一飞\n",
    "\n",
    "已选课、教学网上无法看到这门课的同学可用邮件提交，邮箱仍为liyifei@stu.pku.edu.cn\n",
    "\n",
    "注意：仅需要提交.ipynb文件，请**不要**将下发压缩包中的random_ID_list.txt一并交上。"
   ]
  },
  {
   "cell_type": "markdown",
   "metadata": {},
   "source": [
    "## 第零部分：请认真阅读代码，理解代码的功能，并简要分析代码"
   ]
  },
  {
   "cell_type": "markdown",
   "metadata": {},
   "source": [
    "### 0.1 python引用计数\n",
    "在一些代码中，如果存在一些变量但是没有用，会造成内存空间，因此叫做垃圾，所以要回收。\n",
    "\n",
    "引用计数增加的场景有：\n",
    "* 对象被创建并赋值给某个变量，比如：a = 'ABC'\n",
    "* 变量间的相互引用（相当于变量指向了同一个对象），比如：b=a\n",
    "* 变量作为参数传到函数中。比如：ref_method(a)，\n",
    "* 将对象放到某个容器对象中(列表、元组、字典)。比如：c = [1, a, 'abc']\n",
    "\n",
    "引用计数减少的场景有：\n",
    "* 当一个变量离开了作用域，比如：函数执行完成时，执行方法前后的引用计数保持不变，这就是因为方法执行完后，对象的引用计数也会减少，如果在方法内打印，则能看到引用计数增加的效果。\n",
    "* 对象的引用变量被销毁时，比如del a或者del b。注意如果del a，再去获取a的引用计数会直接报错。\n",
    "* 对象被从容器对象中移除，比如：c.remove(a)\n",
    "* 直接将整个容器销毁，比如：del c\n",
    "* 对象的引用被赋值给其他对象，相当于变量不指向之前的对象，而是指向了一个新的对象，这种情况，引用计数肯定会发生改变。(排除两个对象默认引用计一致的场景)\n"
   ]
  },
  {
   "cell_type": "code",
   "execution_count": 1,
   "metadata": {},
   "outputs": [
    {
     "name": "stdout",
     "output_type": "stream",
     "text": [
      "测试引用计数增加\n",
      "87\n",
      "88\n",
      "90\n",
      "我调用了A\n",
      "方法执行完了\n",
      "88\n",
      "89\n",
      "测试引用计数减少\n",
      "88\n",
      "87\n",
      "87\n",
      "4\n"
     ]
    }
   ],
   "source": [
    "import sys\n",
    "\n",
    "\n",
    "def ref_method(str):\n",
    "    print(sys.getrefcount(str))\n",
    "    print(\"我调用了{}\".format(str))\n",
    "    print('方法执行完了')\n",
    "\n",
    "\n",
    "def ref_count():\n",
    "    # 引用计数增加的场景\n",
    "    print('测试引用计数增加')\n",
    "    a = 'A'\n",
    "    print(sys.getrefcount(a))  \n",
    "    b = a\n",
    "    print(sys.getrefcount(a))\n",
    "    ref_method(a)\n",
    "    print(sys.getrefcount(a))\n",
    "    c = [1, a, 'abc']\n",
    "    print(sys.getrefcount(a))\n",
    "\n",
    "    # 引用计数减少的场景\n",
    "    print('测试引用计数减少')\n",
    "    del b\n",
    "    print(sys.getrefcount(a))\n",
    "    c.remove(a)\n",
    "    print(sys.getrefcount(a))\n",
    "    del c\n",
    "    print(sys.getrefcount(a))\n",
    "    a = 783\n",
    "    print(sys.getrefcount(a))\n",
    "\n",
    "if __name__ == '__main__':\n",
    "    ref_count()\n",
    "\n",
    "# \"\"\"\n",
    "# ########## 可能的输出 ##########\n",
    "# 测试引用计数增加\n",
    "# 78   #77+1 77在函数中是随机的\n",
    "# 79\n",
    "# 81\n",
    "# 我调用了A\n",
    "# 方法执行完了\n",
    "# 79\n",
    "# 80\n",
    "# 测试引用计数减少\n",
    "# 79\n",
    "# 78\n",
    "# 78\n",
    "# 4\n",
    "# \"\"\""
   ]
  },
  {
   "cell_type": "markdown",
   "metadata": {},
   "source": [
    "### 0.2 阅读下面三段关于迭代器的代码，思考应该有的运行效果。运行代码并观察思考与预想结果有区别的原因。"
   ]
  },
  {
   "cell_type": "code",
   "execution_count": 1,
   "metadata": {},
   "outputs": [
    {
     "name": "stdout",
     "output_type": "stream",
     "text": [
      "1\n",
      "2\n",
      "3\n"
     ]
    }
   ],
   "source": [
    "l = [1, 2, 3]  # define a list\n",
    "l_iter = iter(l)  # create list_iterator\n",
    " \n",
    "while True:\n",
    "    # item will be \"end\" if iteration is complete\n",
    "    item = next(l_iter, \"end\")\n",
    "    if item == \"end\":\n",
    "        break\n",
    "    print(item) # 预想：1 2 3"
   ]
  },
  {
   "cell_type": "code",
   "execution_count": 217,
   "metadata": {},
   "outputs": [
    {
     "ename": "TypeError",
     "evalue": "'list' object is not an iterator",
     "output_type": "error",
     "traceback": [
      "\u001B[1;31m---------------------------------------------------------------------------\u001B[0m",
      "\u001B[1;31mTypeError\u001B[0m                                 Traceback (most recent call last)",
      "Cell \u001B[1;32mIn[217], line 4\u001B[0m\n\u001B[0;32m      1\u001B[0m li \u001B[38;5;241m=\u001B[39m [\u001B[38;5;241m1\u001B[39m, \u001B[38;5;241m2\u001B[39m, \u001B[38;5;241m3\u001B[39m]  \u001B[38;5;66;03m# define a list\u001B[39;00m\n\u001B[0;32m      3\u001B[0m \u001B[38;5;28;01mwhile\u001B[39;00m \u001B[38;5;28;01mTrue\u001B[39;00m:\n\u001B[1;32m----> 4\u001B[0m     item \u001B[38;5;241m=\u001B[39m \u001B[38;5;28;43mnext\u001B[39;49m\u001B[43m(\u001B[49m\u001B[43mli\u001B[49m\u001B[43m,\u001B[49m\u001B[43m \u001B[49m\u001B[38;5;124;43m\"\u001B[39;49m\u001B[38;5;124;43mend\u001B[39;49m\u001B[38;5;124;43m\"\u001B[39;49m\u001B[43m)\u001B[49m\n\u001B[0;32m      5\u001B[0m     \u001B[38;5;28;01mif\u001B[39;00m item \u001B[38;5;241m==\u001B[39m \u001B[38;5;124m\"\u001B[39m\u001B[38;5;124mend\u001B[39m\u001B[38;5;124m\"\u001B[39m:\n\u001B[0;32m      6\u001B[0m         \u001B[38;5;28;01mbreak\u001B[39;00m\n",
      "\u001B[1;31mTypeError\u001B[0m: 'list' object is not an iterator"
     ]
    }
   ],
   "source": [
    "li = [1, 2, 3]  # define a list\n",
    " \n",
    "while True:\n",
    "    item = next(li, \"end\")\n",
    "    if item == \"end\":\n",
    "        break\n",
    "    print(item) #预想：[1,2,3]\n",
    "    #实际：typeerror ，因为next(iterator[, default]),   如果default被设为值，则\n",
    "    #迭代结束返回该值而不是抛出异常。第一个参数必须是迭代器"
   ]
  },
  {
   "cell_type": "code",
   "execution_count": 3,
   "metadata": {},
   "outputs": [
    {
     "name": "stdout",
     "output_type": "stream",
     "text": [
      "1\n",
      "2\n",
      "3\n"
     ]
    }
   ],
   "source": [
    "l = (i for i in [1, 2, 3])  # define a generater\n",
    " \n",
    "while True:\n",
    "    item = next(l,'end')\n",
    "    if item == \"end\":\n",
    "        break\n",
    "    print(item) # 预想：1 2 3"
   ]
  },
  {
   "cell_type": "markdown",
   "metadata": {},
   "source": [
    "#### 0.3 阅读理解下面多继承关系的例子（from：geeksforgeeks）"
   ]
  },
  {
   "cell_type": "code",
   "execution_count": 12,
   "metadata": {},
   "outputs": [
    {
     "name": "stdout",
     "output_type": "stream",
     "text": [
      "Dog cannot fly\n",
      "Dog cannot swim\n",
      "Dog Is a mammal\n"
     ]
    }
   ],
   "source": [
    "class Mammal():\n",
    " \n",
    "    def __init__(self, name):\n",
    "        print(name, \"Is a mammal\")\n",
    " \n",
    "class canFly(Mammal):\n",
    " \n",
    "    def __init__(self, canFly_name):\n",
    "        print(canFly_name, \"cannot fly\")\n",
    " \n",
    "        # Calling Parent class\n",
    "        # Constructor\n",
    "        super().__init__(canFly_name)\n",
    " \n",
    "class canSwim(Mammal):\n",
    " \n",
    "    def __init__(self, canSwim_name):\n",
    " \n",
    "        print(canSwim_name, \"cannot swim\")\n",
    " \n",
    "        super().__init__(canSwim_name)\n",
    " \n",
    "class Animal(canFly, canSwim):\n",
    " \n",
    "    def __init__(self, name):\n",
    "        super().__init__(name)\n",
    "#MRO\n",
    "#每个祖先类只出现一次\n",
    "#类总是出现在其祖先之前（“单调性”）。\n",
    "#同一类的直接父类应按照类定义中列出的顺序显示（“一致的本地优先顺序”）。\n",
    "#如果A类的子类总是出现在B类的子类之前，则A应出现在B类之前（“一致的扩展优先顺序”）。\n",
    "#网上看到的（\n",
    " \n",
    "# Driver Code\n",
    "Carol = Animal(\"Dog\")"
   ]
  },
  {
   "cell_type": "markdown",
   "metadata": {},
   "source": [
    "## 第一部分：基础练习（75 分）\n"
   ]
  },
  {
   "cell_type": "markdown",
   "metadata": {},
   "source": [
    "#### 1.1 创建一个名为PkuClass 的类，完成以下要求：\n",
    "1. 该类的\\_\\_init\\_\\_()方法需要两个参数，依次用于指定课程的学生人数与老师人数。（5分）\n",
    "2. 该类有一个名为describe_class()的方法，能够返回student_num和teacher_num。（5分）\n",
    "3. 该类有一个名为quit_class()的方法，需要一个参数，功能是减去传入参数相应的退课学生数。（5分）"
   ]
  },
  {
   "cell_type": "code",
   "execution_count": 3,
   "metadata": {},
   "outputs": [
    {
     "name": "stdout",
     "output_type": "stream",
     "text": [
      "Test passed!\n"
     ]
    }
   ],
   "source": [
    "class PkuClass:\n",
    "    def __init__(self, s_n, t_n):\n",
    "        # TODO\n",
    "        self.s = s_n\n",
    "        self.t = t_n\n",
    "    \n",
    "    def describe_class(self):\n",
    "        # TODO\n",
    "        return self.s, self.t\n",
    "    \n",
    "    def quit(self,s_n):\n",
    "        # TODO\n",
    "        self.s -= s_n\n",
    "        \n",
    "pkuclass = PkuClass(100,1)\n",
    "pkuclass.quit(10)\n",
    "assert pkuclass.describe_class() == (90,1)\n",
    "print('Test passed!')"
   ]
  },
  {
   "cell_type": "markdown",
   "metadata": {},
   "source": [
    "#### 1.2 继承PkuClass类实现一个PythonClass，同时完成以下要求：\n",
    "1. 修改__init__()方法，传入参数为文件名与老师的数量，从而导入选课学生的ID到student_id属性（15分）\n",
    "2. 修改相应默认函数，使得可以用自然数index作为键，来获取对应的选课名单中的第index个学生的ID（若index超出选课人数，返回None）（10分）\n",
    "3. 修改相应默认函数，使得直接print该类的对象就能在屏幕中打出该课程的学生人数和教师人数 (输出格式为：该课共有学生x人,老师y人)（10分）"
   ]
  },
  {
   "cell_type": "code",
   "execution_count": 4,
   "metadata": {},
   "outputs": [
    {
     "name": "stdout",
     "output_type": "stream",
     "text": [
      "该课共有学生290人,老师9人\n",
      "Test passed!\n"
     ]
    }
   ],
   "source": [
    "class PythonClass(PkuClass):\n",
    "    def __init__(self,filename,t_n):\n",
    "        # TODO\n",
    "        f = open(filename)\n",
    "        self.student_id = []\n",
    "        while (new:=f.readline()) != '':\n",
    "            self.student_id.append(new[:-1])\n",
    "        f.close()\n",
    "        super().__init__(len(self.student_id), t_n)\n",
    "    def __getitem__(self, item):\n",
    "        if item < self.s:\n",
    "            return self.student_id[item]\n",
    "        else:\n",
    "            return None\n",
    "    def __str__(self):\n",
    "        return '该课共有学生{}人,老师{}人'.format(self.s, self.t)\n",
    "# def print(self, end = '\\n'):\n",
    "#     import sys\n",
    "#     if type(self) == type(pythonclass):\n",
    "#         sys.stdout.write('该课共有学生{}人,老师{}人\\n'.format(self.s, self.t))\n",
    "#         return\n",
    "#     else:\n",
    "#         sys.stdout.write(str(self) + end)\n",
    "#     # TODO\n",
    "\n",
    "import os\n",
    "if 'random_ID_list.txt' not in os.listdir('.'):\n",
    "    raise IOError(\"请将压缩包中的random_ID_list.txt放到当前目录下！\")\n",
    "pythonclass = PythonClass('random_ID_list.txt',9)\n",
    "print(pythonclass)\n",
    "assert pythonclass[1000] is None\n",
    "assert pythonclass[0]=='21001078023'\n",
    "assert pythonclass[100]=='19101027694'\n",
    "pythonclass.quit(25)\n",
    "assert pythonclass[266] is None\n",
    "assert pythonclass.describe_class() == (265,9)\n",
    "print(\"Test passed!\")"
   ]
  },
  {
   "cell_type": "markdown",
   "metadata": {},
   "source": [
    "#### 1.3 请实现一个自定义队列类并完成模板中相应的函数（25分）\n",
    "注：队列的特点是“先进先出”，即入队列的元素会添加在队尾，出队列则是先弹出队首的元素。"
   ]
  },
  {
   "cell_type": "code",
   "execution_count": 5,
   "metadata": {},
   "outputs": [
    {
     "name": "stdout",
     "output_type": "stream",
     "text": [
      "Test passed!\n"
     ]
    }
   ],
   "source": [
    "class Queue():\n",
    "    # 用*arg来初始化队列\n",
    "    def __init__(self, *arg):\n",
    "        # TODO\n",
    "        self.body = list(arg)\n",
    "        self.popT = 0\n",
    "        self.pushT = 0\n",
    "\n",
    "    # 队末增加一个元素\n",
    "    def push(self,item):\n",
    "        # TODO\n",
    "        self.body.append(item)\n",
    "        self.pushT += 1\n",
    "\n",
    "    # 弹出队首的一个元素\n",
    "    def pop(self):\n",
    "        # TODO\n",
    "        self.body.pop(0)\n",
    "        self.popT += 1\n",
    "        \n",
    "    # 输出队列中元素总数\n",
    "    def __len__(self):\n",
    "        # TODO\n",
    "        return len(self.body)\n",
    "    \n",
    "    # 返回由2个元素构成的tuple，表示创建以来该队列的压入(push)次数和弹出(pop)次数\n",
    "    def count(self):\n",
    "        # TODO\n",
    "        return self.pushT, self.popT\n",
    "    \n",
    "    # 判断两个队列是否相等，这里的相等定义为队列内逐元素相等(相等时返回True，否则返回False)\n",
    "    def __eq__(self, y):\n",
    "        # TODO\n",
    "        return self.body == y.body\n",
    "\n",
    "queue = Queue(1, 2, 3, 4)\n",
    "assert len(queue) == 4\n",
    "queue.push(3)\n",
    "queue.pop()\n",
    "queue.push(4)\n",
    "assert queue.count() == (2, 1)\n",
    "testqueue = Queue(2, 3, 4, 3, 4)\n",
    "assert queue == testqueue\n",
    "q2 = Queue(*[i for i in range(1000)])\n",
    "q3 = Queue()\n",
    "assert len(q3)==0\n",
    "for i in range(-1,1000):\n",
    "    q3.push(i)\n",
    "q3.pop()\n",
    "assert q2 == q3\n",
    "q3.push(0)\n",
    "q3.pop()\n",
    "assert q3 != q2\n",
    "print('Test passed!')"
   ]
  },
  {
   "cell_type": "markdown",
   "metadata": {},
   "source": [
    "## 第二部分：进阶练习（25分）\n",
    "\n",
    "#### 2.1 根据给出的二叉树类的定义，补全代码（建树代码也已给出）：\n",
    "- (1) 实现BinaryTree类的height函数，返回二叉树的高度（5分）\n",
    "- (2) 实现BinayTree类的items函数，返回二叉树的中序遍历序列（用list表示）（10分）\n",
    "- (3) （选做）通过重写\\_\\_iter\\_\\_()等函数，编写一个可迭代的二叉树类，使得可以用for循环输出中序遍历序列（不计分）"
   ]
  },
  {
   "cell_type": "code",
   "execution_count": 6,
   "metadata": {},
   "outputs": [],
   "source": [
    "class BinaryTree():\n",
    "    def __init__(self, rootObj):\n",
    "        self.key = rootObj\n",
    "        self.leftChild = None\n",
    "        self.rightChild = None\n",
    "\n",
    "    def insertLeft(self, newNode):\n",
    "        if self.leftChild == None:\n",
    "            self.leftChild = BinaryTree(newNode)\n",
    "        else:\n",
    "            t = BinaryTree(newNode)\n",
    "            t.leftChild = self.leftChild\n",
    "            self.leftChild = t\n",
    "\n",
    "    def insertRight(self, newNode):\n",
    "        if self.rightChild == None:\n",
    "            self.rightChild = BinaryTree(newNode)\n",
    "        else:\n",
    "            t = BinaryTree(newNode)\n",
    "            t.rightChild = self.rightChild\n",
    "            self.rightChild = t\n",
    "\n",
    "    def getRightChild(self):\n",
    "        return self.rightChild\n",
    "\n",
    "    def getLeftChild(self):\n",
    "        return self.leftChild\n",
    "\n",
    "    def setRootVal(self, obj):\n",
    "        self.key = obj\n",
    "\n",
    "    def getRootVal(self):\n",
    "        return self.key\n",
    "    # 以上代码无需改动！\n",
    "    \n",
    "    def height(self): \n",
    "        # TODO\n",
    "        if self == None:\n",
    "            return 0\n",
    "        else:\n",
    "            return max(BinaryTree.height(self.getLeftChild())+1, BinaryTree.height(self.getRightChild())+1)\n",
    "\n",
    "    def items(self, cnt = 0):\n",
    "        cnt += 1\n",
    "        if cnt == 1:\n",
    "            BinaryTree.itemLis = []# 我不知道这里怎么写得更简单，如何在每次调用items()时清空列表，而自身递归时保留列表？\n",
    "        if self == None:\n",
    "            return\n",
    "        BinaryTree.items(self.getLeftChild(),cnt)\n",
    "        BinaryTree.itemLis.append(self.getRootVal())\n",
    "        BinaryTree.items(self.getRightChild(),cnt)\n",
    "        return BinaryTree.itemLis\n",
    "\n",
    "    \n",
    "    # 若要完成选做题，请自行定义其它需要的函数或属性\n",
    "    def __iter__(self):\n",
    "        return iter(BinaryTree.items(self))\n",
    "    # 假装在iter :)\n"
   ]
  },
  {
   "cell_type": "code",
   "execution_count": 8,
   "metadata": {},
   "outputs": [
    {
     "name": "stdout",
     "output_type": "stream",
     "text": [
      "4\n",
      "Test passed!\n",
      "[1, 3, 4, 6, 7, 8, 10, 13, 14]\n",
      "1\n",
      "3\n",
      "4\n",
      "6\n",
      "7\n",
      "8\n",
      "10\n",
      "13\n",
      "14\n"
     ]
    }
   ],
   "source": [
    "# 建树\n",
    "rt = BinaryTree(8)\n",
    "rt.insertLeft(1)\n",
    "rt.insertLeft(3)\n",
    "rt.getLeftChild().insertRight(6)\n",
    "t = rt.getLeftChild().getRightChild()\n",
    "t.insertLeft(4)\n",
    "t.insertRight(7)\n",
    "rt.insertRight(14)\n",
    "rt.insertRight(10)\n",
    "t = rt.getRightChild().getRightChild()\n",
    "t.insertLeft(13)\n",
    "\n",
    "print(rt.height())\n",
    "assert rt.height() == 4\n",
    "assert rt.items() == [1,3,4,6,7,8,10,13,14]\n",
    "print(\"Test passed!\")\n",
    "print(rt.items())\n",
    "for item in rt:\n",
    "    print(item)"
   ]
  },
  {
   "cell_type": "markdown",
   "metadata": {},
   "source": [
    "####  2.2 设计一个基于类实现的decorator，它可作用于任何函数上，并打印该函数的执行时间（10分）"
   ]
  },
  {
   "cell_type": "code",
   "execution_count": 51,
   "metadata": {},
   "outputs": [
    {
     "name": "stdout",
     "output_type": "stream",
     "text": [
      "0.2509949207305908\n"
     ]
    },
    {
     "data": {
      "text/plain": "49999995000000"
     },
     "execution_count": 51,
     "metadata": {},
     "output_type": "execute_result"
    }
   ],
   "source": [
    "import time\n",
    "\n",
    "# TODO\n",
    "class Time:\n",
    "    def __init__(self, func):\n",
    "        self.func = func\n",
    "    def __call__(self, *args, **kwargs):\n",
    "        t0 = time.time()\n",
    "        res = self.func(args[0])\n",
    "        t1 = time.time()\n",
    "        print(t1 - t0)\n",
    "        return res\n",
    "@Time\n",
    "def test(steps):\n",
    "    sum=0\n",
    "    for i in range(int(steps)):\n",
    "        sum+=i\n",
    "    return sum\n",
    "\n",
    "test(1e7)"
   ]
  },
  {
   "cell_type": "markdown",
   "metadata": {},
   "source": [
    "注意：仅需要提交.ipynb文件，请**不要**将下发压缩包中的random_ID_list.txt一并交上。"
   ]
  }
 ],
 "metadata": {
  "file_extension": ".py",
  "kernelspec": {
   "display_name": "Python 3 (ipykernel)",
   "language": "python",
   "name": "python3"
  },
  "language_info": {
   "codemirror_mode": {
    "name": "ipython",
    "version": 3
   },
   "file_extension": ".py",
   "mimetype": "text/x-python",
   "name": "python",
   "nbconvert_exporter": "python",
   "pygments_lexer": "ipython3",
   "version": "3.10.6"
  },
  "mimetype": "text/x-python",
  "name": "python",
  "npconvert_exporter": "python",
  "pygments_lexer": "ipython3",
  "version": 3,
  "vscode": {
   "interpreter": {
    "hash": "b0fa6594d8f4cbf19f97940f81e996739fb7646882a419484c72d19e05852a7e"
   }
  }
 },
 "nbformat": 4,
 "nbformat_minor": 2
}
